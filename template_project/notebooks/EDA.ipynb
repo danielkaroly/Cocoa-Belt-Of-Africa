{
 "cells": [
  {
   "cell_type": "code",
   "execution_count": 77,
   "id": "5d6bb677-c0d6-435e-9c29-4f3f37be8a99",
   "metadata": {
    "tags": []
   },
   "outputs": [],
   "source": [
    "import pandas as pd\n",
    "import plotly.express as px\n",
    "import json\n",
    "import os\n",
    "import plotly.graph_objects as go\n",
    "from plotly.subplots import make_subplots"
   ]
  },
  {
   "cell_type": "code",
   "execution_count": 6,
   "id": "aa5eb827-8571-425e-8618-ae9f7033bc26",
   "metadata": {
    "tags": []
   },
   "outputs": [
    {
     "name": "stdout",
     "output_type": "stream",
     "text": [
      "C:\\Users\\karol\\Desktop\\Coding\\Coffee-Belt-Of-Africa\\template_project\\notebooks\n"
     ]
    }
   ],
   "source": [
    "# Getting the working directory\n",
    "cwd = os.getcwd()\n",
    "print(cwd)"
   ]
  },
  {
   "cell_type": "code",
   "execution_count": 7,
   "id": "b6d7eb6f-5961-4973-b161-c87ab1891d08",
   "metadata": {
    "tags": []
   },
   "outputs": [],
   "source": [
    "# The data was downladed from https://www.fao.org/faostat/en/#data/QCL\n",
    "# Open the data and do some digging\n",
    "file_path = '../data/raw/FAOSTAT_data_en_4-5-2024-combined.csv'\n",
    "\n",
    "df = pd.read_csv(file_path)\n"
   ]
  },
  {
   "cell_type": "code",
   "execution_count": 8,
   "id": "2b82b976-0a37-4a8d-995f-abe65fb4b7fc",
   "metadata": {
    "tags": []
   },
   "outputs": [
    {
     "data": {
      "text/html": [
       "<div>\n",
       "<style scoped>\n",
       "    .dataframe tbody tr th:only-of-type {\n",
       "        vertical-align: middle;\n",
       "    }\n",
       "\n",
       "    .dataframe tbody tr th {\n",
       "        vertical-align: top;\n",
       "    }\n",
       "\n",
       "    .dataframe thead th {\n",
       "        text-align: right;\n",
       "    }\n",
       "</style>\n",
       "<table border=\"1\" class=\"dataframe\">\n",
       "  <thead>\n",
       "    <tr style=\"text-align: right;\">\n",
       "      <th></th>\n",
       "      <th>Domain Code</th>\n",
       "      <th>Domain</th>\n",
       "      <th>Area Code (M49)</th>\n",
       "      <th>Area</th>\n",
       "      <th>Element Code</th>\n",
       "      <th>Element</th>\n",
       "      <th>Item Code (CPC)</th>\n",
       "      <th>Item</th>\n",
       "      <th>Year Code</th>\n",
       "      <th>Year</th>\n",
       "      <th>Unit</th>\n",
       "      <th>Value</th>\n",
       "      <th>Flag</th>\n",
       "      <th>Flag Description</th>\n",
       "      <th>Note</th>\n",
       "    </tr>\n",
       "  </thead>\n",
       "  <tbody>\n",
       "    <tr>\n",
       "      <th>0</th>\n",
       "      <td>QCL</td>\n",
       "      <td>Crops and livestock products</td>\n",
       "      <td>120</td>\n",
       "      <td>Cameroon</td>\n",
       "      <td>5510</td>\n",
       "      <td>Production</td>\n",
       "      <td>1640</td>\n",
       "      <td>Cocoa beans</td>\n",
       "      <td>1961</td>\n",
       "      <td>1961</td>\n",
       "      <td>t</td>\n",
       "      <td>75100.0</td>\n",
       "      <td>A</td>\n",
       "      <td>Official figure</td>\n",
       "      <td>NaN</td>\n",
       "    </tr>\n",
       "    <tr>\n",
       "      <th>1</th>\n",
       "      <td>QCL</td>\n",
       "      <td>Crops and livestock products</td>\n",
       "      <td>120</td>\n",
       "      <td>Cameroon</td>\n",
       "      <td>5510</td>\n",
       "      <td>Production</td>\n",
       "      <td>1640</td>\n",
       "      <td>Cocoa beans</td>\n",
       "      <td>1962</td>\n",
       "      <td>1962</td>\n",
       "      <td>t</td>\n",
       "      <td>76000.0</td>\n",
       "      <td>A</td>\n",
       "      <td>Official figure</td>\n",
       "      <td>NaN</td>\n",
       "    </tr>\n",
       "    <tr>\n",
       "      <th>2</th>\n",
       "      <td>QCL</td>\n",
       "      <td>Crops and livestock products</td>\n",
       "      <td>120</td>\n",
       "      <td>Cameroon</td>\n",
       "      <td>5510</td>\n",
       "      <td>Production</td>\n",
       "      <td>1640</td>\n",
       "      <td>Cocoa beans</td>\n",
       "      <td>1963</td>\n",
       "      <td>1963</td>\n",
       "      <td>t</td>\n",
       "      <td>85000.0</td>\n",
       "      <td>A</td>\n",
       "      <td>Official figure</td>\n",
       "      <td>NaN</td>\n",
       "    </tr>\n",
       "    <tr>\n",
       "      <th>3</th>\n",
       "      <td>QCL</td>\n",
       "      <td>Crops and livestock products</td>\n",
       "      <td>120</td>\n",
       "      <td>Cameroon</td>\n",
       "      <td>5510</td>\n",
       "      <td>Production</td>\n",
       "      <td>1640</td>\n",
       "      <td>Cocoa beans</td>\n",
       "      <td>1964</td>\n",
       "      <td>1964</td>\n",
       "      <td>t</td>\n",
       "      <td>91200.0</td>\n",
       "      <td>A</td>\n",
       "      <td>Official figure</td>\n",
       "      <td>NaN</td>\n",
       "    </tr>\n",
       "    <tr>\n",
       "      <th>4</th>\n",
       "      <td>QCL</td>\n",
       "      <td>Crops and livestock products</td>\n",
       "      <td>120</td>\n",
       "      <td>Cameroon</td>\n",
       "      <td>5510</td>\n",
       "      <td>Production</td>\n",
       "      <td>1640</td>\n",
       "      <td>Cocoa beans</td>\n",
       "      <td>1965</td>\n",
       "      <td>1965</td>\n",
       "      <td>t</td>\n",
       "      <td>78800.0</td>\n",
       "      <td>A</td>\n",
       "      <td>Official figure</td>\n",
       "      <td>NaN</td>\n",
       "    </tr>\n",
       "    <tr>\n",
       "      <th>5</th>\n",
       "      <td>QCL</td>\n",
       "      <td>Crops and livestock products</td>\n",
       "      <td>120</td>\n",
       "      <td>Cameroon</td>\n",
       "      <td>5510</td>\n",
       "      <td>Production</td>\n",
       "      <td>1640</td>\n",
       "      <td>Cocoa beans</td>\n",
       "      <td>1966</td>\n",
       "      <td>1966</td>\n",
       "      <td>t</td>\n",
       "      <td>86500.0</td>\n",
       "      <td>A</td>\n",
       "      <td>Official figure</td>\n",
       "      <td>NaN</td>\n",
       "    </tr>\n",
       "    <tr>\n",
       "      <th>6</th>\n",
       "      <td>QCL</td>\n",
       "      <td>Crops and livestock products</td>\n",
       "      <td>120</td>\n",
       "      <td>Cameroon</td>\n",
       "      <td>5510</td>\n",
       "      <td>Production</td>\n",
       "      <td>1640</td>\n",
       "      <td>Cocoa beans</td>\n",
       "      <td>1967</td>\n",
       "      <td>1967</td>\n",
       "      <td>t</td>\n",
       "      <td>93000.0</td>\n",
       "      <td>A</td>\n",
       "      <td>Official figure</td>\n",
       "      <td>NaN</td>\n",
       "    </tr>\n",
       "    <tr>\n",
       "      <th>7</th>\n",
       "      <td>QCL</td>\n",
       "      <td>Crops and livestock products</td>\n",
       "      <td>120</td>\n",
       "      <td>Cameroon</td>\n",
       "      <td>5510</td>\n",
       "      <td>Production</td>\n",
       "      <td>1640</td>\n",
       "      <td>Cocoa beans</td>\n",
       "      <td>1968</td>\n",
       "      <td>1968</td>\n",
       "      <td>t</td>\n",
       "      <td>102000.0</td>\n",
       "      <td>A</td>\n",
       "      <td>Official figure</td>\n",
       "      <td>NaN</td>\n",
       "    </tr>\n",
       "    <tr>\n",
       "      <th>8</th>\n",
       "      <td>QCL</td>\n",
       "      <td>Crops and livestock products</td>\n",
       "      <td>120</td>\n",
       "      <td>Cameroon</td>\n",
       "      <td>5510</td>\n",
       "      <td>Production</td>\n",
       "      <td>1640</td>\n",
       "      <td>Cocoa beans</td>\n",
       "      <td>1969</td>\n",
       "      <td>1969</td>\n",
       "      <td>t</td>\n",
       "      <td>108186.0</td>\n",
       "      <td>A</td>\n",
       "      <td>Official figure</td>\n",
       "      <td>NaN</td>\n",
       "    </tr>\n",
       "    <tr>\n",
       "      <th>9</th>\n",
       "      <td>QCL</td>\n",
       "      <td>Crops and livestock products</td>\n",
       "      <td>120</td>\n",
       "      <td>Cameroon</td>\n",
       "      <td>5510</td>\n",
       "      <td>Production</td>\n",
       "      <td>1640</td>\n",
       "      <td>Cocoa beans</td>\n",
       "      <td>1970</td>\n",
       "      <td>1970</td>\n",
       "      <td>t</td>\n",
       "      <td>133770.0</td>\n",
       "      <td>A</td>\n",
       "      <td>Official figure</td>\n",
       "      <td>NaN</td>\n",
       "    </tr>\n",
       "  </tbody>\n",
       "</table>\n",
       "</div>"
      ],
      "text/plain": [
       "  Domain Code                        Domain  Area Code (M49)      Area  \\\n",
       "0         QCL  Crops and livestock products              120  Cameroon   \n",
       "1         QCL  Crops and livestock products              120  Cameroon   \n",
       "2         QCL  Crops and livestock products              120  Cameroon   \n",
       "3         QCL  Crops and livestock products              120  Cameroon   \n",
       "4         QCL  Crops and livestock products              120  Cameroon   \n",
       "5         QCL  Crops and livestock products              120  Cameroon   \n",
       "6         QCL  Crops and livestock products              120  Cameroon   \n",
       "7         QCL  Crops and livestock products              120  Cameroon   \n",
       "8         QCL  Crops and livestock products              120  Cameroon   \n",
       "9         QCL  Crops and livestock products              120  Cameroon   \n",
       "\n",
       "   Element Code     Element  Item Code (CPC)         Item  Year Code  Year  \\\n",
       "0          5510  Production             1640  Cocoa beans       1961  1961   \n",
       "1          5510  Production             1640  Cocoa beans       1962  1962   \n",
       "2          5510  Production             1640  Cocoa beans       1963  1963   \n",
       "3          5510  Production             1640  Cocoa beans       1964  1964   \n",
       "4          5510  Production             1640  Cocoa beans       1965  1965   \n",
       "5          5510  Production             1640  Cocoa beans       1966  1966   \n",
       "6          5510  Production             1640  Cocoa beans       1967  1967   \n",
       "7          5510  Production             1640  Cocoa beans       1968  1968   \n",
       "8          5510  Production             1640  Cocoa beans       1969  1969   \n",
       "9          5510  Production             1640  Cocoa beans       1970  1970   \n",
       "\n",
       "  Unit     Value Flag Flag Description Note  \n",
       "0    t   75100.0    A  Official figure  NaN  \n",
       "1    t   76000.0    A  Official figure  NaN  \n",
       "2    t   85000.0    A  Official figure  NaN  \n",
       "3    t   91200.0    A  Official figure  NaN  \n",
       "4    t   78800.0    A  Official figure  NaN  \n",
       "5    t   86500.0    A  Official figure  NaN  \n",
       "6    t   93000.0    A  Official figure  NaN  \n",
       "7    t  102000.0    A  Official figure  NaN  \n",
       "8    t  108186.0    A  Official figure  NaN  \n",
       "9    t  133770.0    A  Official figure  NaN  "
      ]
     },
     "execution_count": 8,
     "metadata": {},
     "output_type": "execute_result"
    }
   ],
   "source": [
    "df.head(10)"
   ]
  },
  {
   "cell_type": "code",
   "execution_count": 10,
   "id": "dd977dc4-7963-464e-86b7-a376077e1bb4",
   "metadata": {
    "tags": []
   },
   "outputs": [
    {
     "data": {
      "text/plain": [
       "array(['Cameroon', 'Congo', \"Côte d'Ivoire\",\n",
       "       'Democratic Republic of the Congo', 'Equatorial Guinea', 'Gabon',\n",
       "       'Ghana', 'Nigeria', 'Sao Tome and Principe', 'Sierra Leone',\n",
       "       'Togo'], dtype=object)"
      ]
     },
     "execution_count": 10,
     "metadata": {},
     "output_type": "execute_result"
    }
   ],
   "source": [
    "# The cocoa producing countries on the cocoa belt !\n",
    "df[\"Area\"].unique()"
   ]
  },
  {
   "cell_type": "code",
   "execution_count": 13,
   "id": "daf8c07f-c90e-4ada-8ba5-fc548d1931d2",
   "metadata": {
    "tags": []
   },
   "outputs": [
    {
     "data": {
      "text/plain": [
       "Index(['Domain Code', 'Domain', 'Area Code (M49)', 'Area', 'Element Code',\n",
       "       'Element', 'Item Code (CPC)', 'Item', 'Year Code', 'Year', 'Unit',\n",
       "       'Value', 'Flag', 'Flag Description', 'Note'],\n",
       "      dtype='object')"
      ]
     },
     "execution_count": 13,
     "metadata": {},
     "output_type": "execute_result"
    }
   ],
   "source": [
    "# Some of the columns need to be dropped or renamed\n",
    "df.columns"
   ]
  },
  {
   "cell_type": "code",
   "execution_count": 31,
   "id": "c95515e7-6ccd-426b-8fb8-d67083d26108",
   "metadata": {
    "tags": []
   },
   "outputs": [],
   "source": [
    "# Dropping the columns that are not of interest and renamin some of them\n",
    "\n",
    "new_df = df.drop(columns=['Domain Code', 'Domain', 'Area Code (M49)','Element Code',\n",
    "       'Element', 'Item Code (CPC)', 'Item', 'Year Code',\n",
    "       'Flag', 'Flag Description', 'Note', 'Unit'], inplace=False)\n"
   ]
  },
  {
   "cell_type": "code",
   "execution_count": 32,
   "id": "701bf3c7-eb19-4137-8743-8198b2609fa2",
   "metadata": {
    "tags": []
   },
   "outputs": [],
   "source": [
    "new_df.rename(columns={\"Area\": \"Country\", \"Value\": \"Cocoa Production (tons)\"}, inplace =True)"
   ]
  },
  {
   "cell_type": "code",
   "execution_count": 33,
   "id": "6b7ba2c8-70d1-467a-a0a5-e6a555d879f0",
   "metadata": {
    "tags": []
   },
   "outputs": [
    {
     "data": {
      "text/html": [
       "<div>\n",
       "<style scoped>\n",
       "    .dataframe tbody tr th:only-of-type {\n",
       "        vertical-align: middle;\n",
       "    }\n",
       "\n",
       "    .dataframe tbody tr th {\n",
       "        vertical-align: top;\n",
       "    }\n",
       "\n",
       "    .dataframe thead th {\n",
       "        text-align: right;\n",
       "    }\n",
       "</style>\n",
       "<table border=\"1\" class=\"dataframe\">\n",
       "  <thead>\n",
       "    <tr style=\"text-align: right;\">\n",
       "      <th></th>\n",
       "      <th>Country</th>\n",
       "      <th>Year</th>\n",
       "      <th>Cocoa Production (tons)</th>\n",
       "    </tr>\n",
       "  </thead>\n",
       "  <tbody>\n",
       "    <tr>\n",
       "      <th>0</th>\n",
       "      <td>Cameroon</td>\n",
       "      <td>1961</td>\n",
       "      <td>75100.0</td>\n",
       "    </tr>\n",
       "    <tr>\n",
       "      <th>1</th>\n",
       "      <td>Cameroon</td>\n",
       "      <td>1962</td>\n",
       "      <td>76000.0</td>\n",
       "    </tr>\n",
       "    <tr>\n",
       "      <th>2</th>\n",
       "      <td>Cameroon</td>\n",
       "      <td>1963</td>\n",
       "      <td>85000.0</td>\n",
       "    </tr>\n",
       "    <tr>\n",
       "      <th>3</th>\n",
       "      <td>Cameroon</td>\n",
       "      <td>1964</td>\n",
       "      <td>91200.0</td>\n",
       "    </tr>\n",
       "    <tr>\n",
       "      <th>4</th>\n",
       "      <td>Cameroon</td>\n",
       "      <td>1965</td>\n",
       "      <td>78800.0</td>\n",
       "    </tr>\n",
       "  </tbody>\n",
       "</table>\n",
       "</div>"
      ],
      "text/plain": [
       "    Country  Year  Cocoa Production (tons)\n",
       "0  Cameroon  1961                  75100.0\n",
       "1  Cameroon  1962                  76000.0\n",
       "2  Cameroon  1963                  85000.0\n",
       "3  Cameroon  1964                  91200.0\n",
       "4  Cameroon  1965                  78800.0"
      ]
     },
     "execution_count": 33,
     "metadata": {},
     "output_type": "execute_result"
    }
   ],
   "source": [
    "new_df.head()"
   ]
  },
  {
   "cell_type": "code",
   "execution_count": 30,
   "id": "e6ac8343-c7f1-41de-8a41-a4fa0a384878",
   "metadata": {
    "tags": []
   },
   "outputs": [
    {
     "data": {
      "text/html": [
       "<div>\n",
       "<style scoped>\n",
       "    .dataframe tbody tr th:only-of-type {\n",
       "        vertical-align: middle;\n",
       "    }\n",
       "\n",
       "    .dataframe tbody tr th {\n",
       "        vertical-align: top;\n",
       "    }\n",
       "\n",
       "    .dataframe thead th {\n",
       "        text-align: right;\n",
       "    }\n",
       "</style>\n",
       "<table border=\"1\" class=\"dataframe\">\n",
       "  <thead>\n",
       "    <tr style=\"text-align: right;\">\n",
       "      <th></th>\n",
       "      <th>Year</th>\n",
       "      <th>Cocoa Production(tons)</th>\n",
       "    </tr>\n",
       "  </thead>\n",
       "  <tbody>\n",
       "    <tr>\n",
       "      <th>count</th>\n",
       "      <td>682.000000</td>\n",
       "      <td>6.820000e+02</td>\n",
       "    </tr>\n",
       "    <tr>\n",
       "      <th>mean</th>\n",
       "      <td>1991.500000</td>\n",
       "      <td>1.711839e+05</td>\n",
       "    </tr>\n",
       "    <tr>\n",
       "      <th>std</th>\n",
       "      <td>17.908665</td>\n",
       "      <td>3.475006e+05</td>\n",
       "    </tr>\n",
       "    <tr>\n",
       "      <th>min</th>\n",
       "      <td>1961.000000</td>\n",
       "      <td>1.000000e+02</td>\n",
       "    </tr>\n",
       "    <tr>\n",
       "      <th>25%</th>\n",
       "      <td>1976.000000</td>\n",
       "      <td>4.000000e+03</td>\n",
       "    </tr>\n",
       "    <tr>\n",
       "      <th>50%</th>\n",
       "      <td>1991.500000</td>\n",
       "      <td>1.135000e+04</td>\n",
       "    </tr>\n",
       "    <tr>\n",
       "      <th>75%</th>\n",
       "      <td>2007.000000</td>\n",
       "      <td>2.011250e+05</td>\n",
       "    </tr>\n",
       "    <tr>\n",
       "      <th>max</th>\n",
       "      <td>2022.000000</td>\n",
       "      <td>2.235043e+06</td>\n",
       "    </tr>\n",
       "  </tbody>\n",
       "</table>\n",
       "</div>"
      ],
      "text/plain": [
       "              Year  Cocoa Production(tons)\n",
       "count   682.000000            6.820000e+02\n",
       "mean   1991.500000            1.711839e+05\n",
       "std      17.908665            3.475006e+05\n",
       "min    1961.000000            1.000000e+02\n",
       "25%    1976.000000            4.000000e+03\n",
       "50%    1991.500000            1.135000e+04\n",
       "75%    2007.000000            2.011250e+05\n",
       "max    2022.000000            2.235043e+06"
      ]
     },
     "execution_count": 30,
     "metadata": {},
     "output_type": "execute_result"
    }
   ],
   "source": [
    "new_df.describe()"
   ]
  },
  {
   "cell_type": "code",
   "execution_count": 47,
   "id": "6c66bb0a-f91f-4e5f-9abe-98f318c8760d",
   "metadata": {
    "tags": []
   },
   "outputs": [],
   "source": [
    "# Round the Cocoa Production(tons) to whole numbers for better readability\n",
    "new_df[\"Cocoa Production (tons)\"] = new_df[\"Cocoa Production (tons)\"].round(0).astype(int)"
   ]
  },
  {
   "cell_type": "code",
   "execution_count": 48,
   "id": "960d5e6e-f24a-4c4d-bf92-0610eff6eded",
   "metadata": {
    "tags": []
   },
   "outputs": [
    {
     "data": {
      "text/html": [
       "<div>\n",
       "<style scoped>\n",
       "    .dataframe tbody tr th:only-of-type {\n",
       "        vertical-align: middle;\n",
       "    }\n",
       "\n",
       "    .dataframe tbody tr th {\n",
       "        vertical-align: top;\n",
       "    }\n",
       "\n",
       "    .dataframe thead th {\n",
       "        text-align: right;\n",
       "    }\n",
       "</style>\n",
       "<table border=\"1\" class=\"dataframe\">\n",
       "  <thead>\n",
       "    <tr style=\"text-align: right;\">\n",
       "      <th></th>\n",
       "      <th>Country</th>\n",
       "      <th>Year</th>\n",
       "      <th>Cocoa Production (tons)</th>\n",
       "    </tr>\n",
       "  </thead>\n",
       "  <tbody>\n",
       "    <tr>\n",
       "      <th>0</th>\n",
       "      <td>Cameroon</td>\n",
       "      <td>1961</td>\n",
       "      <td>75100</td>\n",
       "    </tr>\n",
       "    <tr>\n",
       "      <th>1</th>\n",
       "      <td>Cameroon</td>\n",
       "      <td>1962</td>\n",
       "      <td>76000</td>\n",
       "    </tr>\n",
       "    <tr>\n",
       "      <th>2</th>\n",
       "      <td>Cameroon</td>\n",
       "      <td>1963</td>\n",
       "      <td>85000</td>\n",
       "    </tr>\n",
       "    <tr>\n",
       "      <th>3</th>\n",
       "      <td>Cameroon</td>\n",
       "      <td>1964</td>\n",
       "      <td>91200</td>\n",
       "    </tr>\n",
       "    <tr>\n",
       "      <th>4</th>\n",
       "      <td>Cameroon</td>\n",
       "      <td>1965</td>\n",
       "      <td>78800</td>\n",
       "    </tr>\n",
       "  </tbody>\n",
       "</table>\n",
       "</div>"
      ],
      "text/plain": [
       "    Country  Year  Cocoa Production (tons)\n",
       "0  Cameroon  1961                    75100\n",
       "1  Cameroon  1962                    76000\n",
       "2  Cameroon  1963                    85000\n",
       "3  Cameroon  1964                    91200\n",
       "4  Cameroon  1965                    78800"
      ]
     },
     "execution_count": 48,
     "metadata": {},
     "output_type": "execute_result"
    }
   ],
   "source": [
    "\n",
    "new_df.head()"
   ]
  },
  {
   "cell_type": "code",
   "execution_count": 49,
   "id": "18c0f2cf-3481-4b4d-80e2-f9f8c8b0e469",
   "metadata": {
    "tags": []
   },
   "outputs": [
    {
     "name": "stdout",
     "output_type": "stream",
     "text": [
      "<class 'pandas.core.frame.DataFrame'>\n",
      "RangeIndex: 682 entries, 0 to 681\n",
      "Data columns (total 3 columns):\n",
      " #   Column                   Non-Null Count  Dtype \n",
      "---  ------                   --------------  ----- \n",
      " 0   Country                  682 non-null    object\n",
      " 1   Year                     682 non-null    int64 \n",
      " 2   Cocoa Production (tons)  682 non-null    int32 \n",
      "dtypes: int32(1), int64(1), object(1)\n",
      "memory usage: 13.4+ KB\n"
     ]
    }
   ],
   "source": [
    "# No missing values\n",
    "new_df.info()"
   ]
  },
  {
   "cell_type": "code",
   "execution_count": 50,
   "id": "a54a34dd-70e8-4dde-a6e0-fd8b8b21dccf",
   "metadata": {
    "tags": []
   },
   "outputs": [],
   "source": [
    "# The data is in long format which is good for dotabases but not good for readability and analysis\n",
    "\n",
    "pivoted_df = new_df.pivot(index=\"Country\", columns=\"Year\", values=\"Cocoa Production (tons)\")"
   ]
  },
  {
   "cell_type": "code",
   "execution_count": 51,
   "id": "9640e484-e586-4c41-bbc7-6f506ac0acb3",
   "metadata": {
    "tags": []
   },
   "outputs": [
    {
     "data": {
      "text/html": [
       "<div>\n",
       "<style scoped>\n",
       "    .dataframe tbody tr th:only-of-type {\n",
       "        vertical-align: middle;\n",
       "    }\n",
       "\n",
       "    .dataframe tbody tr th {\n",
       "        vertical-align: top;\n",
       "    }\n",
       "\n",
       "    .dataframe thead th {\n",
       "        text-align: right;\n",
       "    }\n",
       "</style>\n",
       "<table border=\"1\" class=\"dataframe\">\n",
       "  <thead>\n",
       "    <tr style=\"text-align: right;\">\n",
       "      <th>Year</th>\n",
       "      <th>1961</th>\n",
       "      <th>1962</th>\n",
       "      <th>1963</th>\n",
       "      <th>1964</th>\n",
       "      <th>1965</th>\n",
       "      <th>1966</th>\n",
       "      <th>1967</th>\n",
       "      <th>1968</th>\n",
       "      <th>1969</th>\n",
       "      <th>1970</th>\n",
       "      <th>...</th>\n",
       "      <th>2013</th>\n",
       "      <th>2014</th>\n",
       "      <th>2015</th>\n",
       "      <th>2016</th>\n",
       "      <th>2017</th>\n",
       "      <th>2018</th>\n",
       "      <th>2019</th>\n",
       "      <th>2020</th>\n",
       "      <th>2021</th>\n",
       "      <th>2022</th>\n",
       "    </tr>\n",
       "    <tr>\n",
       "      <th>Country</th>\n",
       "      <th></th>\n",
       "      <th></th>\n",
       "      <th></th>\n",
       "      <th></th>\n",
       "      <th></th>\n",
       "      <th></th>\n",
       "      <th></th>\n",
       "      <th></th>\n",
       "      <th></th>\n",
       "      <th></th>\n",
       "      <th></th>\n",
       "      <th></th>\n",
       "      <th></th>\n",
       "      <th></th>\n",
       "      <th></th>\n",
       "      <th></th>\n",
       "      <th></th>\n",
       "      <th></th>\n",
       "      <th></th>\n",
       "      <th></th>\n",
       "      <th></th>\n",
       "    </tr>\n",
       "  </thead>\n",
       "  <tbody>\n",
       "    <tr>\n",
       "      <th>Cameroon</th>\n",
       "      <td>75100</td>\n",
       "      <td>76000</td>\n",
       "      <td>85000</td>\n",
       "      <td>91200</td>\n",
       "      <td>78800</td>\n",
       "      <td>86500</td>\n",
       "      <td>93000</td>\n",
       "      <td>102000</td>\n",
       "      <td>108186</td>\n",
       "      <td>133770</td>\n",
       "      <td>...</td>\n",
       "      <td>275000</td>\n",
       "      <td>269228</td>\n",
       "      <td>310000</td>\n",
       "      <td>344752</td>\n",
       "      <td>322248</td>\n",
       "      <td>317530</td>\n",
       "      <td>301255</td>\n",
       "      <td>280077</td>\n",
       "      <td>295000</td>\n",
       "      <td>300000</td>\n",
       "    </tr>\n",
       "    <tr>\n",
       "      <th>Congo</th>\n",
       "      <td>900</td>\n",
       "      <td>630</td>\n",
       "      <td>800</td>\n",
       "      <td>1100</td>\n",
       "      <td>800</td>\n",
       "      <td>877</td>\n",
       "      <td>1144</td>\n",
       "      <td>1288</td>\n",
       "      <td>1195</td>\n",
       "      <td>1344</td>\n",
       "      <td>...</td>\n",
       "      <td>5000</td>\n",
       "      <td>5000</td>\n",
       "      <td>2500</td>\n",
       "      <td>3800</td>\n",
       "      <td>3500</td>\n",
       "      <td>4500</td>\n",
       "      <td>5000</td>\n",
       "      <td>7000</td>\n",
       "      <td>16000</td>\n",
       "      <td>20000</td>\n",
       "    </tr>\n",
       "    <tr>\n",
       "      <th>Côte d'Ivoire</th>\n",
       "      <td>85000</td>\n",
       "      <td>110000</td>\n",
       "      <td>115000</td>\n",
       "      <td>139069</td>\n",
       "      <td>121772</td>\n",
       "      <td>149662</td>\n",
       "      <td>146640</td>\n",
       "      <td>144476</td>\n",
       "      <td>180706</td>\n",
       "      <td>179156</td>\n",
       "      <td>...</td>\n",
       "      <td>1448992</td>\n",
       "      <td>1637778</td>\n",
       "      <td>1796000</td>\n",
       "      <td>1634000</td>\n",
       "      <td>2034000</td>\n",
       "      <td>2113189</td>\n",
       "      <td>2235043</td>\n",
       "      <td>2200000</td>\n",
       "      <td>2228459</td>\n",
       "      <td>2230000</td>\n",
       "    </tr>\n",
       "    <tr>\n",
       "      <th>Democratic Republic of the Congo</th>\n",
       "      <td>5800</td>\n",
       "      <td>6500</td>\n",
       "      <td>5600</td>\n",
       "      <td>4800</td>\n",
       "      <td>4300</td>\n",
       "      <td>5300</td>\n",
       "      <td>4900</td>\n",
       "      <td>4500</td>\n",
       "      <td>4900</td>\n",
       "      <td>6200</td>\n",
       "      <td>...</td>\n",
       "      <td>2000</td>\n",
       "      <td>3000</td>\n",
       "      <td>6000</td>\n",
       "      <td>10200</td>\n",
       "      <td>13500</td>\n",
       "      <td>18475</td>\n",
       "      <td>22058</td>\n",
       "      <td>26337</td>\n",
       "      <td>20000</td>\n",
       "      <td>20000</td>\n",
       "    </tr>\n",
       "    <tr>\n",
       "      <th>Equatorial Guinea</th>\n",
       "      <td>26000</td>\n",
       "      <td>30900</td>\n",
       "      <td>33000</td>\n",
       "      <td>35100</td>\n",
       "      <td>35400</td>\n",
       "      <td>38200</td>\n",
       "      <td>33600</td>\n",
       "      <td>38000</td>\n",
       "      <td>28000</td>\n",
       "      <td>35000</td>\n",
       "      <td>...</td>\n",
       "      <td>700</td>\n",
       "      <td>892</td>\n",
       "      <td>1000</td>\n",
       "      <td>1000</td>\n",
       "      <td>1000</td>\n",
       "      <td>1000</td>\n",
       "      <td>1000</td>\n",
       "      <td>1000</td>\n",
       "      <td>600</td>\n",
       "      <td>1000</td>\n",
       "    </tr>\n",
       "    <tr>\n",
       "      <th>Gabon</th>\n",
       "      <td>3190</td>\n",
       "      <td>3360</td>\n",
       "      <td>3600</td>\n",
       "      <td>4000</td>\n",
       "      <td>2170</td>\n",
       "      <td>4296</td>\n",
       "      <td>4061</td>\n",
       "      <td>4751</td>\n",
       "      <td>4366</td>\n",
       "      <td>6095</td>\n",
       "      <td>...</td>\n",
       "      <td>200</td>\n",
       "      <td>203</td>\n",
       "      <td>100</td>\n",
       "      <td>100</td>\n",
       "      <td>100</td>\n",
       "      <td>100</td>\n",
       "      <td>100</td>\n",
       "      <td>100</td>\n",
       "      <td>100</td>\n",
       "      <td>100</td>\n",
       "    </tr>\n",
       "    <tr>\n",
       "      <th>Ghana</th>\n",
       "      <td>415200</td>\n",
       "      <td>428100</td>\n",
       "      <td>427800</td>\n",
       "      <td>580500</td>\n",
       "      <td>415800</td>\n",
       "      <td>381100</td>\n",
       "      <td>423500</td>\n",
       "      <td>327000</td>\n",
       "      <td>414300</td>\n",
       "      <td>406000</td>\n",
       "      <td>...</td>\n",
       "      <td>835466</td>\n",
       "      <td>858720</td>\n",
       "      <td>858720</td>\n",
       "      <td>858720</td>\n",
       "      <td>969300</td>\n",
       "      <td>904700</td>\n",
       "      <td>811700</td>\n",
       "      <td>800000</td>\n",
       "      <td>1047385</td>\n",
       "      <td>1108663</td>\n",
       "    </tr>\n",
       "    <tr>\n",
       "      <th>Nigeria</th>\n",
       "      <td>197000</td>\n",
       "      <td>182000</td>\n",
       "      <td>223000</td>\n",
       "      <td>298300</td>\n",
       "      <td>184600</td>\n",
       "      <td>267200</td>\n",
       "      <td>238000</td>\n",
       "      <td>191800</td>\n",
       "      <td>220800</td>\n",
       "      <td>304800</td>\n",
       "      <td>...</td>\n",
       "      <td>367000</td>\n",
       "      <td>329870</td>\n",
       "      <td>302066</td>\n",
       "      <td>298029</td>\n",
       "      <td>250000</td>\n",
       "      <td>270000</td>\n",
       "      <td>250000</td>\n",
       "      <td>357608</td>\n",
       "      <td>280000</td>\n",
       "      <td>280000</td>\n",
       "    </tr>\n",
       "    <tr>\n",
       "      <th>Sao Tome and Principe</th>\n",
       "      <td>9100</td>\n",
       "      <td>9600</td>\n",
       "      <td>7800</td>\n",
       "      <td>10700</td>\n",
       "      <td>8900</td>\n",
       "      <td>10900</td>\n",
       "      <td>10900</td>\n",
       "      <td>10600</td>\n",
       "      <td>9100</td>\n",
       "      <td>9700</td>\n",
       "      <td>...</td>\n",
       "      <td>2617</td>\n",
       "      <td>3200</td>\n",
       "      <td>3000</td>\n",
       "      <td>3001</td>\n",
       "      <td>3501</td>\n",
       "      <td>3046</td>\n",
       "      <td>3000</td>\n",
       "      <td>3000</td>\n",
       "      <td>3000</td>\n",
       "      <td>3000</td>\n",
       "    </tr>\n",
       "    <tr>\n",
       "      <th>Sierra Leone</th>\n",
       "      <td>2840</td>\n",
       "      <td>4780</td>\n",
       "      <td>3310</td>\n",
       "      <td>3180</td>\n",
       "      <td>2980</td>\n",
       "      <td>4534</td>\n",
       "      <td>3869</td>\n",
       "      <td>5039</td>\n",
       "      <td>3782</td>\n",
       "      <td>5080</td>\n",
       "      <td>...</td>\n",
       "      <td>14850</td>\n",
       "      <td>17082</td>\n",
       "      <td>12000</td>\n",
       "      <td>47705</td>\n",
       "      <td>48903</td>\n",
       "      <td>50150</td>\n",
       "      <td>14648</td>\n",
       "      <td>18000</td>\n",
       "      <td>15000</td>\n",
       "      <td>18000</td>\n",
       "    </tr>\n",
       "  </tbody>\n",
       "</table>\n",
       "<p>10 rows × 62 columns</p>\n",
       "</div>"
      ],
      "text/plain": [
       "Year                                1961    1962    1963    1964    1965  \\\n",
       "Country                                                                    \n",
       "Cameroon                           75100   76000   85000   91200   78800   \n",
       "Congo                                900     630     800    1100     800   \n",
       "Côte d'Ivoire                      85000  110000  115000  139069  121772   \n",
       "Democratic Republic of the Congo    5800    6500    5600    4800    4300   \n",
       "Equatorial Guinea                  26000   30900   33000   35100   35400   \n",
       "Gabon                               3190    3360    3600    4000    2170   \n",
       "Ghana                             415200  428100  427800  580500  415800   \n",
       "Nigeria                           197000  182000  223000  298300  184600   \n",
       "Sao Tome and Principe               9100    9600    7800   10700    8900   \n",
       "Sierra Leone                        2840    4780    3310    3180    2980   \n",
       "\n",
       "Year                                1966    1967    1968    1969    1970  ...  \\\n",
       "Country                                                                   ...   \n",
       "Cameroon                           86500   93000  102000  108186  133770  ...   \n",
       "Congo                                877    1144    1288    1195    1344  ...   \n",
       "Côte d'Ivoire                     149662  146640  144476  180706  179156  ...   \n",
       "Democratic Republic of the Congo    5300    4900    4500    4900    6200  ...   \n",
       "Equatorial Guinea                  38200   33600   38000   28000   35000  ...   \n",
       "Gabon                               4296    4061    4751    4366    6095  ...   \n",
       "Ghana                             381100  423500  327000  414300  406000  ...   \n",
       "Nigeria                           267200  238000  191800  220800  304800  ...   \n",
       "Sao Tome and Principe              10900   10900   10600    9100    9700  ...   \n",
       "Sierra Leone                        4534    3869    5039    3782    5080  ...   \n",
       "\n",
       "Year                                 2013     2014     2015     2016     2017  \\\n",
       "Country                                                                         \n",
       "Cameroon                           275000   269228   310000   344752   322248   \n",
       "Congo                                5000     5000     2500     3800     3500   \n",
       "Côte d'Ivoire                     1448992  1637778  1796000  1634000  2034000   \n",
       "Democratic Republic of the Congo     2000     3000     6000    10200    13500   \n",
       "Equatorial Guinea                     700      892     1000     1000     1000   \n",
       "Gabon                                 200      203      100      100      100   \n",
       "Ghana                              835466   858720   858720   858720   969300   \n",
       "Nigeria                            367000   329870   302066   298029   250000   \n",
       "Sao Tome and Principe                2617     3200     3000     3001     3501   \n",
       "Sierra Leone                        14850    17082    12000    47705    48903   \n",
       "\n",
       "Year                                 2018     2019     2020     2021     2022  \n",
       "Country                                                                        \n",
       "Cameroon                           317530   301255   280077   295000   300000  \n",
       "Congo                                4500     5000     7000    16000    20000  \n",
       "Côte d'Ivoire                     2113189  2235043  2200000  2228459  2230000  \n",
       "Democratic Republic of the Congo    18475    22058    26337    20000    20000  \n",
       "Equatorial Guinea                    1000     1000     1000      600     1000  \n",
       "Gabon                                 100      100      100      100      100  \n",
       "Ghana                              904700   811700   800000  1047385  1108663  \n",
       "Nigeria                            270000   250000   357608   280000   280000  \n",
       "Sao Tome and Principe                3046     3000     3000     3000     3000  \n",
       "Sierra Leone                        50150    14648    18000    15000    18000  \n",
       "\n",
       "[10 rows x 62 columns]"
      ]
     },
     "execution_count": 51,
     "metadata": {},
     "output_type": "execute_result"
    }
   ],
   "source": [
    "pivoted_df.head(10)"
   ]
  },
  {
   "cell_type": "code",
   "execution_count": 39,
   "id": "94c8240e-f895-40db-bfcc-0fef4f765340",
   "metadata": {
    "tags": []
   },
   "outputs": [
    {
     "data": {
      "text/plain": [
       "Index([1961, 1962, 1963, 1964, 1965, 1966, 1967, 1968, 1969, 1970, 1971, 1972,\n",
       "       1973, 1974, 1975, 1976, 1977, 1978, 1979, 1980, 1981, 1982, 1983, 1984,\n",
       "       1985, 1986, 1987, 1988, 1989, 1990, 1991, 1992, 1993, 1994, 1995, 1996,\n",
       "       1997, 1998, 1999, 2000, 2001, 2002, 2003, 2004, 2005, 2006, 2007, 2008,\n",
       "       2009, 2010, 2011, 2012, 2013, 2014, 2015, 2016, 2017, 2018, 2019, 2020,\n",
       "       2021, 2022],\n",
       "      dtype='int64', name='Year')"
      ]
     },
     "execution_count": 39,
     "metadata": {},
     "output_type": "execute_result"
    }
   ],
   "source": [
    "pivoted_df.columns"
   ]
  },
  {
   "cell_type": "code",
   "execution_count": 40,
   "id": "499e57fe-f376-4d8e-b70a-32c66401e004",
   "metadata": {
    "tags": []
   },
   "outputs": [
    {
     "data": {
      "text/plain": [
       "Index(['Cameroon', 'Congo', 'Côte d'Ivoire',\n",
       "       'Democratic Republic of the Congo', 'Equatorial Guinea', 'Gabon',\n",
       "       'Ghana', 'Nigeria', 'Sao Tome and Principe', 'Sierra Leone', 'Togo'],\n",
       "      dtype='object', name='Country')"
      ]
     },
     "execution_count": 40,
     "metadata": {},
     "output_type": "execute_result"
    }
   ],
   "source": [
    "pivoted_df.index"
   ]
  },
  {
   "cell_type": "code",
   "execution_count": 52,
   "id": "310654ec-d368-4dbb-8d22-f17444e4a432",
   "metadata": {
    "tags": []
   },
   "outputs": [
    {
     "data": {
      "text/html": [
       "<div>\n",
       "<style scoped>\n",
       "    .dataframe tbody tr th:only-of-type {\n",
       "        vertical-align: middle;\n",
       "    }\n",
       "\n",
       "    .dataframe tbody tr th {\n",
       "        vertical-align: top;\n",
       "    }\n",
       "\n",
       "    .dataframe thead th {\n",
       "        text-align: right;\n",
       "    }\n",
       "</style>\n",
       "<table border=\"1\" class=\"dataframe\">\n",
       "  <thead>\n",
       "    <tr style=\"text-align: right;\">\n",
       "      <th>Year</th>\n",
       "      <th>1961</th>\n",
       "      <th>1962</th>\n",
       "      <th>1963</th>\n",
       "      <th>1964</th>\n",
       "      <th>1965</th>\n",
       "      <th>1966</th>\n",
       "      <th>1967</th>\n",
       "      <th>1968</th>\n",
       "      <th>1969</th>\n",
       "      <th>1970</th>\n",
       "      <th>...</th>\n",
       "      <th>2013</th>\n",
       "      <th>2014</th>\n",
       "      <th>2015</th>\n",
       "      <th>2016</th>\n",
       "      <th>2017</th>\n",
       "      <th>2018</th>\n",
       "      <th>2019</th>\n",
       "      <th>2020</th>\n",
       "      <th>2021</th>\n",
       "      <th>2022</th>\n",
       "    </tr>\n",
       "  </thead>\n",
       "  <tbody>\n",
       "    <tr>\n",
       "      <th>count</th>\n",
       "      <td>11.000000</td>\n",
       "      <td>11.000000</td>\n",
       "      <td>11.000000</td>\n",
       "      <td>11.000000</td>\n",
       "      <td>11.000000</td>\n",
       "      <td>11.000000</td>\n",
       "      <td>11.000000</td>\n",
       "      <td>11.000000</td>\n",
       "      <td>11.000000</td>\n",
       "      <td>11.000000</td>\n",
       "      <td>...</td>\n",
       "      <td>1.100000e+01</td>\n",
       "      <td>1.100000e+01</td>\n",
       "      <td>1.100000e+01</td>\n",
       "      <td>1.100000e+01</td>\n",
       "      <td>1.100000e+01</td>\n",
       "      <td>1.100000e+01</td>\n",
       "      <td>1.100000e+01</td>\n",
       "      <td>1.100000e+01</td>\n",
       "      <td>1.100000e+01</td>\n",
       "      <td>1.100000e+01</td>\n",
       "    </tr>\n",
       "    <tr>\n",
       "      <th>mean</th>\n",
       "      <td>75607.272727</td>\n",
       "      <td>78479.090909</td>\n",
       "      <td>83528.181818</td>\n",
       "      <td>107768.090909</td>\n",
       "      <td>79074.727273</td>\n",
       "      <td>87715.363636</td>\n",
       "      <td>88904.727273</td>\n",
       "      <td>77223.090909</td>\n",
       "      <td>90812.272727</td>\n",
       "      <td>101367.727273</td>\n",
       "      <td>...</td>\n",
       "      <td>2.697114e+05</td>\n",
       "      <td>2.861050e+05</td>\n",
       "      <td>3.001260e+05</td>\n",
       "      <td>2.919370e+05</td>\n",
       "      <td>3.322320e+05</td>\n",
       "      <td>3.354718e+05</td>\n",
       "      <td>3.322185e+05</td>\n",
       "      <td>3.369202e+05</td>\n",
       "      <td>3.559585e+05</td>\n",
       "      <td>3.631603e+05</td>\n",
       "    </tr>\n",
       "    <tr>\n",
       "      <th>std</th>\n",
       "      <td>127329.846312</td>\n",
       "      <td>129527.865763</td>\n",
       "      <td>133358.268346</td>\n",
       "      <td>180989.033801</td>\n",
       "      <td>126804.298767</td>\n",
       "      <td>127981.166954</td>\n",
       "      <td>134478.554281</td>\n",
       "      <td>105556.773149</td>\n",
       "      <td>132485.099117</td>\n",
       "      <td>140321.576937</td>\n",
       "      <td>...</td>\n",
       "      <td>4.699139e+05</td>\n",
       "      <td>5.197525e+05</td>\n",
       "      <td>5.621232e+05</td>\n",
       "      <td>5.176907e+05</td>\n",
       "      <td>6.349452e+05</td>\n",
       "      <td>6.498279e+05</td>\n",
       "      <td>6.778139e+05</td>\n",
       "      <td>6.662511e+05</td>\n",
       "      <td>6.953912e+05</td>\n",
       "      <td>7.015001e+05</td>\n",
       "    </tr>\n",
       "    <tr>\n",
       "      <th>min</th>\n",
       "      <td>900.000000</td>\n",
       "      <td>630.000000</td>\n",
       "      <td>800.000000</td>\n",
       "      <td>1100.000000</td>\n",
       "      <td>800.000000</td>\n",
       "      <td>877.000000</td>\n",
       "      <td>1144.000000</td>\n",
       "      <td>1288.000000</td>\n",
       "      <td>1195.000000</td>\n",
       "      <td>1344.000000</td>\n",
       "      <td>...</td>\n",
       "      <td>2.000000e+02</td>\n",
       "      <td>2.030000e+02</td>\n",
       "      <td>1.000000e+02</td>\n",
       "      <td>1.000000e+02</td>\n",
       "      <td>1.000000e+02</td>\n",
       "      <td>1.000000e+02</td>\n",
       "      <td>1.000000e+02</td>\n",
       "      <td>1.000000e+02</td>\n",
       "      <td>1.000000e+02</td>\n",
       "      <td>1.000000e+02</td>\n",
       "    </tr>\n",
       "    <tr>\n",
       "      <th>25%</th>\n",
       "      <td>4495.000000</td>\n",
       "      <td>5640.000000</td>\n",
       "      <td>4600.000000</td>\n",
       "      <td>4400.000000</td>\n",
       "      <td>3640.000000</td>\n",
       "      <td>4917.000000</td>\n",
       "      <td>4480.500000</td>\n",
       "      <td>4895.000000</td>\n",
       "      <td>4633.000000</td>\n",
       "      <td>6147.500000</td>\n",
       "      <td>...</td>\n",
       "      <td>2.308500e+03</td>\n",
       "      <td>3.100000e+03</td>\n",
       "      <td>2.750000e+03</td>\n",
       "      <td>3.400500e+03</td>\n",
       "      <td>3.500500e+03</td>\n",
       "      <td>3.773000e+03</td>\n",
       "      <td>4.000000e+03</td>\n",
       "      <td>5.000000e+03</td>\n",
       "      <td>6.500000e+03</td>\n",
       "      <td>8.500000e+03</td>\n",
       "    </tr>\n",
       "    <tr>\n",
       "      <th>50%</th>\n",
       "      <td>11550.000000</td>\n",
       "      <td>11400.000000</td>\n",
       "      <td>13900.000000</td>\n",
       "      <td>17500.000000</td>\n",
       "      <td>14300.000000</td>\n",
       "      <td>16300.000000</td>\n",
       "      <td>18338.000000</td>\n",
       "      <td>20000.000000</td>\n",
       "      <td>23600.000000</td>\n",
       "      <td>27900.000000</td>\n",
       "      <td>...</td>\n",
       "      <td>1.485000e+04</td>\n",
       "      <td>1.708200e+04</td>\n",
       "      <td>1.000000e+04</td>\n",
       "      <td>1.020000e+04</td>\n",
       "      <td>1.350000e+04</td>\n",
       "      <td>1.847500e+04</td>\n",
       "      <td>1.464800e+04</td>\n",
       "      <td>1.800000e+04</td>\n",
       "      <td>1.600000e+04</td>\n",
       "      <td>2.000000e+04</td>\n",
       "    </tr>\n",
       "    <tr>\n",
       "      <th>75%</th>\n",
       "      <td>80050.000000</td>\n",
       "      <td>93000.000000</td>\n",
       "      <td>100000.000000</td>\n",
       "      <td>115134.500000</td>\n",
       "      <td>100286.000000</td>\n",
       "      <td>118081.000000</td>\n",
       "      <td>119820.000000</td>\n",
       "      <td>123238.000000</td>\n",
       "      <td>144446.000000</td>\n",
       "      <td>156463.000000</td>\n",
       "      <td>...</td>\n",
       "      <td>3.210000e+05</td>\n",
       "      <td>2.995490e+05</td>\n",
       "      <td>3.060330e+05</td>\n",
       "      <td>3.213905e+05</td>\n",
       "      <td>2.861240e+05</td>\n",
       "      <td>2.937650e+05</td>\n",
       "      <td>2.756275e+05</td>\n",
       "      <td>3.188425e+05</td>\n",
       "      <td>2.875000e+05</td>\n",
       "      <td>2.900000e+05</td>\n",
       "    </tr>\n",
       "    <tr>\n",
       "      <th>max</th>\n",
       "      <td>415200.000000</td>\n",
       "      <td>428100.000000</td>\n",
       "      <td>427800.000000</td>\n",
       "      <td>580500.000000</td>\n",
       "      <td>415800.000000</td>\n",
       "      <td>381100.000000</td>\n",
       "      <td>423500.000000</td>\n",
       "      <td>327000.000000</td>\n",
       "      <td>414300.000000</td>\n",
       "      <td>406000.000000</td>\n",
       "      <td>...</td>\n",
       "      <td>1.448992e+06</td>\n",
       "      <td>1.637778e+06</td>\n",
       "      <td>1.796000e+06</td>\n",
       "      <td>1.634000e+06</td>\n",
       "      <td>2.034000e+06</td>\n",
       "      <td>2.113189e+06</td>\n",
       "      <td>2.235043e+06</td>\n",
       "      <td>2.200000e+06</td>\n",
       "      <td>2.228459e+06</td>\n",
       "      <td>2.230000e+06</td>\n",
       "    </tr>\n",
       "  </tbody>\n",
       "</table>\n",
       "<p>8 rows × 62 columns</p>\n",
       "</div>"
      ],
      "text/plain": [
       "Year            1961           1962           1963           1964  \\\n",
       "count      11.000000      11.000000      11.000000      11.000000   \n",
       "mean    75607.272727   78479.090909   83528.181818  107768.090909   \n",
       "std    127329.846312  129527.865763  133358.268346  180989.033801   \n",
       "min       900.000000     630.000000     800.000000    1100.000000   \n",
       "25%      4495.000000    5640.000000    4600.000000    4400.000000   \n",
       "50%     11550.000000   11400.000000   13900.000000   17500.000000   \n",
       "75%     80050.000000   93000.000000  100000.000000  115134.500000   \n",
       "max    415200.000000  428100.000000  427800.000000  580500.000000   \n",
       "\n",
       "Year            1965           1966           1967           1968  \\\n",
       "count      11.000000      11.000000      11.000000      11.000000   \n",
       "mean    79074.727273   87715.363636   88904.727273   77223.090909   \n",
       "std    126804.298767  127981.166954  134478.554281  105556.773149   \n",
       "min       800.000000     877.000000    1144.000000    1288.000000   \n",
       "25%      3640.000000    4917.000000    4480.500000    4895.000000   \n",
       "50%     14300.000000   16300.000000   18338.000000   20000.000000   \n",
       "75%    100286.000000  118081.000000  119820.000000  123238.000000   \n",
       "max    415800.000000  381100.000000  423500.000000  327000.000000   \n",
       "\n",
       "Year            1969           1970  ...          2013          2014  \\\n",
       "count      11.000000      11.000000  ...  1.100000e+01  1.100000e+01   \n",
       "mean    90812.272727  101367.727273  ...  2.697114e+05  2.861050e+05   \n",
       "std    132485.099117  140321.576937  ...  4.699139e+05  5.197525e+05   \n",
       "min      1195.000000    1344.000000  ...  2.000000e+02  2.030000e+02   \n",
       "25%      4633.000000    6147.500000  ...  2.308500e+03  3.100000e+03   \n",
       "50%     23600.000000   27900.000000  ...  1.485000e+04  1.708200e+04   \n",
       "75%    144446.000000  156463.000000  ...  3.210000e+05  2.995490e+05   \n",
       "max    414300.000000  406000.000000  ...  1.448992e+06  1.637778e+06   \n",
       "\n",
       "Year           2015          2016          2017          2018          2019  \\\n",
       "count  1.100000e+01  1.100000e+01  1.100000e+01  1.100000e+01  1.100000e+01   \n",
       "mean   3.001260e+05  2.919370e+05  3.322320e+05  3.354718e+05  3.322185e+05   \n",
       "std    5.621232e+05  5.176907e+05  6.349452e+05  6.498279e+05  6.778139e+05   \n",
       "min    1.000000e+02  1.000000e+02  1.000000e+02  1.000000e+02  1.000000e+02   \n",
       "25%    2.750000e+03  3.400500e+03  3.500500e+03  3.773000e+03  4.000000e+03   \n",
       "50%    1.000000e+04  1.020000e+04  1.350000e+04  1.847500e+04  1.464800e+04   \n",
       "75%    3.060330e+05  3.213905e+05  2.861240e+05  2.937650e+05  2.756275e+05   \n",
       "max    1.796000e+06  1.634000e+06  2.034000e+06  2.113189e+06  2.235043e+06   \n",
       "\n",
       "Year           2020          2021          2022  \n",
       "count  1.100000e+01  1.100000e+01  1.100000e+01  \n",
       "mean   3.369202e+05  3.559585e+05  3.631603e+05  \n",
       "std    6.662511e+05  6.953912e+05  7.015001e+05  \n",
       "min    1.000000e+02  1.000000e+02  1.000000e+02  \n",
       "25%    5.000000e+03  6.500000e+03  8.500000e+03  \n",
       "50%    1.800000e+04  1.600000e+04  2.000000e+04  \n",
       "75%    3.188425e+05  2.875000e+05  2.900000e+05  \n",
       "max    2.200000e+06  2.228459e+06  2.230000e+06  \n",
       "\n",
       "[8 rows x 62 columns]"
      ]
     },
     "execution_count": 52,
     "metadata": {},
     "output_type": "execute_result"
    }
   ],
   "source": [
    "pivoted_df.describe()"
   ]
  },
  {
   "cell_type": "code",
   "execution_count": 56,
   "id": "355c306e-cd44-44e7-87dc-b9b1d21e8db6",
   "metadata": {
    "tags": []
   },
   "outputs": [
    {
     "data": {
      "text/html": [
       "<div>\n",
       "<style scoped>\n",
       "    .dataframe tbody tr th:only-of-type {\n",
       "        vertical-align: middle;\n",
       "    }\n",
       "\n",
       "    .dataframe tbody tr th {\n",
       "        vertical-align: top;\n",
       "    }\n",
       "\n",
       "    .dataframe thead th {\n",
       "        text-align: right;\n",
       "    }\n",
       "</style>\n",
       "<table border=\"1\" class=\"dataframe\">\n",
       "  <thead>\n",
       "    <tr style=\"text-align: right;\">\n",
       "      <th></th>\n",
       "      <th>Year</th>\n",
       "      <th>Total Production</th>\n",
       "    </tr>\n",
       "  </thead>\n",
       "  <tbody>\n",
       "    <tr>\n",
       "      <th>0</th>\n",
       "      <td>1961</td>\n",
       "      <td>831680</td>\n",
       "    </tr>\n",
       "    <tr>\n",
       "      <th>1</th>\n",
       "      <td>1962</td>\n",
       "      <td>863270</td>\n",
       "    </tr>\n",
       "    <tr>\n",
       "      <th>2</th>\n",
       "      <td>1963</td>\n",
       "      <td>918810</td>\n",
       "    </tr>\n",
       "    <tr>\n",
       "      <th>3</th>\n",
       "      <td>1964</td>\n",
       "      <td>1185449</td>\n",
       "    </tr>\n",
       "    <tr>\n",
       "      <th>4</th>\n",
       "      <td>1965</td>\n",
       "      <td>869822</td>\n",
       "    </tr>\n",
       "  </tbody>\n",
       "</table>\n",
       "</div>"
      ],
      "text/plain": [
       "   Year  Total Production\n",
       "0  1961            831680\n",
       "1  1962            863270\n",
       "2  1963            918810\n",
       "3  1964           1185449\n",
       "4  1965            869822"
      ]
     },
     "execution_count": 56,
     "metadata": {},
     "output_type": "execute_result"
    }
   ],
   "source": [
    "# Adding a total production row per year across all countries to show the overall production trends.\n",
    "total_production_per_year = pivoted_df.sum(axis=0)\n",
    "total_production_df = total_production_per_year.to_frame(name=\"Total Production\")\n",
    "total_production_df.reset_index(inplace=True)\n",
    "total_production_df.rename(columns={\"index\":\"Year\"}, inplace=True)\n",
    "\n",
    "total_production_df.head()\n",
    "\n",
    "# IDEA: I can have the total production as a bar and the bar can be "
   ]
  },
  {
   "cell_type": "code",
   "execution_count": 58,
   "id": "1372d660-86ef-49fa-ac71-f637cbc52221",
   "metadata": {
    "tags": []
   },
   "outputs": [
    {
     "data": {
      "application/vnd.plotly.v1+json": {
       "config": {
        "plotlyServerURL": "https://plot.ly"
       },
       "data": [
        {
         "hovertemplate": "Year=%{x}<br>Total Production=%{y}<extra></extra>",
         "legendgroup": "",
         "line": {
          "color": "#636efa",
          "dash": "solid"
         },
         "marker": {
          "symbol": "circle"
         },
         "mode": "lines",
         "name": "",
         "orientation": "v",
         "showlegend": false,
         "type": "scatter",
         "x": [
          1961,
          1962,
          1963,
          1964,
          1965,
          1966,
          1967,
          1968,
          1969,
          1970,
          1971,
          1972,
          1973,
          1974,
          1975,
          1976,
          1977,
          1978,
          1979,
          1980,
          1981,
          1982,
          1983,
          1984,
          1985,
          1986,
          1987,
          1988,
          1989,
          1990,
          1991,
          1992,
          1993,
          1994,
          1995,
          1996,
          1997,
          1998,
          1999,
          2000,
          2001,
          2002,
          2003,
          2004,
          2005,
          2006,
          2007,
          2008,
          2009,
          2010,
          2011,
          2012,
          2013,
          2014,
          2015,
          2016,
          2017,
          2018,
          2019,
          2020,
          2021,
          2022
         ],
         "xaxis": "x",
         "y": [
          831680,
          863270,
          918810,
          1185449,
          869822,
          964869,
          977952,
          849454,
          998935,
          1115045,
          1171350,
          1028724,
          959463,
          1016749,
          995187,
          866725,
          926469,
          897431,
          1003875,
          1015020,
          1049598,
          874790,
          876869,
          1058056,
          1078430,
          1161657,
          1190640,
          1516095,
          1510290,
          1511059,
          1427399,
          1547401,
          1495260,
          1562376,
          1895651,
          2130753,
          1923131,
          2149772,
          1974438,
          2333605,
          2100900,
          2124248,
          2419163,
          2770537,
          2686798,
          2889837,
          2521287,
          2791582,
          2657971,
          2728392,
          3013385,
          3077501,
          2966825,
          3147155,
          3301386,
          3211307,
          3654552,
          3690190,
          3654404,
          3706122,
          3915544,
          3994763
         ],
         "yaxis": "y"
        }
       ],
       "layout": {
        "autosize": true,
        "legend": {
         "tracegroupgap": 0
        },
        "template": {
         "data": {
          "bar": [
           {
            "error_x": {
             "color": "#2a3f5f"
            },
            "error_y": {
             "color": "#2a3f5f"
            },
            "marker": {
             "line": {
              "color": "#E5ECF6",
              "width": 0.5
             },
             "pattern": {
              "fillmode": "overlay",
              "size": 10,
              "solidity": 0.2
             }
            },
            "type": "bar"
           }
          ],
          "barpolar": [
           {
            "marker": {
             "line": {
              "color": "#E5ECF6",
              "width": 0.5
             },
             "pattern": {
              "fillmode": "overlay",
              "size": 10,
              "solidity": 0.2
             }
            },
            "type": "barpolar"
           }
          ],
          "carpet": [
           {
            "aaxis": {
             "endlinecolor": "#2a3f5f",
             "gridcolor": "white",
             "linecolor": "white",
             "minorgridcolor": "white",
             "startlinecolor": "#2a3f5f"
            },
            "baxis": {
             "endlinecolor": "#2a3f5f",
             "gridcolor": "white",
             "linecolor": "white",
             "minorgridcolor": "white",
             "startlinecolor": "#2a3f5f"
            },
            "type": "carpet"
           }
          ],
          "choropleth": [
           {
            "colorbar": {
             "outlinewidth": 0,
             "ticks": ""
            },
            "type": "choropleth"
           }
          ],
          "contour": [
           {
            "colorbar": {
             "outlinewidth": 0,
             "ticks": ""
            },
            "colorscale": [
             [
              0,
              "#0d0887"
             ],
             [
              0.1111111111111111,
              "#46039f"
             ],
             [
              0.2222222222222222,
              "#7201a8"
             ],
             [
              0.3333333333333333,
              "#9c179e"
             ],
             [
              0.4444444444444444,
              "#bd3786"
             ],
             [
              0.5555555555555556,
              "#d8576b"
             ],
             [
              0.6666666666666666,
              "#ed7953"
             ],
             [
              0.7777777777777778,
              "#fb9f3a"
             ],
             [
              0.8888888888888888,
              "#fdca26"
             ],
             [
              1,
              "#f0f921"
             ]
            ],
            "type": "contour"
           }
          ],
          "contourcarpet": [
           {
            "colorbar": {
             "outlinewidth": 0,
             "ticks": ""
            },
            "type": "contourcarpet"
           }
          ],
          "heatmap": [
           {
            "colorbar": {
             "outlinewidth": 0,
             "ticks": ""
            },
            "colorscale": [
             [
              0,
              "#0d0887"
             ],
             [
              0.1111111111111111,
              "#46039f"
             ],
             [
              0.2222222222222222,
              "#7201a8"
             ],
             [
              0.3333333333333333,
              "#9c179e"
             ],
             [
              0.4444444444444444,
              "#bd3786"
             ],
             [
              0.5555555555555556,
              "#d8576b"
             ],
             [
              0.6666666666666666,
              "#ed7953"
             ],
             [
              0.7777777777777778,
              "#fb9f3a"
             ],
             [
              0.8888888888888888,
              "#fdca26"
             ],
             [
              1,
              "#f0f921"
             ]
            ],
            "type": "heatmap"
           }
          ],
          "heatmapgl": [
           {
            "colorbar": {
             "outlinewidth": 0,
             "ticks": ""
            },
            "colorscale": [
             [
              0,
              "#0d0887"
             ],
             [
              0.1111111111111111,
              "#46039f"
             ],
             [
              0.2222222222222222,
              "#7201a8"
             ],
             [
              0.3333333333333333,
              "#9c179e"
             ],
             [
              0.4444444444444444,
              "#bd3786"
             ],
             [
              0.5555555555555556,
              "#d8576b"
             ],
             [
              0.6666666666666666,
              "#ed7953"
             ],
             [
              0.7777777777777778,
              "#fb9f3a"
             ],
             [
              0.8888888888888888,
              "#fdca26"
             ],
             [
              1,
              "#f0f921"
             ]
            ],
            "type": "heatmapgl"
           }
          ],
          "histogram": [
           {
            "marker": {
             "pattern": {
              "fillmode": "overlay",
              "size": 10,
              "solidity": 0.2
             }
            },
            "type": "histogram"
           }
          ],
          "histogram2d": [
           {
            "colorbar": {
             "outlinewidth": 0,
             "ticks": ""
            },
            "colorscale": [
             [
              0,
              "#0d0887"
             ],
             [
              0.1111111111111111,
              "#46039f"
             ],
             [
              0.2222222222222222,
              "#7201a8"
             ],
             [
              0.3333333333333333,
              "#9c179e"
             ],
             [
              0.4444444444444444,
              "#bd3786"
             ],
             [
              0.5555555555555556,
              "#d8576b"
             ],
             [
              0.6666666666666666,
              "#ed7953"
             ],
             [
              0.7777777777777778,
              "#fb9f3a"
             ],
             [
              0.8888888888888888,
              "#fdca26"
             ],
             [
              1,
              "#f0f921"
             ]
            ],
            "type": "histogram2d"
           }
          ],
          "histogram2dcontour": [
           {
            "colorbar": {
             "outlinewidth": 0,
             "ticks": ""
            },
            "colorscale": [
             [
              0,
              "#0d0887"
             ],
             [
              0.1111111111111111,
              "#46039f"
             ],
             [
              0.2222222222222222,
              "#7201a8"
             ],
             [
              0.3333333333333333,
              "#9c179e"
             ],
             [
              0.4444444444444444,
              "#bd3786"
             ],
             [
              0.5555555555555556,
              "#d8576b"
             ],
             [
              0.6666666666666666,
              "#ed7953"
             ],
             [
              0.7777777777777778,
              "#fb9f3a"
             ],
             [
              0.8888888888888888,
              "#fdca26"
             ],
             [
              1,
              "#f0f921"
             ]
            ],
            "type": "histogram2dcontour"
           }
          ],
          "mesh3d": [
           {
            "colorbar": {
             "outlinewidth": 0,
             "ticks": ""
            },
            "type": "mesh3d"
           }
          ],
          "parcoords": [
           {
            "line": {
             "colorbar": {
              "outlinewidth": 0,
              "ticks": ""
             }
            },
            "type": "parcoords"
           }
          ],
          "pie": [
           {
            "automargin": true,
            "type": "pie"
           }
          ],
          "scatter": [
           {
            "fillpattern": {
             "fillmode": "overlay",
             "size": 10,
             "solidity": 0.2
            },
            "type": "scatter"
           }
          ],
          "scatter3d": [
           {
            "line": {
             "colorbar": {
              "outlinewidth": 0,
              "ticks": ""
             }
            },
            "marker": {
             "colorbar": {
              "outlinewidth": 0,
              "ticks": ""
             }
            },
            "type": "scatter3d"
           }
          ],
          "scattercarpet": [
           {
            "marker": {
             "colorbar": {
              "outlinewidth": 0,
              "ticks": ""
             }
            },
            "type": "scattercarpet"
           }
          ],
          "scattergeo": [
           {
            "marker": {
             "colorbar": {
              "outlinewidth": 0,
              "ticks": ""
             }
            },
            "type": "scattergeo"
           }
          ],
          "scattergl": [
           {
            "marker": {
             "colorbar": {
              "outlinewidth": 0,
              "ticks": ""
             }
            },
            "type": "scattergl"
           }
          ],
          "scattermapbox": [
           {
            "marker": {
             "colorbar": {
              "outlinewidth": 0,
              "ticks": ""
             }
            },
            "type": "scattermapbox"
           }
          ],
          "scatterpolar": [
           {
            "marker": {
             "colorbar": {
              "outlinewidth": 0,
              "ticks": ""
             }
            },
            "type": "scatterpolar"
           }
          ],
          "scatterpolargl": [
           {
            "marker": {
             "colorbar": {
              "outlinewidth": 0,
              "ticks": ""
             }
            },
            "type": "scatterpolargl"
           }
          ],
          "scatterternary": [
           {
            "marker": {
             "colorbar": {
              "outlinewidth": 0,
              "ticks": ""
             }
            },
            "type": "scatterternary"
           }
          ],
          "surface": [
           {
            "colorbar": {
             "outlinewidth": 0,
             "ticks": ""
            },
            "colorscale": [
             [
              0,
              "#0d0887"
             ],
             [
              0.1111111111111111,
              "#46039f"
             ],
             [
              0.2222222222222222,
              "#7201a8"
             ],
             [
              0.3333333333333333,
              "#9c179e"
             ],
             [
              0.4444444444444444,
              "#bd3786"
             ],
             [
              0.5555555555555556,
              "#d8576b"
             ],
             [
              0.6666666666666666,
              "#ed7953"
             ],
             [
              0.7777777777777778,
              "#fb9f3a"
             ],
             [
              0.8888888888888888,
              "#fdca26"
             ],
             [
              1,
              "#f0f921"
             ]
            ],
            "type": "surface"
           }
          ],
          "table": [
           {
            "cells": {
             "fill": {
              "color": "#EBF0F8"
             },
             "line": {
              "color": "white"
             }
            },
            "header": {
             "fill": {
              "color": "#C8D4E3"
             },
             "line": {
              "color": "white"
             }
            },
            "type": "table"
           }
          ]
         },
         "layout": {
          "annotationdefaults": {
           "arrowcolor": "#2a3f5f",
           "arrowhead": 0,
           "arrowwidth": 1
          },
          "autotypenumbers": "strict",
          "coloraxis": {
           "colorbar": {
            "outlinewidth": 0,
            "ticks": ""
           }
          },
          "colorscale": {
           "diverging": [
            [
             0,
             "#8e0152"
            ],
            [
             0.1,
             "#c51b7d"
            ],
            [
             0.2,
             "#de77ae"
            ],
            [
             0.3,
             "#f1b6da"
            ],
            [
             0.4,
             "#fde0ef"
            ],
            [
             0.5,
             "#f7f7f7"
            ],
            [
             0.6,
             "#e6f5d0"
            ],
            [
             0.7,
             "#b8e186"
            ],
            [
             0.8,
             "#7fbc41"
            ],
            [
             0.9,
             "#4d9221"
            ],
            [
             1,
             "#276419"
            ]
           ],
           "sequential": [
            [
             0,
             "#0d0887"
            ],
            [
             0.1111111111111111,
             "#46039f"
            ],
            [
             0.2222222222222222,
             "#7201a8"
            ],
            [
             0.3333333333333333,
             "#9c179e"
            ],
            [
             0.4444444444444444,
             "#bd3786"
            ],
            [
             0.5555555555555556,
             "#d8576b"
            ],
            [
             0.6666666666666666,
             "#ed7953"
            ],
            [
             0.7777777777777778,
             "#fb9f3a"
            ],
            [
             0.8888888888888888,
             "#fdca26"
            ],
            [
             1,
             "#f0f921"
            ]
           ],
           "sequentialminus": [
            [
             0,
             "#0d0887"
            ],
            [
             0.1111111111111111,
             "#46039f"
            ],
            [
             0.2222222222222222,
             "#7201a8"
            ],
            [
             0.3333333333333333,
             "#9c179e"
            ],
            [
             0.4444444444444444,
             "#bd3786"
            ],
            [
             0.5555555555555556,
             "#d8576b"
            ],
            [
             0.6666666666666666,
             "#ed7953"
            ],
            [
             0.7777777777777778,
             "#fb9f3a"
            ],
            [
             0.8888888888888888,
             "#fdca26"
            ],
            [
             1,
             "#f0f921"
            ]
           ]
          },
          "colorway": [
           "#636efa",
           "#EF553B",
           "#00cc96",
           "#ab63fa",
           "#FFA15A",
           "#19d3f3",
           "#FF6692",
           "#B6E880",
           "#FF97FF",
           "#FECB52"
          ],
          "font": {
           "color": "#2a3f5f"
          },
          "geo": {
           "bgcolor": "white",
           "lakecolor": "white",
           "landcolor": "#E5ECF6",
           "showlakes": true,
           "showland": true,
           "subunitcolor": "white"
          },
          "hoverlabel": {
           "align": "left"
          },
          "hovermode": "closest",
          "mapbox": {
           "style": "light"
          },
          "paper_bgcolor": "white",
          "plot_bgcolor": "#E5ECF6",
          "polar": {
           "angularaxis": {
            "gridcolor": "white",
            "linecolor": "white",
            "ticks": ""
           },
           "bgcolor": "#E5ECF6",
           "radialaxis": {
            "gridcolor": "white",
            "linecolor": "white",
            "ticks": ""
           }
          },
          "scene": {
           "xaxis": {
            "backgroundcolor": "#E5ECF6",
            "gridcolor": "white",
            "gridwidth": 2,
            "linecolor": "white",
            "showbackground": true,
            "ticks": "",
            "zerolinecolor": "white"
           },
           "yaxis": {
            "backgroundcolor": "#E5ECF6",
            "gridcolor": "white",
            "gridwidth": 2,
            "linecolor": "white",
            "showbackground": true,
            "ticks": "",
            "zerolinecolor": "white"
           },
           "zaxis": {
            "backgroundcolor": "#E5ECF6",
            "gridcolor": "white",
            "gridwidth": 2,
            "linecolor": "white",
            "showbackground": true,
            "ticks": "",
            "zerolinecolor": "white"
           }
          },
          "shapedefaults": {
           "line": {
            "color": "#2a3f5f"
           }
          },
          "ternary": {
           "aaxis": {
            "gridcolor": "white",
            "linecolor": "white",
            "ticks": ""
           },
           "baxis": {
            "gridcolor": "white",
            "linecolor": "white",
            "ticks": ""
           },
           "bgcolor": "#E5ECF6",
           "caxis": {
            "gridcolor": "white",
            "linecolor": "white",
            "ticks": ""
           }
          },
          "title": {
           "x": 0.05
          },
          "xaxis": {
           "automargin": true,
           "gridcolor": "white",
           "linecolor": "white",
           "ticks": "",
           "title": {
            "standoff": 15
           },
           "zerolinecolor": "white",
           "zerolinewidth": 2
          },
          "yaxis": {
           "automargin": true,
           "gridcolor": "white",
           "linecolor": "white",
           "ticks": "",
           "title": {
            "standoff": 15
           },
           "zerolinecolor": "white",
           "zerolinewidth": 2
          }
         }
        },
        "title": {
         "text": "Total Cocoa Production Over Time",
         "x": 0.5
        },
        "xaxis": {
         "anchor": "y",
         "autorange": true,
         "domain": [
          0,
          1
         ],
         "range": [
          1961,
          2022
         ],
         "showgrid": false,
         "title": {
          "text": "Year"
         },
         "type": "linear"
        },
        "yaxis": {
         "anchor": "x",
         "autorange": true,
         "domain": [
          0,
          1
         ],
         "range": [
          655953.1666666666,
          4170489.8333333335
         ],
         "showgrid": true,
         "title": {
          "text": "Total Cocoa Production (tons)"
         },
         "type": "linear"
        }
       }
      },
      "image/png": "[encoded data removed]",
      "text/html": [
       "<div>                            <div id=\"c031dcbb-d3d6-4c20-9fdd-f8681c68cfee\" class=\"plotly-graph-div\" style=\"height:525px; width:100%;\"></div>            <script type=\"text/javascript\">                require([\"plotly\"], function(Plotly) {                    window.PLOTLYENV=window.PLOTLYENV || {};                                    if (document.getElementById(\"c031dcbb-d3d6-4c20-9fdd-f8681c68cfee\")) {                    Plotly.newPlot(                        \"c031dcbb-d3d6-4c20-9fdd-f8681c68cfee\",                        [{\"hovertemplate\":\"Year=%{x}<br>Total Production=%{y}<extra></extra>\",\"legendgroup\":\"\",\"line\":{\"color\":\"#636efa\",\"dash\":\"solid\"},\"marker\":{\"symbol\":\"circle\"},\"mode\":\"lines\",\"name\":\"\",\"orientation\":\"v\",\"showlegend\":false,\"x\":[1961,1962,1963,1964,1965,1966,1967,1968,1969,1970,1971,1972,1973,1974,1975,1976,1977,1978,1979,1980,1981,1982,1983,1984,1985,1986,1987,1988,1989,1990,1991,1992,1993,1994,1995,1996,1997,1998,1999,2000,2001,2002,2003,2004,2005,2006,2007,2008,2009,2010,2011,2012,2013,2014,2015,2016,2017,2018,2019,2020,2021,2022],\"xaxis\":\"x\",\"y\":[831680,863270,918810,1185449,869822,964869,977952,849454,998935,1115045,1171350,1028724,959463,1016749,995187,866725,926469,897431,1003875,1015020,1049598,874790,876869,1058056,1078430,1161657,1190640,1516095,1510290,1511059,1427399,1547401,1495260,1562376,1895651,2130753,1923131,2149772,1974438,2333605,2100900,2124248,2419163,2770537,2686798,2889837,2521287,2791582,2657971,2728392,3013385,3077501,2966825,3147155,3301386,3211307,3654552,3690190,3654404,3706122,3915544,3994763],\"yaxis\":\"y\",\"type\":\"scatter\"}],                        {\"template\":{\"data\":{\"histogram2dcontour\":[{\"type\":\"histogram2dcontour\",\"colorbar\":{\"outlinewidth\":0,\"ticks\":\"\"},\"colorscale\":[[0.0,\"#0d0887\"],[0.1111111111111111,\"#46039f\"],[0.2222222222222222,\"#7201a8\"],[0.3333333333333333,\"#9c179e\"],[0.4444444444444444,\"#bd3786\"],[0.5555555555555556,\"#d8576b\"],[0.6666666666666666,\"#ed7953\"],[0.7777777777777778,\"#fb9f3a\"],[0.8888888888888888,\"#fdca26\"],[1.0,\"#f0f921\"]]}],\"choropleth\":[{\"type\":\"choropleth\",\"colorbar\":{\"outlinewidth\":0,\"ticks\":\"\"}}],\"histogram2d\":[{\"type\":\"histogram2d\",\"colorbar\":{\"outlinewidth\":0,\"ticks\":\"\"},\"colorscale\":[[0.0,\"#0d0887\"],[0.1111111111111111,\"#46039f\"],[0.2222222222222222,\"#7201a8\"],[0.3333333333333333,\"#9c179e\"],[0.4444444444444444,\"#bd3786\"],[0.5555555555555556,\"#d8576b\"],[0.6666666666666666,\"#ed7953\"],[0.7777777777777778,\"#fb9f3a\"],[0.8888888888888888,\"#fdca26\"],[1.0,\"#f0f921\"]]}],\"heatmap\":[{\"type\":\"heatmap\",\"colorbar\":{\"outlinewidth\":0,\"ticks\":\"\"},\"colorscale\":[[0.0,\"#0d0887\"],[0.1111111111111111,\"#46039f\"],[0.2222222222222222,\"#7201a8\"],[0.3333333333333333,\"#9c179e\"],[0.4444444444444444,\"#bd3786\"],[0.5555555555555556,\"#d8576b\"],[0.6666666666666666,\"#ed7953\"],[0.7777777777777778,\"#fb9f3a\"],[0.8888888888888888,\"#fdca26\"],[1.0,\"#f0f921\"]]}],\"heatmapgl\":[{\"type\":\"heatmapgl\",\"colorbar\":{\"outlinewidth\":0,\"ticks\":\"\"},\"colorscale\":[[0.0,\"#0d0887\"],[0.1111111111111111,\"#46039f\"],[0.2222222222222222,\"#7201a8\"],[0.3333333333333333,\"#9c179e\"],[0.4444444444444444,\"#bd3786\"],[0.5555555555555556,\"#d8576b\"],[0.6666666666666666,\"#ed7953\"],[0.7777777777777778,\"#fb9f3a\"],[0.8888888888888888,\"#fdca26\"],[1.0,\"#f0f921\"]]}],\"contourcarpet\":[{\"type\":\"contourcarpet\",\"colorbar\":{\"outlinewidth\":0,\"ticks\":\"\"}}],\"contour\":[{\"type\":\"contour\",\"colorbar\":{\"outlinewidth\":0,\"ticks\":\"\"},\"colorscale\":[[0.0,\"#0d0887\"],[0.1111111111111111,\"#46039f\"],[0.2222222222222222,\"#7201a8\"],[0.3333333333333333,\"#9c179e\"],[0.4444444444444444,\"#bd3786\"],[0.5555555555555556,\"#d8576b\"],[0.6666666666666666,\"#ed7953\"],[0.7777777777777778,\"#fb9f3a\"],[0.8888888888888888,\"#fdca26\"],[1.0,\"#f0f921\"]]}],\"surface\":[{\"type\":\"surface\",\"colorbar\":{\"outlinewidth\":0,\"ticks\":\"\"},\"colorscale\":[[0.0,\"#0d0887\"],[0.1111111111111111,\"#46039f\"],[0.2222222222222222,\"#7201a8\"],[0.3333333333333333,\"#9c179e\"],[0.4444444444444444,\"#bd3786\"],[0.5555555555555556,\"#d8576b\"],[0.6666666666666666,\"#ed7953\"],[0.7777777777777778,\"#fb9f3a\"],[0.8888888888888888,\"#fdca26\"],[1.0,\"#f0f921\"]]}],\"mesh3d\":[{\"type\":\"mesh3d\",\"colorbar\":{\"outlinewidth\":0,\"ticks\":\"\"}}],\"scatter\":[{\"fillpattern\":{\"fillmode\":\"overlay\",\"size\":10,\"solidity\":0.2},\"type\":\"scatter\"}],\"parcoords\":[{\"type\":\"parcoords\",\"line\":{\"colorbar\":{\"outlinewidth\":0,\"ticks\":\"\"}}}],\"scatterpolargl\":[{\"type\":\"scatterpolargl\",\"marker\":{\"colorbar\":{\"outlinewidth\":0,\"ticks\":\"\"}}}],\"bar\":[{\"error_x\":{\"color\":\"#2a3f5f\"},\"error_y\":{\"color\":\"#2a3f5f\"},\"marker\":{\"line\":{\"color\":\"#E5ECF6\",\"width\":0.5},\"pattern\":{\"fillmode\":\"overlay\",\"size\":10,\"solidity\":0.2}},\"type\":\"bar\"}],\"scattergeo\":[{\"type\":\"scattergeo\",\"marker\":{\"colorbar\":{\"outlinewidth\":0,\"ticks\":\"\"}}}],\"scatterpolar\":[{\"type\":\"scatterpolar\",\"marker\":{\"colorbar\":{\"outlinewidth\":0,\"ticks\":\"\"}}}],\"histogram\":[{\"marker\":{\"pattern\":{\"fillmode\":\"overlay\",\"size\":10,\"solidity\":0.2}},\"type\":\"histogram\"}],\"scattergl\":[{\"type\":\"scattergl\",\"marker\":{\"colorbar\":{\"outlinewidth\":0,\"ticks\":\"\"}}}],\"scatter3d\":[{\"type\":\"scatter3d\",\"line\":{\"colorbar\":{\"outlinewidth\":0,\"ticks\":\"\"}},\"marker\":{\"colorbar\":{\"outlinewidth\":0,\"ticks\":\"\"}}}],\"scattermapbox\":[{\"type\":\"scattermapbox\",\"marker\":{\"colorbar\":{\"outlinewidth\":0,\"ticks\":\"\"}}}],\"scatterternary\":[{\"type\":\"scatterternary\",\"marker\":{\"colorbar\":{\"outlinewidth\":0,\"ticks\":\"\"}}}],\"scattercarpet\":[{\"type\":\"scattercarpet\",\"marker\":{\"colorbar\":{\"outlinewidth\":0,\"ticks\":\"\"}}}],\"carpet\":[{\"aaxis\":{\"endlinecolor\":\"#2a3f5f\",\"gridcolor\":\"white\",\"linecolor\":\"white\",\"minorgridcolor\":\"white\",\"startlinecolor\":\"#2a3f5f\"},\"baxis\":{\"endlinecolor\":\"#2a3f5f\",\"gridcolor\":\"white\",\"linecolor\":\"white\",\"minorgridcolor\":\"white\",\"startlinecolor\":\"#2a3f5f\"},\"type\":\"carpet\"}],\"table\":[{\"cells\":{\"fill\":{\"color\":\"#EBF0F8\"},\"line\":{\"color\":\"white\"}},\"header\":{\"fill\":{\"color\":\"#C8D4E3\"},\"line\":{\"color\":\"white\"}},\"type\":\"table\"}],\"barpolar\":[{\"marker\":{\"line\":{\"color\":\"#E5ECF6\",\"width\":0.5},\"pattern\":{\"fillmode\":\"overlay\",\"size\":10,\"solidity\":0.2}},\"type\":\"barpolar\"}],\"pie\":[{\"automargin\":true,\"type\":\"pie\"}]},\"layout\":{\"autotypenumbers\":\"strict\",\"colorway\":[\"#636efa\",\"#EF553B\",\"#00cc96\",\"#ab63fa\",\"#FFA15A\",\"#19d3f3\",\"#FF6692\",\"#B6E880\",\"#FF97FF\",\"#FECB52\"],\"font\":{\"color\":\"#2a3f5f\"},\"hovermode\":\"closest\",\"hoverlabel\":{\"align\":\"left\"},\"paper_bgcolor\":\"white\",\"plot_bgcolor\":\"#E5ECF6\",\"polar\":{\"bgcolor\":\"#E5ECF6\",\"angularaxis\":{\"gridcolor\":\"white\",\"linecolor\":\"white\",\"ticks\":\"\"},\"radialaxis\":{\"gridcolor\":\"white\",\"linecolor\":\"white\",\"ticks\":\"\"}},\"ternary\":{\"bgcolor\":\"#E5ECF6\",\"aaxis\":{\"gridcolor\":\"white\",\"linecolor\":\"white\",\"ticks\":\"\"},\"baxis\":{\"gridcolor\":\"white\",\"linecolor\":\"white\",\"ticks\":\"\"},\"caxis\":{\"gridcolor\":\"white\",\"linecolor\":\"white\",\"ticks\":\"\"}},\"coloraxis\":{\"colorbar\":{\"outlinewidth\":0,\"ticks\":\"\"}},\"colorscale\":{\"sequential\":[[0.0,\"#0d0887\"],[0.1111111111111111,\"#46039f\"],[0.2222222222222222,\"#7201a8\"],[0.3333333333333333,\"#9c179e\"],[0.4444444444444444,\"#bd3786\"],[0.5555555555555556,\"#d8576b\"],[0.6666666666666666,\"#ed7953\"],[0.7777777777777778,\"#fb9f3a\"],[0.8888888888888888,\"#fdca26\"],[1.0,\"#f0f921\"]],\"sequentialminus\":[[0.0,\"#0d0887\"],[0.1111111111111111,\"#46039f\"],[0.2222222222222222,\"#7201a8\"],[0.3333333333333333,\"#9c179e\"],[0.4444444444444444,\"#bd3786\"],[0.5555555555555556,\"#d8576b\"],[0.6666666666666666,\"#ed7953\"],[0.7777777777777778,\"#fb9f3a\"],[0.8888888888888888,\"#fdca26\"],[1.0,\"#f0f921\"]],\"diverging\":[[0,\"#8e0152\"],[0.1,\"#c51b7d\"],[0.2,\"#de77ae\"],[0.3,\"#f1b6da\"],[0.4,\"#fde0ef\"],[0.5,\"#f7f7f7\"],[0.6,\"#e6f5d0\"],[0.7,\"#b8e186\"],[0.8,\"#7fbc41\"],[0.9,\"#4d9221\"],[1,\"#276419\"]]},\"xaxis\":{\"gridcolor\":\"white\",\"linecolor\":\"white\",\"ticks\":\"\",\"title\":{\"standoff\":15},\"zerolinecolor\":\"white\",\"automargin\":true,\"zerolinewidth\":2},\"yaxis\":{\"gridcolor\":\"white\",\"linecolor\":\"white\",\"ticks\":\"\",\"title\":{\"standoff\":15},\"zerolinecolor\":\"white\",\"automargin\":true,\"zerolinewidth\":2},\"scene\":{\"xaxis\":{\"backgroundcolor\":\"#E5ECF6\",\"gridcolor\":\"white\",\"linecolor\":\"white\",\"showbackground\":true,\"ticks\":\"\",\"zerolinecolor\":\"white\",\"gridwidth\":2},\"yaxis\":{\"backgroundcolor\":\"#E5ECF6\",\"gridcolor\":\"white\",\"linecolor\":\"white\",\"showbackground\":true,\"ticks\":\"\",\"zerolinecolor\":\"white\",\"gridwidth\":2},\"zaxis\":{\"backgroundcolor\":\"#E5ECF6\",\"gridcolor\":\"white\",\"linecolor\":\"white\",\"showbackground\":true,\"ticks\":\"\",\"zerolinecolor\":\"white\",\"gridwidth\":2}},\"shapedefaults\":{\"line\":{\"color\":\"#2a3f5f\"}},\"annotationdefaults\":{\"arrowcolor\":\"#2a3f5f\",\"arrowhead\":0,\"arrowwidth\":1},\"geo\":{\"bgcolor\":\"white\",\"landcolor\":\"#E5ECF6\",\"subunitcolor\":\"white\",\"showland\":true,\"showlakes\":true,\"lakecolor\":\"white\"},\"title\":{\"x\":0.05},\"mapbox\":{\"style\":\"light\"}}},\"xaxis\":{\"anchor\":\"y\",\"domain\":[0.0,1.0],\"title\":{\"text\":\"Year\"},\"showgrid\":false},\"yaxis\":{\"anchor\":\"x\",\"domain\":[0.0,1.0],\"title\":{\"text\":\"Total Cocoa Production (tons)\"},\"showgrid\":true},\"legend\":{\"tracegroupgap\":0},\"title\":{\"text\":\"Total Cocoa Production Over Time\",\"x\":0.5}},                        {\"responsive\": true}                    ).then(function(){\n",
       "                            \n",
       "var gd = document.getElementById('c031dcbb-d3d6-4c20-9fdd-f8681c68cfee');\n",
       "var x = new MutationObserver(function (mutations, observer) {{\n",
       "        var display = window.getComputedStyle(gd).display;\n",
       "        if (!display || display === 'none') {{\n",
       "            console.log([gd, 'removed!']);\n",
       "            Plotly.purge(gd);\n",
       "            observer.disconnect();\n",
       "        }}\n",
       "}});\n",
       "\n",
       "// Listen for the removal of the full notebook cells\n",
       "var notebookContainer = gd.closest('#notebook-container');\n",
       "if (notebookContainer) {{\n",
       "    x.observe(notebookContainer, {childList: true});\n",
       "}}\n",
       "\n",
       "// Listen for the clearing of the current output cell\n",
       "var outputEl = gd.closest('.output');\n",
       "if (outputEl) {{\n",
       "    x.observe(outputEl, {childList: true});\n",
       "}}\n",
       "\n",
       "                        })                };                });            </script>        </div>"
      ]
     },
     "metadata": {},
     "output_type": "display_data"
    }
   ],
   "source": [
    "fig = px.line(total_production_df, x='Year', y='Total Production', title='Total Cocoa Production Over Time')\n",
    "\n",
    "fig.update_layout(\n",
    "    xaxis_title='Year',\n",
    "    yaxis_title='Total Cocoa Production (tons)',\n",
    "    title_x=0.5,\n",
    "    xaxis=dict(showgrid=False),  \n",
    "    yaxis=dict(showgrid=True),   \n",
    ")\n",
    "\n",
    "\n",
    "fig.show()"
   ]
  },
  {
   "cell_type": "code",
   "execution_count": 59,
   "id": "a4b30e7e-6d75-4b27-bd33-a644121e3e9c",
   "metadata": {
    "tags": []
   },
   "outputs": [
    {
     "data": {
      "text/html": [
       "<div>\n",
       "<style scoped>\n",
       "    .dataframe tbody tr th:only-of-type {\n",
       "        vertical-align: middle;\n",
       "    }\n",
       "\n",
       "    .dataframe tbody tr th {\n",
       "        vertical-align: top;\n",
       "    }\n",
       "\n",
       "    .dataframe thead th {\n",
       "        text-align: right;\n",
       "    }\n",
       "</style>\n",
       "<table border=\"1\" class=\"dataframe\">\n",
       "  <thead>\n",
       "    <tr style=\"text-align: right;\">\n",
       "      <th>Year</th>\n",
       "      <th>1961</th>\n",
       "      <th>1962</th>\n",
       "      <th>1963</th>\n",
       "      <th>1964</th>\n",
       "      <th>1965</th>\n",
       "      <th>1966</th>\n",
       "      <th>1967</th>\n",
       "      <th>1968</th>\n",
       "      <th>1969</th>\n",
       "      <th>1970</th>\n",
       "      <th>...</th>\n",
       "      <th>2013</th>\n",
       "      <th>2014</th>\n",
       "      <th>2015</th>\n",
       "      <th>2016</th>\n",
       "      <th>2017</th>\n",
       "      <th>2018</th>\n",
       "      <th>2019</th>\n",
       "      <th>2020</th>\n",
       "      <th>2021</th>\n",
       "      <th>2022</th>\n",
       "    </tr>\n",
       "    <tr>\n",
       "      <th>Country</th>\n",
       "      <th></th>\n",
       "      <th></th>\n",
       "      <th></th>\n",
       "      <th></th>\n",
       "      <th></th>\n",
       "      <th></th>\n",
       "      <th></th>\n",
       "      <th></th>\n",
       "      <th></th>\n",
       "      <th></th>\n",
       "      <th></th>\n",
       "      <th></th>\n",
       "      <th></th>\n",
       "      <th></th>\n",
       "      <th></th>\n",
       "      <th></th>\n",
       "      <th></th>\n",
       "      <th></th>\n",
       "      <th></th>\n",
       "      <th></th>\n",
       "      <th></th>\n",
       "    </tr>\n",
       "  </thead>\n",
       "  <tbody>\n",
       "    <tr>\n",
       "      <th>Cameroon</th>\n",
       "      <td>75100</td>\n",
       "      <td>76000</td>\n",
       "      <td>85000</td>\n",
       "      <td>91200</td>\n",
       "      <td>78800</td>\n",
       "      <td>86500</td>\n",
       "      <td>93000</td>\n",
       "      <td>102000</td>\n",
       "      <td>108186</td>\n",
       "      <td>133770</td>\n",
       "      <td>...</td>\n",
       "      <td>275000</td>\n",
       "      <td>269228</td>\n",
       "      <td>310000</td>\n",
       "      <td>344752</td>\n",
       "      <td>322248</td>\n",
       "      <td>317530</td>\n",
       "      <td>301255</td>\n",
       "      <td>280077</td>\n",
       "      <td>295000</td>\n",
       "      <td>300000</td>\n",
       "    </tr>\n",
       "    <tr>\n",
       "      <th>Congo</th>\n",
       "      <td>900</td>\n",
       "      <td>630</td>\n",
       "      <td>800</td>\n",
       "      <td>1100</td>\n",
       "      <td>800</td>\n",
       "      <td>877</td>\n",
       "      <td>1144</td>\n",
       "      <td>1288</td>\n",
       "      <td>1195</td>\n",
       "      <td>1344</td>\n",
       "      <td>...</td>\n",
       "      <td>5000</td>\n",
       "      <td>5000</td>\n",
       "      <td>2500</td>\n",
       "      <td>3800</td>\n",
       "      <td>3500</td>\n",
       "      <td>4500</td>\n",
       "      <td>5000</td>\n",
       "      <td>7000</td>\n",
       "      <td>16000</td>\n",
       "      <td>20000</td>\n",
       "    </tr>\n",
       "    <tr>\n",
       "      <th>Côte d'Ivoire</th>\n",
       "      <td>85000</td>\n",
       "      <td>110000</td>\n",
       "      <td>115000</td>\n",
       "      <td>139069</td>\n",
       "      <td>121772</td>\n",
       "      <td>149662</td>\n",
       "      <td>146640</td>\n",
       "      <td>144476</td>\n",
       "      <td>180706</td>\n",
       "      <td>179156</td>\n",
       "      <td>...</td>\n",
       "      <td>1448992</td>\n",
       "      <td>1637778</td>\n",
       "      <td>1796000</td>\n",
       "      <td>1634000</td>\n",
       "      <td>2034000</td>\n",
       "      <td>2113189</td>\n",
       "      <td>2235043</td>\n",
       "      <td>2200000</td>\n",
       "      <td>2228459</td>\n",
       "      <td>2230000</td>\n",
       "    </tr>\n",
       "    <tr>\n",
       "      <th>Democratic Republic of the Congo</th>\n",
       "      <td>5800</td>\n",
       "      <td>6500</td>\n",
       "      <td>5600</td>\n",
       "      <td>4800</td>\n",
       "      <td>4300</td>\n",
       "      <td>5300</td>\n",
       "      <td>4900</td>\n",
       "      <td>4500</td>\n",
       "      <td>4900</td>\n",
       "      <td>6200</td>\n",
       "      <td>...</td>\n",
       "      <td>2000</td>\n",
       "      <td>3000</td>\n",
       "      <td>6000</td>\n",
       "      <td>10200</td>\n",
       "      <td>13500</td>\n",
       "      <td>18475</td>\n",
       "      <td>22058</td>\n",
       "      <td>26337</td>\n",
       "      <td>20000</td>\n",
       "      <td>20000</td>\n",
       "    </tr>\n",
       "    <tr>\n",
       "      <th>Equatorial Guinea</th>\n",
       "      <td>26000</td>\n",
       "      <td>30900</td>\n",
       "      <td>33000</td>\n",
       "      <td>35100</td>\n",
       "      <td>35400</td>\n",
       "      <td>38200</td>\n",
       "      <td>33600</td>\n",
       "      <td>38000</td>\n",
       "      <td>28000</td>\n",
       "      <td>35000</td>\n",
       "      <td>...</td>\n",
       "      <td>700</td>\n",
       "      <td>892</td>\n",
       "      <td>1000</td>\n",
       "      <td>1000</td>\n",
       "      <td>1000</td>\n",
       "      <td>1000</td>\n",
       "      <td>1000</td>\n",
       "      <td>1000</td>\n",
       "      <td>600</td>\n",
       "      <td>1000</td>\n",
       "    </tr>\n",
       "  </tbody>\n",
       "</table>\n",
       "<p>5 rows × 62 columns</p>\n",
       "</div>"
      ],
      "text/plain": [
       "Year                               1961    1962    1963    1964    1965  \\\n",
       "Country                                                                   \n",
       "Cameroon                          75100   76000   85000   91200   78800   \n",
       "Congo                               900     630     800    1100     800   \n",
       "Côte d'Ivoire                     85000  110000  115000  139069  121772   \n",
       "Democratic Republic of the Congo   5800    6500    5600    4800    4300   \n",
       "Equatorial Guinea                 26000   30900   33000   35100   35400   \n",
       "\n",
       "Year                                1966    1967    1968    1969    1970  ...  \\\n",
       "Country                                                                   ...   \n",
       "Cameroon                           86500   93000  102000  108186  133770  ...   \n",
       "Congo                                877    1144    1288    1195    1344  ...   \n",
       "Côte d'Ivoire                     149662  146640  144476  180706  179156  ...   \n",
       "Democratic Republic of the Congo    5300    4900    4500    4900    6200  ...   \n",
       "Equatorial Guinea                  38200   33600   38000   28000   35000  ...   \n",
       "\n",
       "Year                                 2013     2014     2015     2016     2017  \\\n",
       "Country                                                                         \n",
       "Cameroon                           275000   269228   310000   344752   322248   \n",
       "Congo                                5000     5000     2500     3800     3500   \n",
       "Côte d'Ivoire                     1448992  1637778  1796000  1634000  2034000   \n",
       "Democratic Republic of the Congo     2000     3000     6000    10200    13500   \n",
       "Equatorial Guinea                     700      892     1000     1000     1000   \n",
       "\n",
       "Year                                 2018     2019     2020     2021     2022  \n",
       "Country                                                                        \n",
       "Cameroon                           317530   301255   280077   295000   300000  \n",
       "Congo                                4500     5000     7000    16000    20000  \n",
       "Côte d'Ivoire                     2113189  2235043  2200000  2228459  2230000  \n",
       "Democratic Republic of the Congo    18475    22058    26337    20000    20000  \n",
       "Equatorial Guinea                    1000     1000     1000      600     1000  \n",
       "\n",
       "[5 rows x 62 columns]"
      ]
     },
     "execution_count": 59,
     "metadata": {},
     "output_type": "execute_result"
    }
   ],
   "source": [
    "# Now I need to pivot this and add to the rest. Have the total and different colors as different countries.\n",
    "\n",
    "pivoted_df.head()"
   ]
  },
  {
   "cell_type": "code",
   "execution_count": 74,
   "id": "c68f8e08-63b8-4b94-9e7f-7c03ae3ab68f",
   "metadata": {
    "tags": []
   },
   "outputs": [],
   "source": [
    "grouped_df = new_df.groupby([\"Year\", \"Country\"])[\"Cocoa Production (tons)\"].sum().unstack()\n"
   ]
  },
  {
   "cell_type": "code",
   "execution_count": 75,
   "id": "f40cd0bf-07a4-4838-a524-a9b33a1f2d81",
   "metadata": {
    "tags": []
   },
   "outputs": [
    {
     "data": {
      "text/html": [
       "<div>\n",
       "<style scoped>\n",
       "    .dataframe tbody tr th:only-of-type {\n",
       "        vertical-align: middle;\n",
       "    }\n",
       "\n",
       "    .dataframe tbody tr th {\n",
       "        vertical-align: top;\n",
       "    }\n",
       "\n",
       "    .dataframe thead th {\n",
       "        text-align: right;\n",
       "    }\n",
       "</style>\n",
       "<table border=\"1\" class=\"dataframe\">\n",
       "  <thead>\n",
       "    <tr style=\"text-align: right;\">\n",
       "      <th>Country</th>\n",
       "      <th>Cameroon</th>\n",
       "      <th>Congo</th>\n",
       "      <th>Côte d'Ivoire</th>\n",
       "      <th>Democratic Republic of the Congo</th>\n",
       "      <th>Equatorial Guinea</th>\n",
       "      <th>Gabon</th>\n",
       "      <th>Ghana</th>\n",
       "      <th>Nigeria</th>\n",
       "      <th>Sao Tome and Principe</th>\n",
       "      <th>Sierra Leone</th>\n",
       "      <th>Togo</th>\n",
       "    </tr>\n",
       "    <tr>\n",
       "      <th>Year</th>\n",
       "      <th></th>\n",
       "      <th></th>\n",
       "      <th></th>\n",
       "      <th></th>\n",
       "      <th></th>\n",
       "      <th></th>\n",
       "      <th></th>\n",
       "      <th></th>\n",
       "      <th></th>\n",
       "      <th></th>\n",
       "      <th></th>\n",
       "    </tr>\n",
       "  </thead>\n",
       "  <tbody>\n",
       "    <tr>\n",
       "      <th>1961</th>\n",
       "      <td>75100</td>\n",
       "      <td>900</td>\n",
       "      <td>85000</td>\n",
       "      <td>5800</td>\n",
       "      <td>26000</td>\n",
       "      <td>3190</td>\n",
       "      <td>415200</td>\n",
       "      <td>197000</td>\n",
       "      <td>9100</td>\n",
       "      <td>2840</td>\n",
       "      <td>11550</td>\n",
       "    </tr>\n",
       "    <tr>\n",
       "      <th>1962</th>\n",
       "      <td>76000</td>\n",
       "      <td>630</td>\n",
       "      <td>110000</td>\n",
       "      <td>6500</td>\n",
       "      <td>30900</td>\n",
       "      <td>3360</td>\n",
       "      <td>428100</td>\n",
       "      <td>182000</td>\n",
       "      <td>9600</td>\n",
       "      <td>4780</td>\n",
       "      <td>11400</td>\n",
       "    </tr>\n",
       "    <tr>\n",
       "      <th>1963</th>\n",
       "      <td>85000</td>\n",
       "      <td>800</td>\n",
       "      <td>115000</td>\n",
       "      <td>5600</td>\n",
       "      <td>33000</td>\n",
       "      <td>3600</td>\n",
       "      <td>427800</td>\n",
       "      <td>223000</td>\n",
       "      <td>7800</td>\n",
       "      <td>3310</td>\n",
       "      <td>13900</td>\n",
       "    </tr>\n",
       "    <tr>\n",
       "      <th>1964</th>\n",
       "      <td>91200</td>\n",
       "      <td>1100</td>\n",
       "      <td>139069</td>\n",
       "      <td>4800</td>\n",
       "      <td>35100</td>\n",
       "      <td>4000</td>\n",
       "      <td>580500</td>\n",
       "      <td>298300</td>\n",
       "      <td>10700</td>\n",
       "      <td>3180</td>\n",
       "      <td>17500</td>\n",
       "    </tr>\n",
       "    <tr>\n",
       "      <th>1965</th>\n",
       "      <td>78800</td>\n",
       "      <td>800</td>\n",
       "      <td>121772</td>\n",
       "      <td>4300</td>\n",
       "      <td>35400</td>\n",
       "      <td>2170</td>\n",
       "      <td>415800</td>\n",
       "      <td>184600</td>\n",
       "      <td>8900</td>\n",
       "      <td>2980</td>\n",
       "      <td>14300</td>\n",
       "    </tr>\n",
       "    <tr>\n",
       "      <th>1966</th>\n",
       "      <td>86500</td>\n",
       "      <td>877</td>\n",
       "      <td>149662</td>\n",
       "      <td>5300</td>\n",
       "      <td>38200</td>\n",
       "      <td>4296</td>\n",
       "      <td>381100</td>\n",
       "      <td>267200</td>\n",
       "      <td>10900</td>\n",
       "      <td>4534</td>\n",
       "      <td>16300</td>\n",
       "    </tr>\n",
       "    <tr>\n",
       "      <th>1967</th>\n",
       "      <td>93000</td>\n",
       "      <td>1144</td>\n",
       "      <td>146640</td>\n",
       "      <td>4900</td>\n",
       "      <td>33600</td>\n",
       "      <td>4061</td>\n",
       "      <td>423500</td>\n",
       "      <td>238000</td>\n",
       "      <td>10900</td>\n",
       "      <td>3869</td>\n",
       "      <td>18338</td>\n",
       "    </tr>\n",
       "    <tr>\n",
       "      <th>1968</th>\n",
       "      <td>102000</td>\n",
       "      <td>1288</td>\n",
       "      <td>144476</td>\n",
       "      <td>4500</td>\n",
       "      <td>38000</td>\n",
       "      <td>4751</td>\n",
       "      <td>327000</td>\n",
       "      <td>191800</td>\n",
       "      <td>10600</td>\n",
       "      <td>5039</td>\n",
       "      <td>20000</td>\n",
       "    </tr>\n",
       "    <tr>\n",
       "      <th>1969</th>\n",
       "      <td>108186</td>\n",
       "      <td>1195</td>\n",
       "      <td>180706</td>\n",
       "      <td>4900</td>\n",
       "      <td>28000</td>\n",
       "      <td>4366</td>\n",
       "      <td>414300</td>\n",
       "      <td>220800</td>\n",
       "      <td>9100</td>\n",
       "      <td>3782</td>\n",
       "      <td>23600</td>\n",
       "    </tr>\n",
       "    <tr>\n",
       "      <th>1970</th>\n",
       "      <td>133770</td>\n",
       "      <td>1344</td>\n",
       "      <td>179156</td>\n",
       "      <td>6200</td>\n",
       "      <td>35000</td>\n",
       "      <td>6095</td>\n",
       "      <td>406000</td>\n",
       "      <td>304800</td>\n",
       "      <td>9700</td>\n",
       "      <td>5080</td>\n",
       "      <td>27900</td>\n",
       "    </tr>\n",
       "  </tbody>\n",
       "</table>\n",
       "</div>"
      ],
      "text/plain": [
       "Country  Cameroon  Congo  Côte d'Ivoire  Democratic Republic of the Congo  \\\n",
       "Year                                                                        \n",
       "1961        75100    900          85000                              5800   \n",
       "1962        76000    630         110000                              6500   \n",
       "1963        85000    800         115000                              5600   \n",
       "1964        91200   1100         139069                              4800   \n",
       "1965        78800    800         121772                              4300   \n",
       "1966        86500    877         149662                              5300   \n",
       "1967        93000   1144         146640                              4900   \n",
       "1968       102000   1288         144476                              4500   \n",
       "1969       108186   1195         180706                              4900   \n",
       "1970       133770   1344         179156                              6200   \n",
       "\n",
       "Country  Equatorial Guinea  Gabon   Ghana  Nigeria  Sao Tome and Principe  \\\n",
       "Year                                                                        \n",
       "1961                 26000   3190  415200   197000                   9100   \n",
       "1962                 30900   3360  428100   182000                   9600   \n",
       "1963                 33000   3600  427800   223000                   7800   \n",
       "1964                 35100   4000  580500   298300                  10700   \n",
       "1965                 35400   2170  415800   184600                   8900   \n",
       "1966                 38200   4296  381100   267200                  10900   \n",
       "1967                 33600   4061  423500   238000                  10900   \n",
       "1968                 38000   4751  327000   191800                  10600   \n",
       "1969                 28000   4366  414300   220800                   9100   \n",
       "1970                 35000   6095  406000   304800                   9700   \n",
       "\n",
       "Country  Sierra Leone   Togo  \n",
       "Year                          \n",
       "1961             2840  11550  \n",
       "1962             4780  11400  \n",
       "1963             3310  13900  \n",
       "1964             3180  17500  \n",
       "1965             2980  14300  \n",
       "1966             4534  16300  \n",
       "1967             3869  18338  \n",
       "1968             5039  20000  \n",
       "1969             3782  23600  \n",
       "1970             5080  27900  "
      ]
     },
     "execution_count": 75,
     "metadata": {},
     "output_type": "execute_result"
    }
   ],
   "source": [
    "grouped_df.head(10)"
   ]
  },
  {
   "cell_type": "code",
   "execution_count": 76,
   "id": "90aa13bd-c794-490c-8e0c-54900b326f28",
   "metadata": {
    "tags": []
   },
   "outputs": [
    {
     "data": {
      "application/vnd.plotly.v1+json": {
       "config": {
        "plotlyServerURL": "https://plot.ly"
       },
       "data": [
        {
         "name": "Cameroon",
         "type": "bar",
         "x": [
          1961,
          1962,
          1963,
          1964,
          1965,
          1966,
          1967,
          1968,
          1969,
          1970,
          1971,
          1972,
          1973,
          1974,
          1975,
          1976,
          1977,
          1978,
          1979,
          1980,
          1981,
          1982,
          1983,
          1984,
          1985,
          1986,
          1987,
          1988,
          1989,
          1990,
          1991,
          1992,
          1993,
          1994,
          1995,
          1996,
          1997,
          1998,
          1999,
          2000,
          2001,
          2002,
          2003,
          2004,
          2005,
          2006,
          2007,
          2008,
          2009,
          2010,
          2011,
          2012,
          2013,
          2014,
          2015,
          2016,
          2017,
          2018,
          2019,
          2020,
          2021,
          2022
         ],
         "y": [
          75100,
          76000,
          85000,
          91200,
          78800,
          86500,
          93000,
          102000,
          108186,
          133770,
          138775,
          126780,
          132245,
          120014,
          96000,
          82500,
          107000,
          110865,
          123179,
          117053,
          118344,
          105153,
          108900,
          120894,
          118320,
          123090,
          132800,
          129400,
          125700,
          115000,
          105000,
          97835,
          99000,
          107000,
          134000,
          125726,
          126807,
          125000,
          116000,
          122600,
          122100,
          125000,
          154965,
          166754,
          140000,
          164553,
          212619,
          229203,
          235500,
          264077,
          240000,
          268941,
          275000,
          269228,
          310000,
          344752,
          322248,
          317530,
          301255,
          280077,
          295000,
          300000
         ]
        },
        {
         "name": "Congo",
         "type": "bar",
         "x": [
          1961,
          1962,
          1963,
          1964,
          1965,
          1966,
          1967,
          1968,
          1969,
          1970,
          1971,
          1972,
          1973,
          1974,
          1975,
          1976,
          1977,
          1978,
          1979,
          1980,
          1981,
          1982,
          1983,
          1984,
          1985,
          1986,
          1987,
          1988,
          1989,
          1990,
          1991,
          1992,
          1993,
          1994,
          1995,
          1996,
          1997,
          1998,
          1999,
          2000,
          2001,
          2002,
          2003,
          2004,
          2005,
          2006,
          2007,
          2008,
          2009,
          2010,
          2011,
          2012,
          2013,
          2014,
          2015,
          2016,
          2017,
          2018,
          2019,
          2020,
          2021,
          2022
         ],
         "y": [
          900,
          630,
          800,
          1100,
          800,
          877,
          1144,
          1288,
          1195,
          1344,
          2026,
          2146,
          2114,
          2422,
          2912,
          2332,
          3021,
          2275,
          2772,
          2334,
          2214,
          2492,
          1588,
          1864,
          1845,
          1842,
          1751,
          1611,
          1994,
          2115,
          2188,
          2263,
          2341,
          2423,
          2507,
          1858,
          1875,
          1900,
          1331,
          1304,
          1278,
          1253,
          1000,
          1000,
          800,
          800,
          700,
          927,
          800,
          1200,
          1500,
          2800,
          5000,
          5000,
          2500,
          3800,
          3500,
          4500,
          5000,
          7000,
          16000,
          20000
         ]
        },
        {
         "name": "Côte d'Ivoire",
         "type": "bar",
         "x": [
          1961,
          1962,
          1963,
          1964,
          1965,
          1966,
          1967,
          1968,
          1969,
          1970,
          1971,
          1972,
          1973,
          1974,
          1975,
          1976,
          1977,
          1978,
          1979,
          1980,
          1981,
          1982,
          1983,
          1984,
          1985,
          1986,
          1987,
          1988,
          1989,
          1990,
          1991,
          1992,
          1993,
          1994,
          1995,
          1996,
          1997,
          1998,
          1999,
          2000,
          2001,
          2002,
          2003,
          2004,
          2005,
          2006,
          2007,
          2008,
          2009,
          2010,
          2011,
          2012,
          2013,
          2014,
          2015,
          2016,
          2017,
          2018,
          2019,
          2020,
          2021,
          2022
         ],
         "y": [
          85000,
          110000,
          115000,
          139069,
          121772,
          149662,
          146640,
          144476,
          180706,
          179156,
          225814,
          185445,
          208522,
          241511,
          231136,
          232330,
          303621,
          318381,
          397759,
          417222,
          464751,
          360445,
          411081,
          565042,
          555115,
          610680,
          664031,
          832177,
          780521,
          807501,
          764708,
          813009,
          803799,
          808662,
          1120000,
          1235300,
          1119110,
          1201119,
          1163025,
          1401101,
          1212428,
          1264708,
          1351546,
          1407213,
          1286330,
          1408854,
          1229908,
          1382441,
          1223153,
          1301347,
          1511255,
          1485882,
          1448992,
          1637778,
          1796000,
          1634000,
          2034000,
          2113189,
          2235043,
          2200000,
          2228459,
          2230000
         ]
        },
        {
         "name": "Democratic Republic of the Congo",
         "type": "bar",
         "x": [
          1961,
          1962,
          1963,
          1964,
          1965,
          1966,
          1967,
          1968,
          1969,
          1970,
          1971,
          1972,
          1973,
          1974,
          1975,
          1976,
          1977,
          1978,
          1979,
          1980,
          1981,
          1982,
          1983,
          1984,
          1985,
          1986,
          1987,
          1988,
          1989,
          1990,
          1991,
          1992,
          1993,
          1994,
          1995,
          1996,
          1997,
          1998,
          1999,
          2000,
          2001,
          2002,
          2003,
          2004,
          2005,
          2006,
          2007,
          2008,
          2009,
          2010,
          2011,
          2012,
          2013,
          2014,
          2015,
          2016,
          2017,
          2018,
          2019,
          2020,
          2021,
          2022
         ],
         "y": [
          5800,
          6500,
          5600,
          4800,
          4300,
          5300,
          4900,
          4500,
          4900,
          6200,
          6300,
          6500,
          5700,
          5000,
          5300,
          5400,
          5200,
          4300,
          5700,
          5900,
          4513,
          4300,
          4300,
          4388,
          4530,
          6300,
          5500,
          6200,
          7100,
          7180,
          7270,
          7361,
          7453,
          7547,
          7551,
          7576,
          7207,
          6909,
          6565,
          6582,
          6235,
          5750,
          5710,
          5670,
          5630,
          5590,
          5590,
          5510,
          5470,
          5431,
          5392,
          2000,
          2000,
          3000,
          6000,
          10200,
          13500,
          18475,
          22058,
          26337,
          20000,
          20000
         ]
        },
        {
         "name": "Equatorial Guinea",
         "type": "bar",
         "x": [
          1961,
          1962,
          1963,
          1964,
          1965,
          1966,
          1967,
          1968,
          1969,
          1970,
          1971,
          1972,
          1973,
          1974,
          1975,
          1976,
          1977,
          1978,
          1979,
          1980,
          1981,
          1982,
          1983,
          1984,
          1985,
          1986,
          1987,
          1988,
          1989,
          1990,
          1991,
          1992,
          1993,
          1994,
          1995,
          1996,
          1997,
          1998,
          1999,
          2000,
          2001,
          2002,
          2003,
          2004,
          2005,
          2006,
          2007,
          2008,
          2009,
          2010,
          2011,
          2012,
          2013,
          2014,
          2015,
          2016,
          2017,
          2018,
          2019,
          2020,
          2021,
          2022
         ],
         "y": [
          26000,
          30900,
          33000,
          35100,
          35400,
          38200,
          33600,
          38000,
          28000,
          35000,
          22000,
          10000,
          12000,
          13000,
          10000,
          6000,
          6000,
          6000,
          6000,
          8000,
          9900,
          7000,
          6600,
          7000,
          6000,
          6200,
          8300,
          8190,
          6570,
          6793,
          5673,
          4298,
          2957,
          3214,
          4248,
          4318,
          5018,
          4356,
          5500,
          4900,
          4000,
          2013,
          2422,
          3000,
          3000,
          2000,
          2500,
          2000,
          1200,
          1200,
          900,
          700,
          700,
          892,
          1000,
          1000,
          1000,
          1000,
          1000,
          1000,
          600,
          1000
         ]
        },
        {
         "name": "Gabon",
         "type": "bar",
         "x": [
          1961,
          1962,
          1963,
          1964,
          1965,
          1966,
          1967,
          1968,
          1969,
          1970,
          1971,
          1972,
          1973,
          1974,
          1975,
          1976,
          1977,
          1978,
          1979,
          1980,
          1981,
          1982,
          1983,
          1984,
          1985,
          1986,
          1987,
          1988,
          1989,
          1990,
          1991,
          1992,
          1993,
          1994,
          1995,
          1996,
          1997,
          1998,
          1999,
          2000,
          2001,
          2002,
          2003,
          2004,
          2005,
          2006,
          2007,
          2008,
          2009,
          2010,
          2011,
          2012,
          2013,
          2014,
          2015,
          2016,
          2017,
          2018,
          2019,
          2020,
          2021,
          2022
         ],
         "y": [
          3190,
          3360,
          3600,
          4000,
          2170,
          4296,
          4061,
          4751,
          4366,
          6095,
          5031,
          5030,
          5151,
          4869,
          4549,
          3573,
          3573,
          3710,
          4754,
          3814,
          2850,
          2900,
          2500,
          1595,
          1500,
          1628,
          1574,
          1802,
          1800,
          1502,
          1802,
          2925,
          1966,
          718,
          774,
          1022,
          686,
          500,
          700,
          500,
          416,
          500,
          600,
          200,
          195,
          200,
          100,
          200,
          200,
          100,
          600,
          100,
          200,
          203,
          100,
          100,
          100,
          100,
          100,
          100,
          100,
          100
         ]
        },
        {
         "name": "Ghana",
         "type": "bar",
         "x": [
          1961,
          1962,
          1963,
          1964,
          1965,
          1966,
          1967,
          1968,
          1969,
          1970,
          1971,
          1972,
          1973,
          1974,
          1975,
          1976,
          1977,
          1978,
          1979,
          1980,
          1981,
          1982,
          1983,
          1984,
          1985,
          1986,
          1987,
          1988,
          1989,
          1990,
          1991,
          1992,
          1993,
          1994,
          1995,
          1996,
          1997,
          1998,
          1999,
          2000,
          2001,
          2002,
          2003,
          2004,
          2005,
          2006,
          2007,
          2008,
          2009,
          2010,
          2011,
          2012,
          2013,
          2014,
          2015,
          2016,
          2017,
          2018,
          2019,
          2020,
          2021,
          2022
         ],
         "y": [
          415200,
          428100,
          427800,
          580500,
          415800,
          381100,
          423500,
          327000,
          414300,
          406000,
          470000,
          415700,
          343000,
          385100,
          397300,
          326700,
          277400,
          268200,
          280800,
          277200,
          246500,
          202500,
          168100,
          166700,
          194400,
          226400,
          188170,
          246700,
          295052,
          293355,
          241796,
          312122,
          254652,
          288075,
          403900,
          403000,
          322490,
          409360,
          434200,
          436600,
          389591,
          340562,
          497000,
          737000,
          740000,
          734000,
          614500,
          680781,
          710638,
          632037,
          700020,
          879348,
          835466,
          858720,
          858720,
          858720,
          969300,
          904700,
          811700,
          800000,
          1047385,
          1108663
         ]
        },
        {
         "name": "Nigeria",
         "type": "bar",
         "x": [
          1961,
          1962,
          1963,
          1964,
          1965,
          1966,
          1967,
          1968,
          1969,
          1970,
          1971,
          1972,
          1973,
          1974,
          1975,
          1976,
          1977,
          1978,
          1979,
          1980,
          1981,
          1982,
          1983,
          1984,
          1985,
          1986,
          1987,
          1988,
          1989,
          1990,
          1991,
          1992,
          1993,
          1994,
          1995,
          1996,
          1997,
          1998,
          1999,
          2000,
          2001,
          2002,
          2003,
          2004,
          2005,
          2006,
          2007,
          2008,
          2009,
          2010,
          2011,
          2012,
          2013,
          2014,
          2015,
          2016,
          2017,
          2018,
          2019,
          2020,
          2021,
          2022
         ],
         "y": [
          197000,
          182000,
          223000,
          298300,
          184600,
          267200,
          238000,
          191800,
          220800,
          304800,
          256600,
          241100,
          215000,
          214000,
          216000,
          181000,
          193000,
          157000,
          151000,
          153000,
          174000,
          156000,
          140000,
          160800,
          160000,
          148000,
          150000,
          253000,
          256000,
          244000,
          268000,
          292000,
          306000,
          323000,
          203000,
          323000,
          318000,
          370000,
          225000,
          338000,
          340000,
          362000,
          385000,
          412000,
          441000,
          485000,
          360570,
          367020,
          363510,
          399200,
          391000,
          383000,
          367000,
          329870,
          302066,
          298029,
          250000,
          270000,
          250000,
          357608,
          280000,
          280000
         ]
        },
        {
         "name": "Sao Tome and Principe",
         "type": "bar",
         "x": [
          1961,
          1962,
          1963,
          1964,
          1965,
          1966,
          1967,
          1968,
          1969,
          1970,
          1971,
          1972,
          1973,
          1974,
          1975,
          1976,
          1977,
          1978,
          1979,
          1980,
          1981,
          1982,
          1983,
          1984,
          1985,
          1986,
          1987,
          1988,
          1989,
          1990,
          1991,
          1992,
          1993,
          1994,
          1995,
          1996,
          1997,
          1998,
          1999,
          2000,
          2001,
          2002,
          2003,
          2004,
          2005,
          2006,
          2007,
          2008,
          2009,
          2010,
          2011,
          2012,
          2013,
          2014,
          2015,
          2016,
          2017,
          2018,
          2019,
          2020,
          2021,
          2022
         ],
         "y": [
          9100,
          9600,
          7800,
          10700,
          8900,
          10900,
          10900,
          10600,
          9100,
          9700,
          11034,
          10395,
          11300,
          10400,
          7900,
          7000,
          5500,
          7000,
          7500,
          5700,
          6500,
          5100,
          4700,
          3378,
          3848,
          4032,
          3957,
          5050,
          3707,
          2799,
          2862,
          4188,
          4492,
          4500,
          3671,
          3753,
          3138,
          3928,
          4197,
          3418,
          3652,
          3462,
          3820,
          2500,
          1843,
          1900,
          2800,
          2000,
          2500,
          2600,
          2218,
          2230,
          2617,
          3200,
          3000,
          3001,
          3501,
          3046,
          3000,
          3000,
          3000,
          3000
         ]
        },
        {
         "name": "Sierra Leone",
         "type": "bar",
         "x": [
          1961,
          1962,
          1963,
          1964,
          1965,
          1966,
          1967,
          1968,
          1969,
          1970,
          1971,
          1972,
          1973,
          1974,
          1975,
          1976,
          1977,
          1978,
          1979,
          1980,
          1981,
          1982,
          1983,
          1984,
          1985,
          1986,
          1987,
          1988,
          1989,
          1990,
          1991,
          1992,
          1993,
          1994,
          1995,
          1996,
          1997,
          1998,
          1999,
          2000,
          2001,
          2002,
          2003,
          2004,
          2005,
          2006,
          2007,
          2008,
          2009,
          2010,
          2011,
          2012,
          2013,
          2014,
          2015,
          2016,
          2017,
          2018,
          2019,
          2020,
          2021,
          2022
         ],
         "y": [
          2840,
          4780,
          3310,
          3180,
          2980,
          4534,
          3869,
          5039,
          3782,
          5080,
          4770,
          7028,
          7931,
          5933,
          6340,
          5790,
          5454,
          7100,
          9111,
          8497,
          9026,
          15100,
          12500,
          16600,
          18600,
          20900,
          23500,
          23700,
          24200,
          24000,
          24000,
          5400,
          5400,
          11737,
          10000,
          11000,
          13000,
          14500,
          10920,
          12000,
          11000,
          11500,
          12000,
          13500,
          15000,
          13940,
          14000,
          10500,
          10000,
          19700,
          18000,
          18000,
          14850,
          17082,
          12000,
          47705,
          48903,
          50150,
          14648,
          18000,
          15000,
          18000
         ]
        },
        {
         "name": "Togo",
         "type": "bar",
         "x": [
          1961,
          1962,
          1963,
          1964,
          1965,
          1966,
          1967,
          1968,
          1969,
          1970,
          1971,
          1972,
          1973,
          1974,
          1975,
          1976,
          1977,
          1978,
          1979,
          1980,
          1981,
          1982,
          1983,
          1984,
          1985,
          1986,
          1987,
          1988,
          1989,
          1990,
          1991,
          1992,
          1993,
          1994,
          1995,
          1996,
          1997,
          1998,
          1999,
          2000,
          2001,
          2002,
          2003,
          2004,
          2005,
          2006,
          2007,
          2008,
          2009,
          2010,
          2011,
          2012,
          2013,
          2014,
          2015,
          2016,
          2017,
          2018,
          2019,
          2020,
          2021,
          2022
         ],
         "y": [
          11550,
          11400,
          13900,
          17500,
          14300,
          16300,
          18338,
          20000,
          23600,
          27900,
          29000,
          18600,
          16500,
          14500,
          17750,
          14100,
          16700,
          12600,
          15300,
          16300,
          11000,
          13800,
          16600,
          9795,
          14272,
          12585,
          11057,
          8265,
          7646,
          6814,
          4100,
          6000,
          7200,
          5500,
          6000,
          14200,
          5800,
          12200,
          7000,
          6600,
          10200,
          7500,
          5100,
          21700,
          53000,
          73000,
          78000,
          111000,
          105000,
          101500,
          142500,
          34500,
          15000,
          22182,
          10000,
          10000,
          8500,
          7500,
          10600,
          13000,
          10000,
          14000
         ]
        }
       ],
       "layout": {
        "autosize": true,
        "barmode": "stack",
        "legend": {
         "title": {
          "text": "Country"
         }
        },
        "template": {
         "data": {
          "bar": [
           {
            "error_x": {
             "color": "#2a3f5f"
            },
            "error_y": {
             "color": "#2a3f5f"
            },
            "marker": {
             "line": {
              "color": "#E5ECF6",
              "width": 0.5
             },
             "pattern": {
              "fillmode": "overlay",
              "size": 10,
              "solidity": 0.2
             }
            },
            "type": "bar"
           }
          ],
          "barpolar": [
           {
            "marker": {
             "line": {
              "color": "#E5ECF6",
              "width": 0.5
             },
             "pattern": {
              "fillmode": "overlay",
              "size": 10,
              "solidity": 0.2
             }
            },
            "type": "barpolar"
           }
          ],
          "carpet": [
           {
            "aaxis": {
             "endlinecolor": "#2a3f5f",
             "gridcolor": "white",
             "linecolor": "white",
             "minorgridcolor": "white",
             "startlinecolor": "#2a3f5f"
            },
            "baxis": {
             "endlinecolor": "#2a3f5f",
             "gridcolor": "white",
             "linecolor": "white",
             "minorgridcolor": "white",
             "startlinecolor": "#2a3f5f"
            },
            "type": "carpet"
           }
          ],
          "choropleth": [
           {
            "colorbar": {
             "outlinewidth": 0,
             "ticks": ""
            },
            "type": "choropleth"
           }
          ],
          "contour": [
           {
            "colorbar": {
             "outlinewidth": 0,
             "ticks": ""
            },
            "colorscale": [
             [
              0,
              "#0d0887"
             ],
             [
              0.1111111111111111,
              "#46039f"
             ],
             [
              0.2222222222222222,
              "#7201a8"
             ],
             [
              0.3333333333333333,
              "#9c179e"
             ],
             [
              0.4444444444444444,
              "#bd3786"
             ],
             [
              0.5555555555555556,
              "#d8576b"
             ],
             [
              0.6666666666666666,
              "#ed7953"
             ],
             [
              0.7777777777777778,
              "#fb9f3a"
             ],
             [
              0.8888888888888888,
              "#fdca26"
             ],
             [
              1,
              "#f0f921"
             ]
            ],
            "type": "contour"
           }
          ],
          "contourcarpet": [
           {
            "colorbar": {
             "outlinewidth": 0,
             "ticks": ""
            },
            "type": "contourcarpet"
           }
          ],
          "heatmap": [
           {
            "colorbar": {
             "outlinewidth": 0,
             "ticks": ""
            },
            "colorscale": [
             [
              0,
              "#0d0887"
             ],
             [
              0.1111111111111111,
              "#46039f"
             ],
             [
              0.2222222222222222,
              "#7201a8"
             ],
             [
              0.3333333333333333,
              "#9c179e"
             ],
             [
              0.4444444444444444,
              "#bd3786"
             ],
             [
              0.5555555555555556,
              "#d8576b"
             ],
             [
              0.6666666666666666,
              "#ed7953"
             ],
             [
              0.7777777777777778,
              "#fb9f3a"
             ],
             [
              0.8888888888888888,
              "#fdca26"
             ],
             [
              1,
              "#f0f921"
             ]
            ],
            "type": "heatmap"
           }
          ],
          "heatmapgl": [
           {
            "colorbar": {
             "outlinewidth": 0,
             "ticks": ""
            },
            "colorscale": [
             [
              0,
              "#0d0887"
             ],
             [
              0.1111111111111111,
              "#46039f"
             ],
             [
              0.2222222222222222,
              "#7201a8"
             ],
             [
              0.3333333333333333,
              "#9c179e"
             ],
             [
              0.4444444444444444,
              "#bd3786"
             ],
             [
              0.5555555555555556,
              "#d8576b"
             ],
             [
              0.6666666666666666,
              "#ed7953"
             ],
             [
              0.7777777777777778,
              "#fb9f3a"
             ],
             [
              0.8888888888888888,
              "#fdca26"
             ],
             [
              1,
              "#f0f921"
             ]
            ],
            "type": "heatmapgl"
           }
          ],
          "histogram": [
           {
            "marker": {
             "pattern": {
              "fillmode": "overlay",
              "size": 10,
              "solidity": 0.2
             }
            },
            "type": "histogram"
           }
          ],
          "histogram2d": [
           {
            "colorbar": {
             "outlinewidth": 0,
             "ticks": ""
            },
            "colorscale": [
             [
              0,
              "#0d0887"
             ],
             [
              0.1111111111111111,
              "#46039f"
             ],
             [
              0.2222222222222222,
              "#7201a8"
             ],
             [
              0.3333333333333333,
              "#9c179e"
             ],
             [
              0.4444444444444444,
              "#bd3786"
             ],
             [
              0.5555555555555556,
              "#d8576b"
             ],
             [
              0.6666666666666666,
              "#ed7953"
             ],
             [
              0.7777777777777778,
              "#fb9f3a"
             ],
             [
              0.8888888888888888,
              "#fdca26"
             ],
             [
              1,
              "#f0f921"
             ]
            ],
            "type": "histogram2d"
           }
          ],
          "histogram2dcontour": [
           {
            "colorbar": {
             "outlinewidth": 0,
             "ticks": ""
            },
            "colorscale": [
             [
              0,
              "#0d0887"
             ],
             [
              0.1111111111111111,
              "#46039f"
             ],
             [
              0.2222222222222222,
              "#7201a8"
             ],
             [
              0.3333333333333333,
              "#9c179e"
             ],
             [
              0.4444444444444444,
              "#bd3786"
             ],
             [
              0.5555555555555556,
              "#d8576b"
             ],
             [
              0.6666666666666666,
              "#ed7953"
             ],
             [
              0.7777777777777778,
              "#fb9f3a"
             ],
             [
              0.8888888888888888,
              "#fdca26"
             ],
             [
              1,
              "#f0f921"
             ]
            ],
            "type": "histogram2dcontour"
           }
          ],
          "mesh3d": [
           {
            "colorbar": {
             "outlinewidth": 0,
             "ticks": ""
            },
            "type": "mesh3d"
           }
          ],
          "parcoords": [
           {
            "line": {
             "colorbar": {
              "outlinewidth": 0,
              "ticks": ""
             }
            },
            "type": "parcoords"
           }
          ],
          "pie": [
           {
            "automargin": true,
            "type": "pie"
           }
          ],
          "scatter": [
           {
            "fillpattern": {
             "fillmode": "overlay",
             "size": 10,
             "solidity": 0.2
            },
            "type": "scatter"
           }
          ],
          "scatter3d": [
           {
            "line": {
             "colorbar": {
              "outlinewidth": 0,
              "ticks": ""
             }
            },
            "marker": {
             "colorbar": {
              "outlinewidth": 0,
              "ticks": ""
             }
            },
            "type": "scatter3d"
           }
          ],
          "scattercarpet": [
           {
            "marker": {
             "colorbar": {
              "outlinewidth": 0,
              "ticks": ""
             }
            },
            "type": "scattercarpet"
           }
          ],
          "scattergeo": [
           {
            "marker": {
             "colorbar": {
              "outlinewidth": 0,
              "ticks": ""
             }
            },
            "type": "scattergeo"
           }
          ],
          "scattergl": [
           {
            "marker": {
             "colorbar": {
              "outlinewidth": 0,
              "ticks": ""
             }
            },
            "type": "scattergl"
           }
          ],
          "scattermapbox": [
           {
            "marker": {
             "colorbar": {
              "outlinewidth": 0,
              "ticks": ""
             }
            },
            "type": "scattermapbox"
           }
          ],
          "scatterpolar": [
           {
            "marker": {
             "colorbar": {
              "outlinewidth": 0,
              "ticks": ""
             }
            },
            "type": "scatterpolar"
           }
          ],
          "scatterpolargl": [
           {
            "marker": {
             "colorbar": {
              "outlinewidth": 0,
              "ticks": ""
             }
            },
            "type": "scatterpolargl"
           }
          ],
          "scatterternary": [
           {
            "marker": {
             "colorbar": {
              "outlinewidth": 0,
              "ticks": ""
             }
            },
            "type": "scatterternary"
           }
          ],
          "surface": [
           {
            "colorbar": {
             "outlinewidth": 0,
             "ticks": ""
            },
            "colorscale": [
             [
              0,
              "#0d0887"
             ],
             [
              0.1111111111111111,
              "#46039f"
             ],
             [
              0.2222222222222222,
              "#7201a8"
             ],
             [
              0.3333333333333333,
              "#9c179e"
             ],
             [
              0.4444444444444444,
              "#bd3786"
             ],
             [
              0.5555555555555556,
              "#d8576b"
             ],
             [
              0.6666666666666666,
              "#ed7953"
             ],
             [
              0.7777777777777778,
              "#fb9f3a"
             ],
             [
              0.8888888888888888,
              "#fdca26"
             ],
             [
              1,
              "#f0f921"
             ]
            ],
            "type": "surface"
           }
          ],
          "table": [
           {
            "cells": {
             "fill": {
              "color": "#EBF0F8"
             },
             "line": {
              "color": "white"
             }
            },
            "header": {
             "fill": {
              "color": "#C8D4E3"
             },
             "line": {
              "color": "white"
             }
            },
            "type": "table"
           }
          ]
         },
         "layout": {
          "annotationdefaults": {
           "arrowcolor": "#2a3f5f",
           "arrowhead": 0,
           "arrowwidth": 1
          },
          "autotypenumbers": "strict",
          "coloraxis": {
           "colorbar": {
            "outlinewidth": 0,
            "ticks": ""
           }
          },
          "colorscale": {
           "diverging": [
            [
             0,
             "#8e0152"
            ],
            [
             0.1,
             "#c51b7d"
            ],
            [
             0.2,
             "#de77ae"
            ],
            [
             0.3,
             "#f1b6da"
            ],
            [
             0.4,
             "#fde0ef"
            ],
            [
             0.5,
             "#f7f7f7"
            ],
            [
             0.6,
             "#e6f5d0"
            ],
            [
             0.7,
             "#b8e186"
            ],
            [
             0.8,
             "#7fbc41"
            ],
            [
             0.9,
             "#4d9221"
            ],
            [
             1,
             "#276419"
            ]
           ],
           "sequential": [
            [
             0,
             "#0d0887"
            ],
            [
             0.1111111111111111,
             "#46039f"
            ],
            [
             0.2222222222222222,
             "#7201a8"
            ],
            [
             0.3333333333333333,
             "#9c179e"
            ],
            [
             0.4444444444444444,
             "#bd3786"
            ],
            [
             0.5555555555555556,
             "#d8576b"
            ],
            [
             0.6666666666666666,
             "#ed7953"
            ],
            [
             0.7777777777777778,
             "#fb9f3a"
            ],
            [
             0.8888888888888888,
             "#fdca26"
            ],
            [
             1,
             "#f0f921"
            ]
           ],
           "sequentialminus": [
            [
             0,
             "#0d0887"
            ],
            [
             0.1111111111111111,
             "#46039f"
            ],
            [
             0.2222222222222222,
             "#7201a8"
            ],
            [
             0.3333333333333333,
             "#9c179e"
            ],
            [
             0.4444444444444444,
             "#bd3786"
            ],
            [
             0.5555555555555556,
             "#d8576b"
            ],
            [
             0.6666666666666666,
             "#ed7953"
            ],
            [
             0.7777777777777778,
             "#fb9f3a"
            ],
            [
             0.8888888888888888,
             "#fdca26"
            ],
            [
             1,
             "#f0f921"
            ]
           ]
          },
          "colorway": [
           "#636efa",
           "#EF553B",
           "#00cc96",
           "#ab63fa",
           "#FFA15A",
           "#19d3f3",
           "#FF6692",
           "#B6E880",
           "#FF97FF",
           "#FECB52"
          ],
          "font": {
           "color": "#2a3f5f"
          },
          "geo": {
           "bgcolor": "white",
           "lakecolor": "white",
           "landcolor": "#E5ECF6",
           "showlakes": true,
           "showland": true,
           "subunitcolor": "white"
          },
          "hoverlabel": {
           "align": "left"
          },
          "hovermode": "closest",
          "mapbox": {
           "style": "light"
          },
          "paper_bgcolor": "white",
          "plot_bgcolor": "#E5ECF6",
          "polar": {
           "angularaxis": {
            "gridcolor": "white",
            "linecolor": "white",
            "ticks": ""
           },
           "bgcolor": "#E5ECF6",
           "radialaxis": {
            "gridcolor": "white",
            "linecolor": "white",
            "ticks": ""
           }
          },
          "scene": {
           "xaxis": {
            "backgroundcolor": "#E5ECF6",
            "gridcolor": "white",
            "gridwidth": 2,
            "linecolor": "white",
            "showbackground": true,
            "ticks": "",
            "zerolinecolor": "white"
           },
           "yaxis": {
            "backgroundcolor": "#E5ECF6",
            "gridcolor": "white",
            "gridwidth": 2,
            "linecolor": "white",
            "showbackground": true,
            "ticks": "",
            "zerolinecolor": "white"
           },
           "zaxis": {
            "backgroundcolor": "#E5ECF6",
            "gridcolor": "white",
            "gridwidth": 2,
            "linecolor": "white",
            "showbackground": true,
            "ticks": "",
            "zerolinecolor": "white"
           }
          },
          "shapedefaults": {
           "line": {
            "color": "#2a3f5f"
           }
          },
          "ternary": {
           "aaxis": {
            "gridcolor": "white",
            "linecolor": "white",
            "ticks": ""
           },
           "baxis": {
            "gridcolor": "white",
            "linecolor": "white",
            "ticks": ""
           },
           "bgcolor": "#E5ECF6",
           "caxis": {
            "gridcolor": "white",
            "linecolor": "white",
            "ticks": ""
           }
          },
          "title": {
           "x": 0.05
          },
          "xaxis": {
           "automargin": true,
           "gridcolor": "white",
           "linecolor": "white",
           "ticks": "",
           "title": {
            "standoff": 15
           },
           "zerolinecolor": "white",
           "zerolinewidth": 2
          },
          "yaxis": {
           "automargin": true,
           "gridcolor": "white",
           "linecolor": "white",
           "ticks": "",
           "title": {
            "standoff": 15
           },
           "zerolinecolor": "white",
           "zerolinewidth": 2
          }
         }
        },
        "title": {
         "text": "Total Cocoa Production by Country Over Time",
         "x": 0.5
        },
        "xaxis": {
         "autorange": true,
         "range": [
          1960.5,
          2022.5
         ],
         "showspikes": false,
         "title": {
          "text": "Year"
         },
         "type": "linear"
        },
        "yaxis": {
         "autorange": true,
         "range": [
          0,
          4205013.684210527
         ],
         "showspikes": false,
         "title": {
          "text": "Cocoa Production (tons)"
         },
         "type": "linear"
        }
       }
      },
      "image/png": "[encoded data removed]",
      "text/html": [
       "<div>                            <div id=\"43949f95-5883-4d36-9bfb-2217cd26b706\" class=\"plotly-graph-div\" style=\"height:525px; width:100%;\"></div>            <script type=\"text/javascript\">                require([\"plotly\"], function(Plotly) {                    window.PLOTLYENV=window.PLOTLYENV || {};                                    if (document.getElementById(\"43949f95-5883-4d36-9bfb-2217cd26b706\")) {                    Plotly.newPlot(                        \"43949f95-5883-4d36-9bfb-2217cd26b706\",                        [{\"name\":\"Cameroon\",\"x\":[1961,1962,1963,1964,1965,1966,1967,1968,1969,1970,1971,1972,1973,1974,1975,1976,1977,1978,1979,1980,1981,1982,1983,1984,1985,1986,1987,1988,1989,1990,1991,1992,1993,1994,1995,1996,1997,1998,1999,2000,2001,2002,2003,2004,2005,2006,2007,2008,2009,2010,2011,2012,2013,2014,2015,2016,2017,2018,2019,2020,2021,2022],\"y\":[75100,76000,85000,91200,78800,86500,93000,102000,108186,133770,138775,126780,132245,120014,96000,82500,107000,110865,123179,117053,118344,105153,108900,120894,118320,123090,132800,129400,125700,115000,105000,97835,99000,107000,134000,125726,126807,125000,116000,122600,122100,125000,154965,166754,140000,164553,212619,229203,235500,264077,240000,268941,275000,269228,310000,344752,322248,317530,301255,280077,295000,300000],\"type\":\"bar\"},{\"name\":\"Congo\",\"x\":[1961,1962,1963,1964,1965,1966,1967,1968,1969,1970,1971,1972,1973,1974,1975,1976,1977,1978,1979,1980,1981,1982,1983,1984,1985,1986,1987,1988,1989,1990,1991,1992,1993,1994,1995,1996,1997,1998,1999,2000,2001,2002,2003,2004,2005,2006,2007,2008,2009,2010,2011,2012,2013,2014,2015,2016,2017,2018,2019,2020,2021,2022],\"y\":[900,630,800,1100,800,877,1144,1288,1195,1344,2026,2146,2114,2422,2912,2332,3021,2275,2772,2334,2214,2492,1588,1864,1845,1842,1751,1611,1994,2115,2188,2263,2341,2423,2507,1858,1875,1900,1331,1304,1278,1253,1000,1000,800,800,700,927,800,1200,1500,2800,5000,5000,2500,3800,3500,4500,5000,7000,16000,20000],\"type\":\"bar\"},{\"name\":\"C\\u00f4te d'Ivoire\",\"x\":[1961,1962,1963,1964,1965,1966,1967,1968,1969,1970,1971,1972,1973,1974,1975,1976,1977,1978,1979,1980,1981,1982,1983,1984,1985,1986,1987,1988,1989,1990,1991,1992,1993,1994,1995,1996,1997,1998,1999,2000,2001,2002,2003,2004,2005,2006,2007,2008,2009,2010,2011,2012,2013,2014,2015,2016,2017,2018,2019,2020,2021,2022],\"y\":[85000,110000,115000,139069,121772,149662,146640,144476,180706,179156,225814,185445,208522,241511,231136,232330,303621,318381,397759,417222,464751,360445,411081,565042,555115,610680,664031,832177,780521,807501,764708,813009,803799,808662,1120000,1235300,1119110,1201119,1163025,1401101,1212428,1264708,1351546,1407213,1286330,1408854,1229908,1382441,1223153,1301347,1511255,1485882,1448992,1637778,1796000,1634000,2034000,2113189,2235043,2200000,2228459,2230000],\"type\":\"bar\"},{\"name\":\"Democratic Republic of the Congo\",\"x\":[1961,1962,1963,1964,1965,1966,1967,1968,1969,1970,1971,1972,1973,1974,1975,1976,1977,1978,1979,1980,1981,1982,1983,1984,1985,1986,1987,1988,1989,1990,1991,1992,1993,1994,1995,1996,1997,1998,1999,2000,2001,2002,2003,2004,2005,2006,2007,2008,2009,2010,2011,2012,2013,2014,2015,2016,2017,2018,2019,2020,2021,2022],\"y\":[5800,6500,5600,4800,4300,5300,4900,4500,4900,6200,6300,6500,5700,5000,5300,5400,5200,4300,5700,5900,4513,4300,4300,4388,4530,6300,5500,6200,7100,7180,7270,7361,7453,7547,7551,7576,7207,6909,6565,6582,6235,5750,5710,5670,5630,5590,5590,5510,5470,5431,5392,2000,2000,3000,6000,10200,13500,18475,22058,26337,20000,20000],\"type\":\"bar\"},{\"name\":\"Equatorial Guinea\",\"x\":[1961,1962,1963,1964,1965,1966,1967,1968,1969,1970,1971,1972,1973,1974,1975,1976,1977,1978,1979,1980,1981,1982,1983,1984,1985,1986,1987,1988,1989,1990,1991,1992,1993,1994,1995,1996,1997,1998,1999,2000,2001,2002,2003,2004,2005,2006,2007,2008,2009,2010,2011,2012,2013,2014,2015,2016,2017,2018,2019,2020,2021,2022],\"y\":[26000,30900,33000,35100,35400,38200,33600,38000,28000,35000,22000,10000,12000,13000,10000,6000,6000,6000,6000,8000,9900,7000,6600,7000,6000,6200,8300,8190,6570,6793,5673,4298,2957,3214,4248,4318,5018,4356,5500,4900,4000,2013,2422,3000,3000,2000,2500,2000,1200,1200,900,700,700,892,1000,1000,1000,1000,1000,1000,600,1000],\"type\":\"bar\"},{\"name\":\"Gabon\",\"x\":[1961,1962,1963,1964,1965,1966,1967,1968,1969,1970,1971,1972,1973,1974,1975,1976,1977,1978,1979,1980,1981,1982,1983,1984,1985,1986,1987,1988,1989,1990,1991,1992,1993,1994,1995,1996,1997,1998,1999,2000,2001,2002,2003,2004,2005,2006,2007,2008,2009,2010,2011,2012,2013,2014,2015,2016,2017,2018,2019,2020,2021,2022],\"y\":[3190,3360,3600,4000,2170,4296,4061,4751,4366,6095,5031,5030,5151,4869,4549,3573,3573,3710,4754,3814,2850,2900,2500,1595,1500,1628,1574,1802,1800,1502,1802,2925,1966,718,774,1022,686,500,700,500,416,500,600,200,195,200,100,200,200,100,600,100,200,203,100,100,100,100,100,100,100,100],\"type\":\"bar\"},{\"name\":\"Ghana\",\"x\":[1961,1962,1963,1964,1965,1966,1967,1968,1969,1970,1971,1972,1973,1974,1975,1976,1977,1978,1979,1980,1981,1982,1983,1984,1985,1986,1987,1988,1989,1990,1991,1992,1993,1994,1995,1996,1997,1998,1999,2000,2001,2002,2003,2004,2005,2006,2007,2008,2009,2010,2011,2012,2013,2014,2015,2016,2017,2018,2019,2020,2021,2022],\"y\":[415200,428100,427800,580500,415800,381100,423500,327000,414300,406000,470000,415700,343000,385100,397300,326700,277400,268200,280800,277200,246500,202500,168100,166700,194400,226400,188170,246700,295052,293355,241796,312122,254652,288075,403900,403000,322490,409360,434200,436600,389591,340562,497000,737000,740000,734000,614500,680781,710638,632037,700020,879348,835466,858720,858720,858720,969300,904700,811700,800000,1047385,1108663],\"type\":\"bar\"},{\"name\":\"Nigeria\",\"x\":[1961,1962,1963,1964,1965,1966,1967,1968,1969,1970,1971,1972,1973,1974,1975,1976,1977,1978,1979,1980,1981,1982,1983,1984,1985,1986,1987,1988,1989,1990,1991,1992,1993,1994,1995,1996,1997,1998,1999,2000,2001,2002,2003,2004,2005,2006,2007,2008,2009,2010,2011,2012,2013,2014,2015,2016,2017,2018,2019,2020,2021,2022],\"y\":[197000,182000,223000,298300,184600,267200,238000,191800,220800,304800,256600,241100,215000,214000,216000,181000,193000,157000,151000,153000,174000,156000,140000,160800,160000,148000,150000,253000,256000,244000,268000,292000,306000,323000,203000,323000,318000,370000,225000,338000,340000,362000,385000,412000,441000,485000,360570,367020,363510,399200,391000,383000,367000,329870,302066,298029,250000,270000,250000,357608,280000,280000],\"type\":\"bar\"},{\"name\":\"Sao Tome and Principe\",\"x\":[1961,1962,1963,1964,1965,1966,1967,1968,1969,1970,1971,1972,1973,1974,1975,1976,1977,1978,1979,1980,1981,1982,1983,1984,1985,1986,1987,1988,1989,1990,1991,1992,1993,1994,1995,1996,1997,1998,1999,2000,2001,2002,2003,2004,2005,2006,2007,2008,2009,2010,2011,2012,2013,2014,2015,2016,2017,2018,2019,2020,2021,2022],\"y\":[9100,9600,7800,10700,8900,10900,10900,10600,9100,9700,11034,10395,11300,10400,7900,7000,5500,7000,7500,5700,6500,5100,4700,3378,3848,4032,3957,5050,3707,2799,2862,4188,4492,4500,3671,3753,3138,3928,4197,3418,3652,3462,3820,2500,1843,1900,2800,2000,2500,2600,2218,2230,2617,3200,3000,3001,3501,3046,3000,3000,3000,3000],\"type\":\"bar\"},{\"name\":\"Sierra Leone\",\"x\":[1961,1962,1963,1964,1965,1966,1967,1968,1969,1970,1971,1972,1973,1974,1975,1976,1977,1978,1979,1980,1981,1982,1983,1984,1985,1986,1987,1988,1989,1990,1991,1992,1993,1994,1995,1996,1997,1998,1999,2000,2001,2002,2003,2004,2005,2006,2007,2008,2009,2010,2011,2012,2013,2014,2015,2016,2017,2018,2019,2020,2021,2022],\"y\":[2840,4780,3310,3180,2980,4534,3869,5039,3782,5080,4770,7028,7931,5933,6340,5790,5454,7100,9111,8497,9026,15100,12500,16600,18600,20900,23500,23700,24200,24000,24000,5400,5400,11737,10000,11000,13000,14500,10920,12000,11000,11500,12000,13500,15000,13940,14000,10500,10000,19700,18000,18000,14850,17082,12000,47705,48903,50150,14648,18000,15000,18000],\"type\":\"bar\"},{\"name\":\"Togo\",\"x\":[1961,1962,1963,1964,1965,1966,1967,1968,1969,1970,1971,1972,1973,1974,1975,1976,1977,1978,1979,1980,1981,1982,1983,1984,1985,1986,1987,1988,1989,1990,1991,1992,1993,1994,1995,1996,1997,1998,1999,2000,2001,2002,2003,2004,2005,2006,2007,2008,2009,2010,2011,2012,2013,2014,2015,2016,2017,2018,2019,2020,2021,2022],\"y\":[11550,11400,13900,17500,14300,16300,18338,20000,23600,27900,29000,18600,16500,14500,17750,14100,16700,12600,15300,16300,11000,13800,16600,9795,14272,12585,11057,8265,7646,6814,4100,6000,7200,5500,6000,14200,5800,12200,7000,6600,10200,7500,5100,21700,53000,73000,78000,111000,105000,101500,142500,34500,15000,22182,10000,10000,8500,7500,10600,13000,10000,14000],\"type\":\"bar\"}],                        {\"template\":{\"data\":{\"histogram2dcontour\":[{\"type\":\"histogram2dcontour\",\"colorbar\":{\"outlinewidth\":0,\"ticks\":\"\"},\"colorscale\":[[0.0,\"#0d0887\"],[0.1111111111111111,\"#46039f\"],[0.2222222222222222,\"#7201a8\"],[0.3333333333333333,\"#9c179e\"],[0.4444444444444444,\"#bd3786\"],[0.5555555555555556,\"#d8576b\"],[0.6666666666666666,\"#ed7953\"],[0.7777777777777778,\"#fb9f3a\"],[0.8888888888888888,\"#fdca26\"],[1.0,\"#f0f921\"]]}],\"choropleth\":[{\"type\":\"choropleth\",\"colorbar\":{\"outlinewidth\":0,\"ticks\":\"\"}}],\"histogram2d\":[{\"type\":\"histogram2d\",\"colorbar\":{\"outlinewidth\":0,\"ticks\":\"\"},\"colorscale\":[[0.0,\"#0d0887\"],[0.1111111111111111,\"#46039f\"],[0.2222222222222222,\"#7201a8\"],[0.3333333333333333,\"#9c179e\"],[0.4444444444444444,\"#bd3786\"],[0.5555555555555556,\"#d8576b\"],[0.6666666666666666,\"#ed7953\"],[0.7777777777777778,\"#fb9f3a\"],[0.8888888888888888,\"#fdca26\"],[1.0,\"#f0f921\"]]}],\"heatmap\":[{\"type\":\"heatmap\",\"colorbar\":{\"outlinewidth\":0,\"ticks\":\"\"},\"colorscale\":[[0.0,\"#0d0887\"],[0.1111111111111111,\"#46039f\"],[0.2222222222222222,\"#7201a8\"],[0.3333333333333333,\"#9c179e\"],[0.4444444444444444,\"#bd3786\"],[0.5555555555555556,\"#d8576b\"],[0.6666666666666666,\"#ed7953\"],[0.7777777777777778,\"#fb9f3a\"],[0.8888888888888888,\"#fdca26\"],[1.0,\"#f0f921\"]]}],\"heatmapgl\":[{\"type\":\"heatmapgl\",\"colorbar\":{\"outlinewidth\":0,\"ticks\":\"\"},\"colorscale\":[[0.0,\"#0d0887\"],[0.1111111111111111,\"#46039f\"],[0.2222222222222222,\"#7201a8\"],[0.3333333333333333,\"#9c179e\"],[0.4444444444444444,\"#bd3786\"],[0.5555555555555556,\"#d8576b\"],[0.6666666666666666,\"#ed7953\"],[0.7777777777777778,\"#fb9f3a\"],[0.8888888888888888,\"#fdca26\"],[1.0,\"#f0f921\"]]}],\"contourcarpet\":[{\"type\":\"contourcarpet\",\"colorbar\":{\"outlinewidth\":0,\"ticks\":\"\"}}],\"contour\":[{\"type\":\"contour\",\"colorbar\":{\"outlinewidth\":0,\"ticks\":\"\"},\"colorscale\":[[0.0,\"#0d0887\"],[0.1111111111111111,\"#46039f\"],[0.2222222222222222,\"#7201a8\"],[0.3333333333333333,\"#9c179e\"],[0.4444444444444444,\"#bd3786\"],[0.5555555555555556,\"#d8576b\"],[0.6666666666666666,\"#ed7953\"],[0.7777777777777778,\"#fb9f3a\"],[0.8888888888888888,\"#fdca26\"],[1.0,\"#f0f921\"]]}],\"surface\":[{\"type\":\"surface\",\"colorbar\":{\"outlinewidth\":0,\"ticks\":\"\"},\"colorscale\":[[0.0,\"#0d0887\"],[0.1111111111111111,\"#46039f\"],[0.2222222222222222,\"#7201a8\"],[0.3333333333333333,\"#9c179e\"],[0.4444444444444444,\"#bd3786\"],[0.5555555555555556,\"#d8576b\"],[0.6666666666666666,\"#ed7953\"],[0.7777777777777778,\"#fb9f3a\"],[0.8888888888888888,\"#fdca26\"],[1.0,\"#f0f921\"]]}],\"mesh3d\":[{\"type\":\"mesh3d\",\"colorbar\":{\"outlinewidth\":0,\"ticks\":\"\"}}],\"scatter\":[{\"fillpattern\":{\"fillmode\":\"overlay\",\"size\":10,\"solidity\":0.2},\"type\":\"scatter\"}],\"parcoords\":[{\"type\":\"parcoords\",\"line\":{\"colorbar\":{\"outlinewidth\":0,\"ticks\":\"\"}}}],\"scatterpolargl\":[{\"type\":\"scatterpolargl\",\"marker\":{\"colorbar\":{\"outlinewidth\":0,\"ticks\":\"\"}}}],\"bar\":[{\"error_x\":{\"color\":\"#2a3f5f\"},\"error_y\":{\"color\":\"#2a3f5f\"},\"marker\":{\"line\":{\"color\":\"#E5ECF6\",\"width\":0.5},\"pattern\":{\"fillmode\":\"overlay\",\"size\":10,\"solidity\":0.2}},\"type\":\"bar\"}],\"scattergeo\":[{\"type\":\"scattergeo\",\"marker\":{\"colorbar\":{\"outlinewidth\":0,\"ticks\":\"\"}}}],\"scatterpolar\":[{\"type\":\"scatterpolar\",\"marker\":{\"colorbar\":{\"outlinewidth\":0,\"ticks\":\"\"}}}],\"histogram\":[{\"marker\":{\"pattern\":{\"fillmode\":\"overlay\",\"size\":10,\"solidity\":0.2}},\"type\":\"histogram\"}],\"scattergl\":[{\"type\":\"scattergl\",\"marker\":{\"colorbar\":{\"outlinewidth\":0,\"ticks\":\"\"}}}],\"scatter3d\":[{\"type\":\"scatter3d\",\"line\":{\"colorbar\":{\"outlinewidth\":0,\"ticks\":\"\"}},\"marker\":{\"colorbar\":{\"outlinewidth\":0,\"ticks\":\"\"}}}],\"scattermapbox\":[{\"type\":\"scattermapbox\",\"marker\":{\"colorbar\":{\"outlinewidth\":0,\"ticks\":\"\"}}}],\"scatterternary\":[{\"type\":\"scatterternary\",\"marker\":{\"colorbar\":{\"outlinewidth\":0,\"ticks\":\"\"}}}],\"scattercarpet\":[{\"type\":\"scattercarpet\",\"marker\":{\"colorbar\":{\"outlinewidth\":0,\"ticks\":\"\"}}}],\"carpet\":[{\"aaxis\":{\"endlinecolor\":\"#2a3f5f\",\"gridcolor\":\"white\",\"linecolor\":\"white\",\"minorgridcolor\":\"white\",\"startlinecolor\":\"#2a3f5f\"},\"baxis\":{\"endlinecolor\":\"#2a3f5f\",\"gridcolor\":\"white\",\"linecolor\":\"white\",\"minorgridcolor\":\"white\",\"startlinecolor\":\"#2a3f5f\"},\"type\":\"carpet\"}],\"table\":[{\"cells\":{\"fill\":{\"color\":\"#EBF0F8\"},\"line\":{\"color\":\"white\"}},\"header\":{\"fill\":{\"color\":\"#C8D4E3\"},\"line\":{\"color\":\"white\"}},\"type\":\"table\"}],\"barpolar\":[{\"marker\":{\"line\":{\"color\":\"#E5ECF6\",\"width\":0.5},\"pattern\":{\"fillmode\":\"overlay\",\"size\":10,\"solidity\":0.2}},\"type\":\"barpolar\"}],\"pie\":[{\"automargin\":true,\"type\":\"pie\"}]},\"layout\":{\"autotypenumbers\":\"strict\",\"colorway\":[\"#636efa\",\"#EF553B\",\"#00cc96\",\"#ab63fa\",\"#FFA15A\",\"#19d3f3\",\"#FF6692\",\"#B6E880\",\"#FF97FF\",\"#FECB52\"],\"font\":{\"color\":\"#2a3f5f\"},\"hovermode\":\"closest\",\"hoverlabel\":{\"align\":\"left\"},\"paper_bgcolor\":\"white\",\"plot_bgcolor\":\"#E5ECF6\",\"polar\":{\"bgcolor\":\"#E5ECF6\",\"angularaxis\":{\"gridcolor\":\"white\",\"linecolor\":\"white\",\"ticks\":\"\"},\"radialaxis\":{\"gridcolor\":\"white\",\"linecolor\":\"white\",\"ticks\":\"\"}},\"ternary\":{\"bgcolor\":\"#E5ECF6\",\"aaxis\":{\"gridcolor\":\"white\",\"linecolor\":\"white\",\"ticks\":\"\"},\"baxis\":{\"gridcolor\":\"white\",\"linecolor\":\"white\",\"ticks\":\"\"},\"caxis\":{\"gridcolor\":\"white\",\"linecolor\":\"white\",\"ticks\":\"\"}},\"coloraxis\":{\"colorbar\":{\"outlinewidth\":0,\"ticks\":\"\"}},\"colorscale\":{\"sequential\":[[0.0,\"#0d0887\"],[0.1111111111111111,\"#46039f\"],[0.2222222222222222,\"#7201a8\"],[0.3333333333333333,\"#9c179e\"],[0.4444444444444444,\"#bd3786\"],[0.5555555555555556,\"#d8576b\"],[0.6666666666666666,\"#ed7953\"],[0.7777777777777778,\"#fb9f3a\"],[0.8888888888888888,\"#fdca26\"],[1.0,\"#f0f921\"]],\"sequentialminus\":[[0.0,\"#0d0887\"],[0.1111111111111111,\"#46039f\"],[0.2222222222222222,\"#7201a8\"],[0.3333333333333333,\"#9c179e\"],[0.4444444444444444,\"#bd3786\"],[0.5555555555555556,\"#d8576b\"],[0.6666666666666666,\"#ed7953\"],[0.7777777777777778,\"#fb9f3a\"],[0.8888888888888888,\"#fdca26\"],[1.0,\"#f0f921\"]],\"diverging\":[[0,\"#8e0152\"],[0.1,\"#c51b7d\"],[0.2,\"#de77ae\"],[0.3,\"#f1b6da\"],[0.4,\"#fde0ef\"],[0.5,\"#f7f7f7\"],[0.6,\"#e6f5d0\"],[0.7,\"#b8e186\"],[0.8,\"#7fbc41\"],[0.9,\"#4d9221\"],[1,\"#276419\"]]},\"xaxis\":{\"gridcolor\":\"white\",\"linecolor\":\"white\",\"ticks\":\"\",\"title\":{\"standoff\":15},\"zerolinecolor\":\"white\",\"automargin\":true,\"zerolinewidth\":2},\"yaxis\":{\"gridcolor\":\"white\",\"linecolor\":\"white\",\"ticks\":\"\",\"title\":{\"standoff\":15},\"zerolinecolor\":\"white\",\"automargin\":true,\"zerolinewidth\":2},\"scene\":{\"xaxis\":{\"backgroundcolor\":\"#E5ECF6\",\"gridcolor\":\"white\",\"linecolor\":\"white\",\"showbackground\":true,\"ticks\":\"\",\"zerolinecolor\":\"white\",\"gridwidth\":2},\"yaxis\":{\"backgroundcolor\":\"#E5ECF6\",\"gridcolor\":\"white\",\"linecolor\":\"white\",\"showbackground\":true,\"ticks\":\"\",\"zerolinecolor\":\"white\",\"gridwidth\":2},\"zaxis\":{\"backgroundcolor\":\"#E5ECF6\",\"gridcolor\":\"white\",\"linecolor\":\"white\",\"showbackground\":true,\"ticks\":\"\",\"zerolinecolor\":\"white\",\"gridwidth\":2}},\"shapedefaults\":{\"line\":{\"color\":\"#2a3f5f\"}},\"annotationdefaults\":{\"arrowcolor\":\"#2a3f5f\",\"arrowhead\":0,\"arrowwidth\":1},\"geo\":{\"bgcolor\":\"white\",\"landcolor\":\"#E5ECF6\",\"subunitcolor\":\"white\",\"showland\":true,\"showlakes\":true,\"lakecolor\":\"white\"},\"title\":{\"x\":0.05},\"mapbox\":{\"style\":\"light\"}}},\"title\":{\"text\":\"Total Cocoa Production by Country Over Time\",\"x\":0.5},\"barmode\":\"stack\",\"xaxis\":{\"title\":{\"text\":\"Year\"}},\"yaxis\":{\"title\":{\"text\":\"Cocoa Production (tons)\"}},\"legend\":{\"title\":{\"text\":\"Country\"}}},                        {\"responsive\": true}                    ).then(function(){\n",
       "                            \n",
       "var gd = document.getElementById('43949f95-5883-4d36-9bfb-2217cd26b706');\n",
       "var x = new MutationObserver(function (mutations, observer) {{\n",
       "        var display = window.getComputedStyle(gd).display;\n",
       "        if (!display || display === 'none') {{\n",
       "            console.log([gd, 'removed!']);\n",
       "            Plotly.purge(gd);\n",
       "            observer.disconnect();\n",
       "        }}\n",
       "}});\n",
       "\n",
       "// Listen for the removal of the full notebook cells\n",
       "var notebookContainer = gd.closest('#notebook-container');\n",
       "if (notebookContainer) {{\n",
       "    x.observe(notebookContainer, {childList: true});\n",
       "}}\n",
       "\n",
       "// Listen for the clearing of the current output cell\n",
       "var outputEl = gd.closest('.output');\n",
       "if (outputEl) {{\n",
       "    x.observe(outputEl, {childList: true});\n",
       "}}\n",
       "\n",
       "                        })                };                });            </script>        </div>"
      ]
     },
     "metadata": {},
     "output_type": "display_data"
    }
   ],
   "source": [
    "fig = go.Figure()\n",
    "\n",
    "# Add a bar for each country\n",
    "for country in grouped_df.columns:\n",
    "    fig.add_trace(go.Bar(\n",
    "        x=grouped_df.index,  # Years\n",
    "        y=grouped_df[country],  # Production values\n",
    "        name=country  # Country name for the legend\n",
    "    ))\n",
    "\n",
    "# Update the layout to stack the bars\n",
    "fig.update_layout(\n",
    "    barmode='stack',\n",
    "    title={'text': \"Total Cocoa Production by Country Over Time\", 'x': 0.5},\n",
    "    xaxis_title=\"Year\",\n",
    "    yaxis_title=\"Cocoa Production (tons)\",\n",
    "    legend_title=\"Country\",\n",
    ")\n",
    "\n",
    "# Show the figure\n",
    "fig.show()\n",
    "\n",
    "# Hard to see the lower production countries"
   ]
  },
  {
   "cell_type": "code",
   "execution_count": 78,
   "id": "3f0cb043-190f-46ba-a8cc-f7e362851cf9",
   "metadata": {
    "tags": []
   },
   "outputs": [
    {
     "data": {
      "application/vnd.plotly.v1+json": {
       "config": {
        "plotlyServerURL": "https://plot.ly"
       },
       "data": [
        {
         "name": "Nigeria",
         "type": "bar",
         "x": [
          1961,
          1962,
          1963,
          1964,
          1965,
          1966,
          1967,
          1968,
          1969,
          1970,
          1971,
          1972,
          1973,
          1974,
          1975,
          1976,
          1977,
          1978,
          1979,
          1980,
          1981,
          1982,
          1983,
          1984,
          1985,
          1986,
          1987,
          1988,
          1989,
          1990,
          1991,
          1992,
          1993,
          1994,
          1995,
          1996,
          1997,
          1998,
          1999,
          2000,
          2001,
          2002,
          2003,
          2004,
          2005,
          2006,
          2007,
          2008,
          2009,
          2010,
          2011,
          2012,
          2013,
          2014,
          2015,
          2016,
          2017,
          2018,
          2019,
          2020,
          2021,
          2022
         ],
         "xaxis": "x",
         "y": [
          197000,
          182000,
          223000,
          298300,
          184600,
          267200,
          238000,
          191800,
          220800,
          304800,
          256600,
          241100,
          215000,
          214000,
          216000,
          181000,
          193000,
          157000,
          151000,
          153000,
          174000,
          156000,
          140000,
          160800,
          160000,
          148000,
          150000,
          253000,
          256000,
          244000,
          268000,
          292000,
          306000,
          323000,
          203000,
          323000,
          318000,
          370000,
          225000,
          338000,
          340000,
          362000,
          385000,
          412000,
          441000,
          485000,
          360570,
          367020,
          363510,
          399200,
          391000,
          383000,
          367000,
          329870,
          302066,
          298029,
          250000,
          270000,
          250000,
          357608,
          280000,
          280000
         ],
         "yaxis": "y"
        },
        {
         "name": "Ghana",
         "type": "bar",
         "x": [
          1961,
          1962,
          1963,
          1964,
          1965,
          1966,
          1967,
          1968,
          1969,
          1970,
          1971,
          1972,
          1973,
          1974,
          1975,
          1976,
          1977,
          1978,
          1979,
          1980,
          1981,
          1982,
          1983,
          1984,
          1985,
          1986,
          1987,
          1988,
          1989,
          1990,
          1991,
          1992,
          1993,
          1994,
          1995,
          1996,
          1997,
          1998,
          1999,
          2000,
          2001,
          2002,
          2003,
          2004,
          2005,
          2006,
          2007,
          2008,
          2009,
          2010,
          2011,
          2012,
          2013,
          2014,
          2015,
          2016,
          2017,
          2018,
          2019,
          2020,
          2021,
          2022
         ],
         "xaxis": "x",
         "y": [
          415200,
          428100,
          427800,
          580500,
          415800,
          381100,
          423500,
          327000,
          414300,
          406000,
          470000,
          415700,
          343000,
          385100,
          397300,
          326700,
          277400,
          268200,
          280800,
          277200,
          246500,
          202500,
          168100,
          166700,
          194400,
          226400,
          188170,
          246700,
          295052,
          293355,
          241796,
          312122,
          254652,
          288075,
          403900,
          403000,
          322490,
          409360,
          434200,
          436600,
          389591,
          340562,
          497000,
          737000,
          740000,
          734000,
          614500,
          680781,
          710638,
          632037,
          700020,
          879348,
          835466,
          858720,
          858720,
          858720,
          969300,
          904700,
          811700,
          800000,
          1047385,
          1108663
         ],
         "yaxis": "y"
        },
        {
         "name": "Côte d'Ivoire",
         "type": "bar",
         "x": [
          1961,
          1962,
          1963,
          1964,
          1965,
          1966,
          1967,
          1968,
          1969,
          1970,
          1971,
          1972,
          1973,
          1974,
          1975,
          1976,
          1977,
          1978,
          1979,
          1980,
          1981,
          1982,
          1983,
          1984,
          1985,
          1986,
          1987,
          1988,
          1989,
          1990,
          1991,
          1992,
          1993,
          1994,
          1995,
          1996,
          1997,
          1998,
          1999,
          2000,
          2001,
          2002,
          2003,
          2004,
          2005,
          2006,
          2007,
          2008,
          2009,
          2010,
          2011,
          2012,
          2013,
          2014,
          2015,
          2016,
          2017,
          2018,
          2019,
          2020,
          2021,
          2022
         ],
         "xaxis": "x",
         "y": [
          85000,
          110000,
          115000,
          139069,
          121772,
          149662,
          146640,
          144476,
          180706,
          179156,
          225814,
          185445,
          208522,
          241511,
          231136,
          232330,
          303621,
          318381,
          397759,
          417222,
          464751,
          360445,
          411081,
          565042,
          555115,
          610680,
          664031,
          832177,
          780521,
          807501,
          764708,
          813009,
          803799,
          808662,
          1120000,
          1235300,
          1119110,
          1201119,
          1163025,
          1401101,
          1212428,
          1264708,
          1351546,
          1407213,
          1286330,
          1408854,
          1229908,
          1382441,
          1223153,
          1301347,
          1511255,
          1485882,
          1448992,
          1637778,
          1796000,
          1634000,
          2034000,
          2113189,
          2235043,
          2200000,
          2228459,
          2230000
         ],
         "yaxis": "y"
        },
        {
         "name": "Cameroon",
         "type": "bar",
         "x": [
          1961,
          1962,
          1963,
          1964,
          1965,
          1966,
          1967,
          1968,
          1969,
          1970,
          1971,
          1972,
          1973,
          1974,
          1975,
          1976,
          1977,
          1978,
          1979,
          1980,
          1981,
          1982,
          1983,
          1984,
          1985,
          1986,
          1987,
          1988,
          1989,
          1990,
          1991,
          1992,
          1993,
          1994,
          1995,
          1996,
          1997,
          1998,
          1999,
          2000,
          2001,
          2002,
          2003,
          2004,
          2005,
          2006,
          2007,
          2008,
          2009,
          2010,
          2011,
          2012,
          2013,
          2014,
          2015,
          2016,
          2017,
          2018,
          2019,
          2020,
          2021,
          2022
         ],
         "xaxis": "x",
         "y": [
          75100,
          76000,
          85000,
          91200,
          78800,
          86500,
          93000,
          102000,
          108186,
          133770,
          138775,
          126780,
          132245,
          120014,
          96000,
          82500,
          107000,
          110865,
          123179,
          117053,
          118344,
          105153,
          108900,
          120894,
          118320,
          123090,
          132800,
          129400,
          125700,
          115000,
          105000,
          97835,
          99000,
          107000,
          134000,
          125726,
          126807,
          125000,
          116000,
          122600,
          122100,
          125000,
          154965,
          166754,
          140000,
          164553,
          212619,
          229203,
          235500,
          264077,
          240000,
          268941,
          275000,
          269228,
          310000,
          344752,
          322248,
          317530,
          301255,
          280077,
          295000,
          300000
         ],
         "yaxis": "y"
        },
        {
         "name": "Congo",
         "type": "bar",
         "x": [
          1961,
          1962,
          1963,
          1964,
          1965,
          1966,
          1967,
          1968,
          1969,
          1970,
          1971,
          1972,
          1973,
          1974,
          1975,
          1976,
          1977,
          1978,
          1979,
          1980,
          1981,
          1982,
          1983,
          1984,
          1985,
          1986,
          1987,
          1988,
          1989,
          1990,
          1991,
          1992,
          1993,
          1994,
          1995,
          1996,
          1997,
          1998,
          1999,
          2000,
          2001,
          2002,
          2003,
          2004,
          2005,
          2006,
          2007,
          2008,
          2009,
          2010,
          2011,
          2012,
          2013,
          2014,
          2015,
          2016,
          2017,
          2018,
          2019,
          2020,
          2021,
          2022
         ],
         "xaxis": "x2",
         "y": [
          900,
          630,
          800,
          1100,
          800,
          877,
          1144,
          1288,
          1195,
          1344,
          2026,
          2146,
          2114,
          2422,
          2912,
          2332,
          3021,
          2275,
          2772,
          2334,
          2214,
          2492,
          1588,
          1864,
          1845,
          1842,
          1751,
          1611,
          1994,
          2115,
          2188,
          2263,
          2341,
          2423,
          2507,
          1858,
          1875,
          1900,
          1331,
          1304,
          1278,
          1253,
          1000,
          1000,
          800,
          800,
          700,
          927,
          800,
          1200,
          1500,
          2800,
          5000,
          5000,
          2500,
          3800,
          3500,
          4500,
          5000,
          7000,
          16000,
          20000
         ],
         "yaxis": "y2"
        },
        {
         "name": "Democratic Republic of the Congo",
         "type": "bar",
         "x": [
          1961,
          1962,
          1963,
          1964,
          1965,
          1966,
          1967,
          1968,
          1969,
          1970,
          1971,
          1972,
          1973,
          1974,
          1975,
          1976,
          1977,
          1978,
          1979,
          1980,
          1981,
          1982,
          1983,
          1984,
          1985,
          1986,
          1987,
          1988,
          1989,
          1990,
          1991,
          1992,
          1993,
          1994,
          1995,
          1996,
          1997,
          1998,
          1999,
          2000,
          2001,
          2002,
          2003,
          2004,
          2005,
          2006,
          2007,
          2008,
          2009,
          2010,
          2011,
          2012,
          2013,
          2014,
          2015,
          2016,
          2017,
          2018,
          2019,
          2020,
          2021,
          2022
         ],
         "xaxis": "x2",
         "y": [
          5800,
          6500,
          5600,
          4800,
          4300,
          5300,
          4900,
          4500,
          4900,
          6200,
          6300,
          6500,
          5700,
          5000,
          5300,
          5400,
          5200,
          4300,
          5700,
          5900,
          4513,
          4300,
          4300,
          4388,
          4530,
          6300,
          5500,
          6200,
          7100,
          7180,
          7270,
          7361,
          7453,
          7547,
          7551,
          7576,
          7207,
          6909,
          6565,
          6582,
          6235,
          5750,
          5710,
          5670,
          5630,
          5590,
          5590,
          5510,
          5470,
          5431,
          5392,
          2000,
          2000,
          3000,
          6000,
          10200,
          13500,
          18475,
          22058,
          26337,
          20000,
          20000
         ],
         "yaxis": "y2"
        },
        {
         "name": "Equatorial Guinea",
         "type": "bar",
         "x": [
          1961,
          1962,
          1963,
          1964,
          1965,
          1966,
          1967,
          1968,
          1969,
          1970,
          1971,
          1972,
          1973,
          1974,
          1975,
          1976,
          1977,
          1978,
          1979,
          1980,
          1981,
          1982,
          1983,
          1984,
          1985,
          1986,
          1987,
          1988,
          1989,
          1990,
          1991,
          1992,
          1993,
          1994,
          1995,
          1996,
          1997,
          1998,
          1999,
          2000,
          2001,
          2002,
          2003,
          2004,
          2005,
          2006,
          2007,
          2008,
          2009,
          2010,
          2011,
          2012,
          2013,
          2014,
          2015,
          2016,
          2017,
          2018,
          2019,
          2020,
          2021,
          2022
         ],
         "xaxis": "x2",
         "y": [
          26000,
          30900,
          33000,
          35100,
          35400,
          38200,
          33600,
          38000,
          28000,
          35000,
          22000,
          10000,
          12000,
          13000,
          10000,
          6000,
          6000,
          6000,
          6000,
          8000,
          9900,
          7000,
          6600,
          7000,
          6000,
          6200,
          8300,
          8190,
          6570,
          6793,
          5673,
          4298,
          2957,
          3214,
          4248,
          4318,
          5018,
          4356,
          5500,
          4900,
          4000,
          2013,
          2422,
          3000,
          3000,
          2000,
          2500,
          2000,
          1200,
          1200,
          900,
          700,
          700,
          892,
          1000,
          1000,
          1000,
          1000,
          1000,
          1000,
          600,
          1000
         ],
         "yaxis": "y2"
        },
        {
         "name": "Gabon",
         "type": "bar",
         "x": [
          1961,
          1962,
          1963,
          1964,
          1965,
          1966,
          1967,
          1968,
          1969,
          1970,
          1971,
          1972,
          1973,
          1974,
          1975,
          1976,
          1977,
          1978,
          1979,
          1980,
          1981,
          1982,
          1983,
          1984,
          1985,
          1986,
          1987,
          1988,
          1989,
          1990,
          1991,
          1992,
          1993,
          1994,
          1995,
          1996,
          1997,
          1998,
          1999,
          2000,
          2001,
          2002,
          2003,
          2004,
          2005,
          2006,
          2007,
          2008,
          2009,
          2010,
          2011,
          2012,
          2013,
          2014,
          2015,
          2016,
          2017,
          2018,
          2019,
          2020,
          2021,
          2022
         ],
         "xaxis": "x2",
         "y": [
          3190,
          3360,
          3600,
          4000,
          2170,
          4296,
          4061,
          4751,
          4366,
          6095,
          5031,
          5030,
          5151,
          4869,
          4549,
          3573,
          3573,
          3710,
          4754,
          3814,
          2850,
          2900,
          2500,
          1595,
          1500,
          1628,
          1574,
          1802,
          1800,
          1502,
          1802,
          2925,
          1966,
          718,
          774,
          1022,
          686,
          500,
          700,
          500,
          416,
          500,
          600,
          200,
          195,
          200,
          100,
          200,
          200,
          100,
          600,
          100,
          200,
          203,
          100,
          100,
          100,
          100,
          100,
          100,
          100,
          100
         ],
         "yaxis": "y2"
        },
        {
         "name": "Sao Tome and Principe",
         "type": "bar",
         "x": [
          1961,
          1962,
          1963,
          1964,
          1965,
          1966,
          1967,
          1968,
          1969,
          1970,
          1971,
          1972,
          1973,
          1974,
          1975,
          1976,
          1977,
          1978,
          1979,
          1980,
          1981,
          1982,
          1983,
          1984,
          1985,
          1986,
          1987,
          1988,
          1989,
          1990,
          1991,
          1992,
          1993,
          1994,
          1995,
          1996,
          1997,
          1998,
          1999,
          2000,
          2001,
          2002,
          2003,
          2004,
          2005,
          2006,
          2007,
          2008,
          2009,
          2010,
          2011,
          2012,
          2013,
          2014,
          2015,
          2016,
          2017,
          2018,
          2019,
          2020,
          2021,
          2022
         ],
         "xaxis": "x2",
         "y": [
          9100,
          9600,
          7800,
          10700,
          8900,
          10900,
          10900,
          10600,
          9100,
          9700,
          11034,
          10395,
          11300,
          10400,
          7900,
          7000,
          5500,
          7000,
          7500,
          5700,
          6500,
          5100,
          4700,
          3378,
          3848,
          4032,
          3957,
          5050,
          3707,
          2799,
          2862,
          4188,
          4492,
          4500,
          3671,
          3753,
          3138,
          3928,
          4197,
          3418,
          3652,
          3462,
          3820,
          2500,
          1843,
          1900,
          2800,
          2000,
          2500,
          2600,
          2218,
          2230,
          2617,
          3200,
          3000,
          3001,
          3501,
          3046,
          3000,
          3000,
          3000,
          3000
         ],
         "yaxis": "y2"
        },
        {
         "name": "Sierra Leone",
         "type": "bar",
         "x": [
          1961,
          1962,
          1963,
          1964,
          1965,
          1966,
          1967,
          1968,
          1969,
          1970,
          1971,
          1972,
          1973,
          1974,
          1975,
          1976,
          1977,
          1978,
          1979,
          1980,
          1981,
          1982,
          1983,
          1984,
          1985,
          1986,
          1987,
          1988,
          1989,
          1990,
          1991,
          1992,
          1993,
          1994,
          1995,
          1996,
          1997,
          1998,
          1999,
          2000,
          2001,
          2002,
          2003,
          2004,
          2005,
          2006,
          2007,
          2008,
          2009,
          2010,
          2011,
          2012,
          2013,
          2014,
          2015,
          2016,
          2017,
          2018,
          2019,
          2020,
          2021,
          2022
         ],
         "xaxis": "x2",
         "y": [
          2840,
          4780,
          3310,
          3180,
          2980,
          4534,
          3869,
          5039,
          3782,
          5080,
          4770,
          7028,
          7931,
          5933,
          6340,
          5790,
          5454,
          7100,
          9111,
          8497,
          9026,
          15100,
          12500,
          16600,
          18600,
          20900,
          23500,
          23700,
          24200,
          24000,
          24000,
          5400,
          5400,
          11737,
          10000,
          11000,
          13000,
          14500,
          10920,
          12000,
          11000,
          11500,
          12000,
          13500,
          15000,
          13940,
          14000,
          10500,
          10000,
          19700,
          18000,
          18000,
          14850,
          17082,
          12000,
          47705,
          48903,
          50150,
          14648,
          18000,
          15000,
          18000
         ],
         "yaxis": "y2"
        },
        {
         "name": "Togo",
         "type": "bar",
         "x": [
          1961,
          1962,
          1963,
          1964,
          1965,
          1966,
          1967,
          1968,
          1969,
          1970,
          1971,
          1972,
          1973,
          1974,
          1975,
          1976,
          1977,
          1978,
          1979,
          1980,
          1981,
          1982,
          1983,
          1984,
          1985,
          1986,
          1987,
          1988,
          1989,
          1990,
          1991,
          1992,
          1993,
          1994,
          1995,
          1996,
          1997,
          1998,
          1999,
          2000,
          2001,
          2002,
          2003,
          2004,
          2005,
          2006,
          2007,
          2008,
          2009,
          2010,
          2011,
          2012,
          2013,
          2014,
          2015,
          2016,
          2017,
          2018,
          2019,
          2020,
          2021,
          2022
         ],
         "xaxis": "x2",
         "y": [
          11550,
          11400,
          13900,
          17500,
          14300,
          16300,
          18338,
          20000,
          23600,
          27900,
          29000,
          18600,
          16500,
          14500,
          17750,
          14100,
          16700,
          12600,
          15300,
          16300,
          11000,
          13800,
          16600,
          9795,
          14272,
          12585,
          11057,
          8265,
          7646,
          6814,
          4100,
          6000,
          7200,
          5500,
          6000,
          14200,
          5800,
          12200,
          7000,
          6600,
          10200,
          7500,
          5100,
          21700,
          53000,
          73000,
          78000,
          111000,
          105000,
          101500,
          142500,
          34500,
          15000,
          22182,
          10000,
          10000,
          8500,
          7500,
          10600,
          13000,
          10000,
          14000
         ],
         "yaxis": "y2"
        }
       ],
       "layout": {
        "annotations": [
         {
          "font": {
           "size": 16
          },
          "showarrow": false,
          "text": "High Production Countries",
          "x": 0.5,
          "xanchor": "center",
          "xref": "paper",
          "y": 1,
          "yanchor": "bottom",
          "yref": "paper"
         },
         {
          "font": {
           "size": 16
          },
          "showarrow": false,
          "text": "Low Production Countries",
          "x": 0.5,
          "xanchor": "center",
          "xref": "paper",
          "y": 0.375,
          "yanchor": "bottom",
          "yref": "paper"
         }
        ],
        "autosize": true,
        "barmode": "stack",
        "legend": {
         "title": {
          "text": "Country"
         }
        },
        "template": {
         "data": {
          "bar": [
           {
            "error_x": {
             "color": "#2a3f5f"
            },
            "error_y": {
             "color": "#2a3f5f"
            },
            "marker": {
             "line": {
              "color": "#E5ECF6",
              "width": 0.5
             },
             "pattern": {
              "fillmode": "overlay",
              "size": 10,
              "solidity": 0.2
             }
            },
            "type": "bar"
           }
          ],
          "barpolar": [
           {
            "marker": {
             "line": {
              "color": "#E5ECF6",
              "width": 0.5
             },
             "pattern": {
              "fillmode": "overlay",
              "size": 10,
              "solidity": 0.2
             }
            },
            "type": "barpolar"
           }
          ],
          "carpet": [
           {
            "aaxis": {
             "endlinecolor": "#2a3f5f",
             "gridcolor": "white",
             "linecolor": "white",
             "minorgridcolor": "white",
             "startlinecolor": "#2a3f5f"
            },
            "baxis": {
             "endlinecolor": "#2a3f5f",
             "gridcolor": "white",
             "linecolor": "white",
             "minorgridcolor": "white",
             "startlinecolor": "#2a3f5f"
            },
            "type": "carpet"
           }
          ],
          "choropleth": [
           {
            "colorbar": {
             "outlinewidth": 0,
             "ticks": ""
            },
            "type": "choropleth"
           }
          ],
          "contour": [
           {
            "colorbar": {
             "outlinewidth": 0,
             "ticks": ""
            },
            "colorscale": [
             [
              0,
              "#0d0887"
             ],
             [
              0.1111111111111111,
              "#46039f"
             ],
             [
              0.2222222222222222,
              "#7201a8"
             ],
             [
              0.3333333333333333,
              "#9c179e"
             ],
             [
              0.4444444444444444,
              "#bd3786"
             ],
             [
              0.5555555555555556,
              "#d8576b"
             ],
             [
              0.6666666666666666,
              "#ed7953"
             ],
             [
              0.7777777777777778,
              "#fb9f3a"
             ],
             [
              0.8888888888888888,
              "#fdca26"
             ],
             [
              1,
              "#f0f921"
             ]
            ],
            "type": "contour"
           }
          ],
          "contourcarpet": [
           {
            "colorbar": {
             "outlinewidth": 0,
             "ticks": ""
            },
            "type": "contourcarpet"
           }
          ],
          "heatmap": [
           {
            "colorbar": {
             "outlinewidth": 0,
             "ticks": ""
            },
            "colorscale": [
             [
              0,
              "#0d0887"
             ],
             [
              0.1111111111111111,
              "#46039f"
             ],
             [
              0.2222222222222222,
              "#7201a8"
             ],
             [
              0.3333333333333333,
              "#9c179e"
             ],
             [
              0.4444444444444444,
              "#bd3786"
             ],
             [
              0.5555555555555556,
              "#d8576b"
             ],
             [
              0.6666666666666666,
              "#ed7953"
             ],
             [
              0.7777777777777778,
              "#fb9f3a"
             ],
             [
              0.8888888888888888,
              "#fdca26"
             ],
             [
              1,
              "#f0f921"
             ]
            ],
            "type": "heatmap"
           }
          ],
          "heatmapgl": [
           {
            "colorbar": {
             "outlinewidth": 0,
             "ticks": ""
            },
            "colorscale": [
             [
              0,
              "#0d0887"
             ],
             [
              0.1111111111111111,
              "#46039f"
             ],
             [
              0.2222222222222222,
              "#7201a8"
             ],
             [
              0.3333333333333333,
              "#9c179e"
             ],
             [
              0.4444444444444444,
              "#bd3786"
             ],
             [
              0.5555555555555556,
              "#d8576b"
             ],
             [
              0.6666666666666666,
              "#ed7953"
             ],
             [
              0.7777777777777778,
              "#fb9f3a"
             ],
             [
              0.8888888888888888,
              "#fdca26"
             ],
             [
              1,
              "#f0f921"
             ]
            ],
            "type": "heatmapgl"
           }
          ],
          "histogram": [
           {
            "marker": {
             "pattern": {
              "fillmode": "overlay",
              "size": 10,
              "solidity": 0.2
             }
            },
            "type": "histogram"
           }
          ],
          "histogram2d": [
           {
            "colorbar": {
             "outlinewidth": 0,
             "ticks": ""
            },
            "colorscale": [
             [
              0,
              "#0d0887"
             ],
             [
              0.1111111111111111,
              "#46039f"
             ],
             [
              0.2222222222222222,
              "#7201a8"
             ],
             [
              0.3333333333333333,
              "#9c179e"
             ],
             [
              0.4444444444444444,
              "#bd3786"
             ],
             [
              0.5555555555555556,
              "#d8576b"
             ],
             [
              0.6666666666666666,
              "#ed7953"
             ],
             [
              0.7777777777777778,
              "#fb9f3a"
             ],
             [
              0.8888888888888888,
              "#fdca26"
             ],
             [
              1,
              "#f0f921"
             ]
            ],
            "type": "histogram2d"
           }
          ],
          "histogram2dcontour": [
           {
            "colorbar": {
             "outlinewidth": 0,
             "ticks": ""
            },
            "colorscale": [
             [
              0,
              "#0d0887"
             ],
             [
              0.1111111111111111,
              "#46039f"
             ],
             [
              0.2222222222222222,
              "#7201a8"
             ],
             [
              0.3333333333333333,
              "#9c179e"
             ],
             [
              0.4444444444444444,
              "#bd3786"
             ],
             [
              0.5555555555555556,
              "#d8576b"
             ],
             [
              0.6666666666666666,
              "#ed7953"
             ],
             [
              0.7777777777777778,
              "#fb9f3a"
             ],
             [
              0.8888888888888888,
              "#fdca26"
             ],
             [
              1,
              "#f0f921"
             ]
            ],
            "type": "histogram2dcontour"
           }
          ],
          "mesh3d": [
           {
            "colorbar": {
             "outlinewidth": 0,
             "ticks": ""
            },
            "type": "mesh3d"
           }
          ],
          "parcoords": [
           {
            "line": {
             "colorbar": {
              "outlinewidth": 0,
              "ticks": ""
             }
            },
            "type": "parcoords"
           }
          ],
          "pie": [
           {
            "automargin": true,
            "type": "pie"
           }
          ],
          "scatter": [
           {
            "fillpattern": {
             "fillmode": "overlay",
             "size": 10,
             "solidity": 0.2
            },
            "type": "scatter"
           }
          ],
          "scatter3d": [
           {
            "line": {
             "colorbar": {
              "outlinewidth": 0,
              "ticks": ""
             }
            },
            "marker": {
             "colorbar": {
              "outlinewidth": 0,
              "ticks": ""
             }
            },
            "type": "scatter3d"
           }
          ],
          "scattercarpet": [
           {
            "marker": {
             "colorbar": {
              "outlinewidth": 0,
              "ticks": ""
             }
            },
            "type": "scattercarpet"
           }
          ],
          "scattergeo": [
           {
            "marker": {
             "colorbar": {
              "outlinewidth": 0,
              "ticks": ""
             }
            },
            "type": "scattergeo"
           }
          ],
          "scattergl": [
           {
            "marker": {
             "colorbar": {
              "outlinewidth": 0,
              "ticks": ""
             }
            },
            "type": "scattergl"
           }
          ],
          "scattermapbox": [
           {
            "marker": {
             "colorbar": {
              "outlinewidth": 0,
              "ticks": ""
             }
            },
            "type": "scattermapbox"
           }
          ],
          "scatterpolar": [
           {
            "marker": {
             "colorbar": {
              "outlinewidth": 0,
              "ticks": ""
             }
            },
            "type": "scatterpolar"
           }
          ],
          "scatterpolargl": [
           {
            "marker": {
             "colorbar": {
              "outlinewidth": 0,
              "ticks": ""
             }
            },
            "type": "scatterpolargl"
           }
          ],
          "scatterternary": [
           {
            "marker": {
             "colorbar": {
              "outlinewidth": 0,
              "ticks": ""
             }
            },
            "type": "scatterternary"
           }
          ],
          "surface": [
           {
            "colorbar": {
             "outlinewidth": 0,
             "ticks": ""
            },
            "colorscale": [
             [
              0,
              "#0d0887"
             ],
             [
              0.1111111111111111,
              "#46039f"
             ],
             [
              0.2222222222222222,
              "#7201a8"
             ],
             [
              0.3333333333333333,
              "#9c179e"
             ],
             [
              0.4444444444444444,
              "#bd3786"
             ],
             [
              0.5555555555555556,
              "#d8576b"
             ],
             [
              0.6666666666666666,
              "#ed7953"
             ],
             [
              0.7777777777777778,
              "#fb9f3a"
             ],
             [
              0.8888888888888888,
              "#fdca26"
             ],
             [
              1,
              "#f0f921"
             ]
            ],
            "type": "surface"
           }
          ],
          "table": [
           {
            "cells": {
             "fill": {
              "color": "#EBF0F8"
             },
             "line": {
              "color": "white"
             }
            },
            "header": {
             "fill": {
              "color": "#C8D4E3"
             },
             "line": {
              "color": "white"
             }
            },
            "type": "table"
           }
          ]
         },
         "layout": {
          "annotationdefaults": {
           "arrowcolor": "#2a3f5f",
           "arrowhead": 0,
           "arrowwidth": 1
          },
          "autotypenumbers": "strict",
          "coloraxis": {
           "colorbar": {
            "outlinewidth": 0,
            "ticks": ""
           }
          },
          "colorscale": {
           "diverging": [
            [
             0,
             "#8e0152"
            ],
            [
             0.1,
             "#c51b7d"
            ],
            [
             0.2,
             "#de77ae"
            ],
            [
             0.3,
             "#f1b6da"
            ],
            [
             0.4,
             "#fde0ef"
            ],
            [
             0.5,
             "#f7f7f7"
            ],
            [
             0.6,
             "#e6f5d0"
            ],
            [
             0.7,
             "#b8e186"
            ],
            [
             0.8,
             "#7fbc41"
            ],
            [
             0.9,
             "#4d9221"
            ],
            [
             1,
             "#276419"
            ]
           ],
           "sequential": [
            [
             0,
             "#0d0887"
            ],
            [
             0.1111111111111111,
             "#46039f"
            ],
            [
             0.2222222222222222,
             "#7201a8"
            ],
            [
             0.3333333333333333,
             "#9c179e"
            ],
            [
             0.4444444444444444,
             "#bd3786"
            ],
            [
             0.5555555555555556,
             "#d8576b"
            ],
            [
             0.6666666666666666,
             "#ed7953"
            ],
            [
             0.7777777777777778,
             "#fb9f3a"
            ],
            [
             0.8888888888888888,
             "#fdca26"
            ],
            [
             1,
             "#f0f921"
            ]
           ],
           "sequentialminus": [
            [
             0,
             "#0d0887"
            ],
            [
             0.1111111111111111,
             "#46039f"
            ],
            [
             0.2222222222222222,
             "#7201a8"
            ],
            [
             0.3333333333333333,
             "#9c179e"
            ],
            [
             0.4444444444444444,
             "#bd3786"
            ],
            [
             0.5555555555555556,
             "#d8576b"
            ],
            [
             0.6666666666666666,
             "#ed7953"
            ],
            [
             0.7777777777777778,
             "#fb9f3a"
            ],
            [
             0.8888888888888888,
             "#fdca26"
            ],
            [
             1,
             "#f0f921"
            ]
           ]
          },
          "colorway": [
           "#636efa",
           "#EF553B",
           "#00cc96",
           "#ab63fa",
           "#FFA15A",
           "#19d3f3",
           "#FF6692",
           "#B6E880",
           "#FF97FF",
           "#FECB52"
          ],
          "font": {
           "color": "#2a3f5f"
          },
          "geo": {
           "bgcolor": "white",
           "lakecolor": "white",
           "landcolor": "#E5ECF6",
           "showlakes": true,
           "showland": true,
           "subunitcolor": "white"
          },
          "hoverlabel": {
           "align": "left"
          },
          "hovermode": "closest",
          "mapbox": {
           "style": "light"
          },
          "paper_bgcolor": "white",
          "plot_bgcolor": "#E5ECF6",
          "polar": {
           "angularaxis": {
            "gridcolor": "white",
            "linecolor": "white",
            "ticks": ""
           },
           "bgcolor": "#E5ECF6",
           "radialaxis": {
            "gridcolor": "white",
            "linecolor": "white",
            "ticks": ""
           }
          },
          "scene": {
           "xaxis": {
            "backgroundcolor": "#E5ECF6",
            "gridcolor": "white",
            "gridwidth": 2,
            "linecolor": "white",
            "showbackground": true,
            "ticks": "",
            "zerolinecolor": "white"
           },
           "yaxis": {
            "backgroundcolor": "#E5ECF6",
            "gridcolor": "white",
            "gridwidth": 2,
            "linecolor": "white",
            "showbackground": true,
            "ticks": "",
            "zerolinecolor": "white"
           },
           "zaxis": {
            "backgroundcolor": "#E5ECF6",
            "gridcolor": "white",
            "gridwidth": 2,
            "linecolor": "white",
            "showbackground": true,
            "ticks": "",
            "zerolinecolor": "white"
           }
          },
          "shapedefaults": {
           "line": {
            "color": "#2a3f5f"
           }
          },
          "ternary": {
           "aaxis": {
            "gridcolor": "white",
            "linecolor": "white",
            "ticks": ""
           },
           "baxis": {
            "gridcolor": "white",
            "linecolor": "white",
            "ticks": ""
           },
           "bgcolor": "#E5ECF6",
           "caxis": {
            "gridcolor": "white",
            "linecolor": "white",
            "ticks": ""
           }
          },
          "title": {
           "x": 0.05
          },
          "xaxis": {
           "automargin": true,
           "gridcolor": "white",
           "linecolor": "white",
           "ticks": "",
           "title": {
            "standoff": 15
           },
           "zerolinecolor": "white",
           "zerolinewidth": 2
          },
          "yaxis": {
           "automargin": true,
           "gridcolor": "white",
           "linecolor": "white",
           "ticks": "",
           "title": {
            "standoff": 15
           },
           "zerolinecolor": "white",
           "zerolinewidth": 2
          }
         }
        },
        "title": {
         "text": "Cocoa Production Comparison",
         "x": 0.5
        },
        "xaxis": {
         "anchor": "y",
         "autorange": true,
         "domain": [
          0,
          1
         ],
         "range": [
          1960.5,
          2022.5
         ],
         "title": {
          "text": "Year"
         },
         "type": "linear"
        },
        "xaxis2": {
         "anchor": "y2",
         "autorange": true,
         "domain": [
          0,
          1
         ],
         "range": [
          1960.5,
          2022.5
         ],
         "title": {
          "text": "Year"
         },
         "type": "linear"
        },
        "yaxis": {
         "anchor": "x",
         "autorange": true,
         "domain": [
          0.625,
          1
         ],
         "range": [
          0,
          4124908.4210526315
         ],
         "title": {
          "text": "Cocoa Production (tons)"
         },
         "type": "linear"
        },
        "yaxis2": {
         "anchor": "x2",
         "autorange": true,
         "domain": [
          0,
          0.375
         ],
         "range": [
          0,
          180115.7894736842
         ],
         "title": {
          "text": "Cocoa Production (tons)"
         },
         "type": "linear"
        }
       }
      },
      "image/png": "[encoded data removed]",
      "text/html": [
       "<div>                            <div id=\"31df24da-45d2-456c-8723-3e257f6f1529\" class=\"plotly-graph-div\" style=\"height:800px; width:100%;\"></div>            <script type=\"text/javascript\">                require([\"plotly\"], function(Plotly) {                    window.PLOTLYENV=window.PLOTLYENV || {};                                    if (document.getElementById(\"31df24da-45d2-456c-8723-3e257f6f1529\")) {                    Plotly.newPlot(                        \"31df24da-45d2-456c-8723-3e257f6f1529\",                        [{\"name\":\"Nigeria\",\"x\":[1961,1962,1963,1964,1965,1966,1967,1968,1969,1970,1971,1972,1973,1974,1975,1976,1977,1978,1979,1980,1981,1982,1983,1984,1985,1986,1987,1988,1989,1990,1991,1992,1993,1994,1995,1996,1997,1998,1999,2000,2001,2002,2003,2004,2005,2006,2007,2008,2009,2010,2011,2012,2013,2014,2015,2016,2017,2018,2019,2020,2021,2022],\"y\":[197000,182000,223000,298300,184600,267200,238000,191800,220800,304800,256600,241100,215000,214000,216000,181000,193000,157000,151000,153000,174000,156000,140000,160800,160000,148000,150000,253000,256000,244000,268000,292000,306000,323000,203000,323000,318000,370000,225000,338000,340000,362000,385000,412000,441000,485000,360570,367020,363510,399200,391000,383000,367000,329870,302066,298029,250000,270000,250000,357608,280000,280000],\"type\":\"bar\",\"xaxis\":\"x\",\"yaxis\":\"y\"},{\"name\":\"Ghana\",\"x\":[1961,1962,1963,1964,1965,1966,1967,1968,1969,1970,1971,1972,1973,1974,1975,1976,1977,1978,1979,1980,1981,1982,1983,1984,1985,1986,1987,1988,1989,1990,1991,1992,1993,1994,1995,1996,1997,1998,1999,2000,2001,2002,2003,2004,2005,2006,2007,2008,2009,2010,2011,2012,2013,2014,2015,2016,2017,2018,2019,2020,2021,2022],\"y\":[415200,428100,427800,580500,415800,381100,423500,327000,414300,406000,470000,415700,343000,385100,397300,326700,277400,268200,280800,277200,246500,202500,168100,166700,194400,226400,188170,246700,295052,293355,241796,312122,254652,288075,403900,403000,322490,409360,434200,436600,389591,340562,497000,737000,740000,734000,614500,680781,710638,632037,700020,879348,835466,858720,858720,858720,969300,904700,811700,800000,1047385,1108663],\"type\":\"bar\",\"xaxis\":\"x\",\"yaxis\":\"y\"},{\"name\":\"C\\u00f4te d'Ivoire\",\"x\":[1961,1962,1963,1964,1965,1966,1967,1968,1969,1970,1971,1972,1973,1974,1975,1976,1977,1978,1979,1980,1981,1982,1983,1984,1985,1986,1987,1988,1989,1990,1991,1992,1993,1994,1995,1996,1997,1998,1999,2000,2001,2002,2003,2004,2005,2006,2007,2008,2009,2010,2011,2012,2013,2014,2015,2016,2017,2018,2019,2020,2021,2022],\"y\":[85000,110000,115000,139069,121772,149662,146640,144476,180706,179156,225814,185445,208522,241511,231136,232330,303621,318381,397759,417222,464751,360445,411081,565042,555115,610680,664031,832177,780521,807501,764708,813009,803799,808662,1120000,1235300,1119110,1201119,1163025,1401101,1212428,1264708,1351546,1407213,1286330,1408854,1229908,1382441,1223153,1301347,1511255,1485882,1448992,1637778,1796000,1634000,2034000,2113189,2235043,2200000,2228459,2230000],\"type\":\"bar\",\"xaxis\":\"x\",\"yaxis\":\"y\"},{\"name\":\"Cameroon\",\"x\":[1961,1962,1963,1964,1965,1966,1967,1968,1969,1970,1971,1972,1973,1974,1975,1976,1977,1978,1979,1980,1981,1982,1983,1984,1985,1986,1987,1988,1989,1990,1991,1992,1993,1994,1995,1996,1997,1998,1999,2000,2001,2002,2003,2004,2005,2006,2007,2008,2009,2010,2011,2012,2013,2014,2015,2016,2017,2018,2019,2020,2021,2022],\"y\":[75100,76000,85000,91200,78800,86500,93000,102000,108186,133770,138775,126780,132245,120014,96000,82500,107000,110865,123179,117053,118344,105153,108900,120894,118320,123090,132800,129400,125700,115000,105000,97835,99000,107000,134000,125726,126807,125000,116000,122600,122100,125000,154965,166754,140000,164553,212619,229203,235500,264077,240000,268941,275000,269228,310000,344752,322248,317530,301255,280077,295000,300000],\"type\":\"bar\",\"xaxis\":\"x\",\"yaxis\":\"y\"},{\"name\":\"Congo\",\"x\":[1961,1962,1963,1964,1965,1966,1967,1968,1969,1970,1971,1972,1973,1974,1975,1976,1977,1978,1979,1980,1981,1982,1983,1984,1985,1986,1987,1988,1989,1990,1991,1992,1993,1994,1995,1996,1997,1998,1999,2000,2001,2002,2003,2004,2005,2006,2007,2008,2009,2010,2011,2012,2013,2014,2015,2016,2017,2018,2019,2020,2021,2022],\"y\":[900,630,800,1100,800,877,1144,1288,1195,1344,2026,2146,2114,2422,2912,2332,3021,2275,2772,2334,2214,2492,1588,1864,1845,1842,1751,1611,1994,2115,2188,2263,2341,2423,2507,1858,1875,1900,1331,1304,1278,1253,1000,1000,800,800,700,927,800,1200,1500,2800,5000,5000,2500,3800,3500,4500,5000,7000,16000,20000],\"type\":\"bar\",\"xaxis\":\"x2\",\"yaxis\":\"y2\"},{\"name\":\"Democratic Republic of the Congo\",\"x\":[1961,1962,1963,1964,1965,1966,1967,1968,1969,1970,1971,1972,1973,1974,1975,1976,1977,1978,1979,1980,1981,1982,1983,1984,1985,1986,1987,1988,1989,1990,1991,1992,1993,1994,1995,1996,1997,1998,1999,2000,2001,2002,2003,2004,2005,2006,2007,2008,2009,2010,2011,2012,2013,2014,2015,2016,2017,2018,2019,2020,2021,2022],\"y\":[5800,6500,5600,4800,4300,5300,4900,4500,4900,6200,6300,6500,5700,5000,5300,5400,5200,4300,5700,5900,4513,4300,4300,4388,4530,6300,5500,6200,7100,7180,7270,7361,7453,7547,7551,7576,7207,6909,6565,6582,6235,5750,5710,5670,5630,5590,5590,5510,5470,5431,5392,2000,2000,3000,6000,10200,13500,18475,22058,26337,20000,20000],\"type\":\"bar\",\"xaxis\":\"x2\",\"yaxis\":\"y2\"},{\"name\":\"Equatorial Guinea\",\"x\":[1961,1962,1963,1964,1965,1966,1967,1968,1969,1970,1971,1972,1973,1974,1975,1976,1977,1978,1979,1980,1981,1982,1983,1984,1985,1986,1987,1988,1989,1990,1991,1992,1993,1994,1995,1996,1997,1998,1999,2000,2001,2002,2003,2004,2005,2006,2007,2008,2009,2010,2011,2012,2013,2014,2015,2016,2017,2018,2019,2020,2021,2022],\"y\":[26000,30900,33000,35100,35400,38200,33600,38000,28000,35000,22000,10000,12000,13000,10000,6000,6000,6000,6000,8000,9900,7000,6600,7000,6000,6200,8300,8190,6570,6793,5673,4298,2957,3214,4248,4318,5018,4356,5500,4900,4000,2013,2422,3000,3000,2000,2500,2000,1200,1200,900,700,700,892,1000,1000,1000,1000,1000,1000,600,1000],\"type\":\"bar\",\"xaxis\":\"x2\",\"yaxis\":\"y2\"},{\"name\":\"Gabon\",\"x\":[1961,1962,1963,1964,1965,1966,1967,1968,1969,1970,1971,1972,1973,1974,1975,1976,1977,1978,1979,1980,1981,1982,1983,1984,1985,1986,1987,1988,1989,1990,1991,1992,1993,1994,1995,1996,1997,1998,1999,2000,2001,2002,2003,2004,2005,2006,2007,2008,2009,2010,2011,2012,2013,2014,2015,2016,2017,2018,2019,2020,2021,2022],\"y\":[3190,3360,3600,4000,2170,4296,4061,4751,4366,6095,5031,5030,5151,4869,4549,3573,3573,3710,4754,3814,2850,2900,2500,1595,1500,1628,1574,1802,1800,1502,1802,2925,1966,718,774,1022,686,500,700,500,416,500,600,200,195,200,100,200,200,100,600,100,200,203,100,100,100,100,100,100,100,100],\"type\":\"bar\",\"xaxis\":\"x2\",\"yaxis\":\"y2\"},{\"name\":\"Sao Tome and Principe\",\"x\":[1961,1962,1963,1964,1965,1966,1967,1968,1969,1970,1971,1972,1973,1974,1975,1976,1977,1978,1979,1980,1981,1982,1983,1984,1985,1986,1987,1988,1989,1990,1991,1992,1993,1994,1995,1996,1997,1998,1999,2000,2001,2002,2003,2004,2005,2006,2007,2008,2009,2010,2011,2012,2013,2014,2015,2016,2017,2018,2019,2020,2021,2022],\"y\":[9100,9600,7800,10700,8900,10900,10900,10600,9100,9700,11034,10395,11300,10400,7900,7000,5500,7000,7500,5700,6500,5100,4700,3378,3848,4032,3957,5050,3707,2799,2862,4188,4492,4500,3671,3753,3138,3928,4197,3418,3652,3462,3820,2500,1843,1900,2800,2000,2500,2600,2218,2230,2617,3200,3000,3001,3501,3046,3000,3000,3000,3000],\"type\":\"bar\",\"xaxis\":\"x2\",\"yaxis\":\"y2\"},{\"name\":\"Sierra Leone\",\"x\":[1961,1962,1963,1964,1965,1966,1967,1968,1969,1970,1971,1972,1973,1974,1975,1976,1977,1978,1979,1980,1981,1982,1983,1984,1985,1986,1987,1988,1989,1990,1991,1992,1993,1994,1995,1996,1997,1998,1999,2000,2001,2002,2003,2004,2005,2006,2007,2008,2009,2010,2011,2012,2013,2014,2015,2016,2017,2018,2019,2020,2021,2022],\"y\":[2840,4780,3310,3180,2980,4534,3869,5039,3782,5080,4770,7028,7931,5933,6340,5790,5454,7100,9111,8497,9026,15100,12500,16600,18600,20900,23500,23700,24200,24000,24000,5400,5400,11737,10000,11000,13000,14500,10920,12000,11000,11500,12000,13500,15000,13940,14000,10500,10000,19700,18000,18000,14850,17082,12000,47705,48903,50150,14648,18000,15000,18000],\"type\":\"bar\",\"xaxis\":\"x2\",\"yaxis\":\"y2\"},{\"name\":\"Togo\",\"x\":[1961,1962,1963,1964,1965,1966,1967,1968,1969,1970,1971,1972,1973,1974,1975,1976,1977,1978,1979,1980,1981,1982,1983,1984,1985,1986,1987,1988,1989,1990,1991,1992,1993,1994,1995,1996,1997,1998,1999,2000,2001,2002,2003,2004,2005,2006,2007,2008,2009,2010,2011,2012,2013,2014,2015,2016,2017,2018,2019,2020,2021,2022],\"y\":[11550,11400,13900,17500,14300,16300,18338,20000,23600,27900,29000,18600,16500,14500,17750,14100,16700,12600,15300,16300,11000,13800,16600,9795,14272,12585,11057,8265,7646,6814,4100,6000,7200,5500,6000,14200,5800,12200,7000,6600,10200,7500,5100,21700,53000,73000,78000,111000,105000,101500,142500,34500,15000,22182,10000,10000,8500,7500,10600,13000,10000,14000],\"type\":\"bar\",\"xaxis\":\"x2\",\"yaxis\":\"y2\"}],                        {\"template\":{\"data\":{\"histogram2dcontour\":[{\"type\":\"histogram2dcontour\",\"colorbar\":{\"outlinewidth\":0,\"ticks\":\"\"},\"colorscale\":[[0.0,\"#0d0887\"],[0.1111111111111111,\"#46039f\"],[0.2222222222222222,\"#7201a8\"],[0.3333333333333333,\"#9c179e\"],[0.4444444444444444,\"#bd3786\"],[0.5555555555555556,\"#d8576b\"],[0.6666666666666666,\"#ed7953\"],[0.7777777777777778,\"#fb9f3a\"],[0.8888888888888888,\"#fdca26\"],[1.0,\"#f0f921\"]]}],\"choropleth\":[{\"type\":\"choropleth\",\"colorbar\":{\"outlinewidth\":0,\"ticks\":\"\"}}],\"histogram2d\":[{\"type\":\"histogram2d\",\"colorbar\":{\"outlinewidth\":0,\"ticks\":\"\"},\"colorscale\":[[0.0,\"#0d0887\"],[0.1111111111111111,\"#46039f\"],[0.2222222222222222,\"#7201a8\"],[0.3333333333333333,\"#9c179e\"],[0.4444444444444444,\"#bd3786\"],[0.5555555555555556,\"#d8576b\"],[0.6666666666666666,\"#ed7953\"],[0.7777777777777778,\"#fb9f3a\"],[0.8888888888888888,\"#fdca26\"],[1.0,\"#f0f921\"]]}],\"heatmap\":[{\"type\":\"heatmap\",\"colorbar\":{\"outlinewidth\":0,\"ticks\":\"\"},\"colorscale\":[[0.0,\"#0d0887\"],[0.1111111111111111,\"#46039f\"],[0.2222222222222222,\"#7201a8\"],[0.3333333333333333,\"#9c179e\"],[0.4444444444444444,\"#bd3786\"],[0.5555555555555556,\"#d8576b\"],[0.6666666666666666,\"#ed7953\"],[0.7777777777777778,\"#fb9f3a\"],[0.8888888888888888,\"#fdca26\"],[1.0,\"#f0f921\"]]}],\"heatmapgl\":[{\"type\":\"heatmapgl\",\"colorbar\":{\"outlinewidth\":0,\"ticks\":\"\"},\"colorscale\":[[0.0,\"#0d0887\"],[0.1111111111111111,\"#46039f\"],[0.2222222222222222,\"#7201a8\"],[0.3333333333333333,\"#9c179e\"],[0.4444444444444444,\"#bd3786\"],[0.5555555555555556,\"#d8576b\"],[0.6666666666666666,\"#ed7953\"],[0.7777777777777778,\"#fb9f3a\"],[0.8888888888888888,\"#fdca26\"],[1.0,\"#f0f921\"]]}],\"contourcarpet\":[{\"type\":\"contourcarpet\",\"colorbar\":{\"outlinewidth\":0,\"ticks\":\"\"}}],\"contour\":[{\"type\":\"contour\",\"colorbar\":{\"outlinewidth\":0,\"ticks\":\"\"},\"colorscale\":[[0.0,\"#0d0887\"],[0.1111111111111111,\"#46039f\"],[0.2222222222222222,\"#7201a8\"],[0.3333333333333333,\"#9c179e\"],[0.4444444444444444,\"#bd3786\"],[0.5555555555555556,\"#d8576b\"],[0.6666666666666666,\"#ed7953\"],[0.7777777777777778,\"#fb9f3a\"],[0.8888888888888888,\"#fdca26\"],[1.0,\"#f0f921\"]]}],\"surface\":[{\"type\":\"surface\",\"colorbar\":{\"outlinewidth\":0,\"ticks\":\"\"},\"colorscale\":[[0.0,\"#0d0887\"],[0.1111111111111111,\"#46039f\"],[0.2222222222222222,\"#7201a8\"],[0.3333333333333333,\"#9c179e\"],[0.4444444444444444,\"#bd3786\"],[0.5555555555555556,\"#d8576b\"],[0.6666666666666666,\"#ed7953\"],[0.7777777777777778,\"#fb9f3a\"],[0.8888888888888888,\"#fdca26\"],[1.0,\"#f0f921\"]]}],\"mesh3d\":[{\"type\":\"mesh3d\",\"colorbar\":{\"outlinewidth\":0,\"ticks\":\"\"}}],\"scatter\":[{\"fillpattern\":{\"fillmode\":\"overlay\",\"size\":10,\"solidity\":0.2},\"type\":\"scatter\"}],\"parcoords\":[{\"type\":\"parcoords\",\"line\":{\"colorbar\":{\"outlinewidth\":0,\"ticks\":\"\"}}}],\"scatterpolargl\":[{\"type\":\"scatterpolargl\",\"marker\":{\"colorbar\":{\"outlinewidth\":0,\"ticks\":\"\"}}}],\"bar\":[{\"error_x\":{\"color\":\"#2a3f5f\"},\"error_y\":{\"color\":\"#2a3f5f\"},\"marker\":{\"line\":{\"color\":\"#E5ECF6\",\"width\":0.5},\"pattern\":{\"fillmode\":\"overlay\",\"size\":10,\"solidity\":0.2}},\"type\":\"bar\"}],\"scattergeo\":[{\"type\":\"scattergeo\",\"marker\":{\"colorbar\":{\"outlinewidth\":0,\"ticks\":\"\"}}}],\"scatterpolar\":[{\"type\":\"scatterpolar\",\"marker\":{\"colorbar\":{\"outlinewidth\":0,\"ticks\":\"\"}}}],\"histogram\":[{\"marker\":{\"pattern\":{\"fillmode\":\"overlay\",\"size\":10,\"solidity\":0.2}},\"type\":\"histogram\"}],\"scattergl\":[{\"type\":\"scattergl\",\"marker\":{\"colorbar\":{\"outlinewidth\":0,\"ticks\":\"\"}}}],\"scatter3d\":[{\"type\":\"scatter3d\",\"line\":{\"colorbar\":{\"outlinewidth\":0,\"ticks\":\"\"}},\"marker\":{\"colorbar\":{\"outlinewidth\":0,\"ticks\":\"\"}}}],\"scattermapbox\":[{\"type\":\"scattermapbox\",\"marker\":{\"colorbar\":{\"outlinewidth\":0,\"ticks\":\"\"}}}],\"scatterternary\":[{\"type\":\"scatterternary\",\"marker\":{\"colorbar\":{\"outlinewidth\":0,\"ticks\":\"\"}}}],\"scattercarpet\":[{\"type\":\"scattercarpet\",\"marker\":{\"colorbar\":{\"outlinewidth\":0,\"ticks\":\"\"}}}],\"carpet\":[{\"aaxis\":{\"endlinecolor\":\"#2a3f5f\",\"gridcolor\":\"white\",\"linecolor\":\"white\",\"minorgridcolor\":\"white\",\"startlinecolor\":\"#2a3f5f\"},\"baxis\":{\"endlinecolor\":\"#2a3f5f\",\"gridcolor\":\"white\",\"linecolor\":\"white\",\"minorgridcolor\":\"white\",\"startlinecolor\":\"#2a3f5f\"},\"type\":\"carpet\"}],\"table\":[{\"cells\":{\"fill\":{\"color\":\"#EBF0F8\"},\"line\":{\"color\":\"white\"}},\"header\":{\"fill\":{\"color\":\"#C8D4E3\"},\"line\":{\"color\":\"white\"}},\"type\":\"table\"}],\"barpolar\":[{\"marker\":{\"line\":{\"color\":\"#E5ECF6\",\"width\":0.5},\"pattern\":{\"fillmode\":\"overlay\",\"size\":10,\"solidity\":0.2}},\"type\":\"barpolar\"}],\"pie\":[{\"automargin\":true,\"type\":\"pie\"}]},\"layout\":{\"autotypenumbers\":\"strict\",\"colorway\":[\"#636efa\",\"#EF553B\",\"#00cc96\",\"#ab63fa\",\"#FFA15A\",\"#19d3f3\",\"#FF6692\",\"#B6E880\",\"#FF97FF\",\"#FECB52\"],\"font\":{\"color\":\"#2a3f5f\"},\"hovermode\":\"closest\",\"hoverlabel\":{\"align\":\"left\"},\"paper_bgcolor\":\"white\",\"plot_bgcolor\":\"#E5ECF6\",\"polar\":{\"bgcolor\":\"#E5ECF6\",\"angularaxis\":{\"gridcolor\":\"white\",\"linecolor\":\"white\",\"ticks\":\"\"},\"radialaxis\":{\"gridcolor\":\"white\",\"linecolor\":\"white\",\"ticks\":\"\"}},\"ternary\":{\"bgcolor\":\"#E5ECF6\",\"aaxis\":{\"gridcolor\":\"white\",\"linecolor\":\"white\",\"ticks\":\"\"},\"baxis\":{\"gridcolor\":\"white\",\"linecolor\":\"white\",\"ticks\":\"\"},\"caxis\":{\"gridcolor\":\"white\",\"linecolor\":\"white\",\"ticks\":\"\"}},\"coloraxis\":{\"colorbar\":{\"outlinewidth\":0,\"ticks\":\"\"}},\"colorscale\":{\"sequential\":[[0.0,\"#0d0887\"],[0.1111111111111111,\"#46039f\"],[0.2222222222222222,\"#7201a8\"],[0.3333333333333333,\"#9c179e\"],[0.4444444444444444,\"#bd3786\"],[0.5555555555555556,\"#d8576b\"],[0.6666666666666666,\"#ed7953\"],[0.7777777777777778,\"#fb9f3a\"],[0.8888888888888888,\"#fdca26\"],[1.0,\"#f0f921\"]],\"sequentialminus\":[[0.0,\"#0d0887\"],[0.1111111111111111,\"#46039f\"],[0.2222222222222222,\"#7201a8\"],[0.3333333333333333,\"#9c179e\"],[0.4444444444444444,\"#bd3786\"],[0.5555555555555556,\"#d8576b\"],[0.6666666666666666,\"#ed7953\"],[0.7777777777777778,\"#fb9f3a\"],[0.8888888888888888,\"#fdca26\"],[1.0,\"#f0f921\"]],\"diverging\":[[0,\"#8e0152\"],[0.1,\"#c51b7d\"],[0.2,\"#de77ae\"],[0.3,\"#f1b6da\"],[0.4,\"#fde0ef\"],[0.5,\"#f7f7f7\"],[0.6,\"#e6f5d0\"],[0.7,\"#b8e186\"],[0.8,\"#7fbc41\"],[0.9,\"#4d9221\"],[1,\"#276419\"]]},\"xaxis\":{\"gridcolor\":\"white\",\"linecolor\":\"white\",\"ticks\":\"\",\"title\":{\"standoff\":15},\"zerolinecolor\":\"white\",\"automargin\":true,\"zerolinewidth\":2},\"yaxis\":{\"gridcolor\":\"white\",\"linecolor\":\"white\",\"ticks\":\"\",\"title\":{\"standoff\":15},\"zerolinecolor\":\"white\",\"automargin\":true,\"zerolinewidth\":2},\"scene\":{\"xaxis\":{\"backgroundcolor\":\"#E5ECF6\",\"gridcolor\":\"white\",\"linecolor\":\"white\",\"showbackground\":true,\"ticks\":\"\",\"zerolinecolor\":\"white\",\"gridwidth\":2},\"yaxis\":{\"backgroundcolor\":\"#E5ECF6\",\"gridcolor\":\"white\",\"linecolor\":\"white\",\"showbackground\":true,\"ticks\":\"\",\"zerolinecolor\":\"white\",\"gridwidth\":2},\"zaxis\":{\"backgroundcolor\":\"#E5ECF6\",\"gridcolor\":\"white\",\"linecolor\":\"white\",\"showbackground\":true,\"ticks\":\"\",\"zerolinecolor\":\"white\",\"gridwidth\":2}},\"shapedefaults\":{\"line\":{\"color\":\"#2a3f5f\"}},\"annotationdefaults\":{\"arrowcolor\":\"#2a3f5f\",\"arrowhead\":0,\"arrowwidth\":1},\"geo\":{\"bgcolor\":\"white\",\"landcolor\":\"#E5ECF6\",\"subunitcolor\":\"white\",\"showland\":true,\"showlakes\":true,\"lakecolor\":\"white\"},\"title\":{\"x\":0.05},\"mapbox\":{\"style\":\"light\"}}},\"xaxis\":{\"anchor\":\"y\",\"domain\":[0.0,1.0],\"title\":{\"text\":\"Year\"}},\"yaxis\":{\"anchor\":\"x\",\"domain\":[0.625,1.0],\"title\":{\"text\":\"Cocoa Production (tons)\"}},\"xaxis2\":{\"anchor\":\"y2\",\"domain\":[0.0,1.0],\"title\":{\"text\":\"Year\"}},\"yaxis2\":{\"anchor\":\"x2\",\"domain\":[0.0,0.375],\"title\":{\"text\":\"Cocoa Production (tons)\"}},\"annotations\":[{\"font\":{\"size\":16},\"showarrow\":false,\"text\":\"High Production Countries\",\"x\":0.5,\"xanchor\":\"center\",\"xref\":\"paper\",\"y\":1.0,\"yanchor\":\"bottom\",\"yref\":\"paper\"},{\"font\":{\"size\":16},\"showarrow\":false,\"text\":\"Low Production Countries\",\"x\":0.5,\"xanchor\":\"center\",\"xref\":\"paper\",\"y\":0.375,\"yanchor\":\"bottom\",\"yref\":\"paper\"}],\"title\":{\"text\":\"Cocoa Production Comparison\",\"x\":0.5},\"barmode\":\"stack\",\"legend\":{\"title\":{\"text\":\"Country\"}},\"height\":800},                        {\"responsive\": true}                    ).then(function(){\n",
       "                            \n",
       "var gd = document.getElementById('31df24da-45d2-456c-8723-3e257f6f1529');\n",
       "var x = new MutationObserver(function (mutations, observer) {{\n",
       "        var display = window.getComputedStyle(gd).display;\n",
       "        if (!display || display === 'none') {{\n",
       "            console.log([gd, 'removed!']);\n",
       "            Plotly.purge(gd);\n",
       "            observer.disconnect();\n",
       "        }}\n",
       "}});\n",
       "\n",
       "// Listen for the removal of the full notebook cells\n",
       "var notebookContainer = gd.closest('#notebook-container');\n",
       "if (notebookContainer) {{\n",
       "    x.observe(notebookContainer, {childList: true});\n",
       "}}\n",
       "\n",
       "// Listen for the clearing of the current output cell\n",
       "var outputEl = gd.closest('.output');\n",
       "if (outputEl) {{\n",
       "    x.observe(outputEl, {childList: true});\n",
       "}}\n",
       "\n",
       "                        })                };                });            </script>        </div>"
      ]
     },
     "metadata": {},
     "output_type": "display_data"
    }
   ],
   "source": [
    "# Need to split the low and high producing countries\n",
    "\n",
    "import pandas as pd\n",
    "import plotly.graph_objects as go\n",
    "from plotly.subplots import make_subplots\n",
    "\n",
    "# High production countries list\n",
    "high_prod_countries = ['Nigeria', 'Ghana', 'Côte d\\'Ivoire', 'Cameroon']\n",
    "\n",
    "# Create the subplot figure with 2 rows for high and low production countries\n",
    "fig = make_subplots(rows=2, cols=1, subplot_titles=('High Production Countries', 'Low Production Countries'))\n",
    "\n",
    "# Add the high production countries to the first row of subplots\n",
    "for country in high_prod_countries:\n",
    "    fig.add_trace(\n",
    "        go.Bar(\n",
    "            x=grouped_df.index,  # The years\n",
    "            y=grouped_df[country],\n",
    "            name=country\n",
    "        ),\n",
    "        row=1, col=1\n",
    "    )\n",
    "\n",
    "# Add the low production countries to the second row of subplots\n",
    "for country in grouped_df.columns:\n",
    "    if country not in high_prod_countries:\n",
    "        fig.add_trace(\n",
    "            go.Bar(\n",
    "                x=grouped_df.index,  # The years\n",
    "                y=grouped_df[country],\n",
    "                name=country\n",
    "            ),\n",
    "            row=2, col=1\n",
    "        )\n",
    "\n",
    "# Update the layout to stack the bars\n",
    "fig.update_layout(\n",
    "    barmode='stack',\n",
    "    title={'text': \"Cocoa Production Comparison\", 'x': 0.5},\n",
    "    xaxis_title=\"Year\",\n",
    "    yaxis_title=\"Cocoa Production (tons)\",\n",
    "    legend_title=\"Country\",\n",
    "    height=800  # Adjust the height if necessary\n",
    ")\n",
    "\n",
    "# Update xaxis properties for both subplots\n",
    "fig.update_xaxes(title_text=\"Year\", row=1, col=1)\n",
    "fig.update_xaxes(title_text=\"Year\", row=2, col=1)\n",
    "\n",
    "# Update yaxis properties for both subplots\n",
    "fig.update_yaxes(title_text=\"Cocoa Production (tons)\", row=1, col=1)\n",
    "fig.update_yaxes(title_text=\"Cocoa Production (tons)\", row=2, col=1)\n",
    "\n",
    "# Show the figure\n",
    "fig.show()\n",
    "\n",
    "# Blue is used twice need to change it\n",
    "\n"
   ]
  },
  {
   "cell_type": "code",
   "execution_count": null,
   "id": "c8f550ce-2dbf-4766-86ec-10ff9993a595",
   "metadata": {},
   "outputs": [],
   "source": []
  }
 ],
 "metadata": {
  "kernelspec": {
   "display_name": "Python 3 (ipykernel)",
   "language": "python",
   "name": "python3"
  },
  "language_info": {
   "codemirror_mode": {
    "name": "ipython",
    "version": 3
   },
   "file_extension": ".py",
   "mimetype": "text/x-python",
   "name": "python",
   "nbconvert_exporter": "python",
   "pygments_lexer": "ipython3",
   "version": "3.11.5"
  }
 },
 "nbformat": 4,
 "nbformat_minor": 5
}
